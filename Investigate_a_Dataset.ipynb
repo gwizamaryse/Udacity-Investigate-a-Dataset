{
 "cells": [
  {
   "cell_type": "markdown",
   "metadata": {},
   "source": [
    "\n",
    "# Relationship between life expenctacy, Fertility Rate and Economical growth for all countries - grouped by income level\n",
    "\n",
    "## Table of Contents\n",
    "<ul>\n",
    "<li><a href=\"#intro\">Introduction</a></li>\n",
    "<li><a href=\"#wrangling\">Data Wrangling</a></li>\n",
    "<li><a href=\"#eda\">Exploratory Data Analysis</a></li>\n",
    "<li><a href=\"#conclusions\">Conclusions</a></li>\n",
    "</ul>"
   ]
  },
  {
   "cell_type": "markdown",
   "metadata": {},
   "source": [
    "<a id='intro'></a>\n",
    "## Introduction\n",
    "\n",
    "Is there a relationship between how long people live, their number of children and the economic growth of their country? Based on datasets from Gapminder https://www.gapminder.org/data/ on all countries, the goal is to uncover if correlations exisit between those how long people live, how much babies they make and economic growth. \n",
    "I am working with 4 datasets: <br> \n",
    "1. income_per_person_gdppercapita_ppp_inflation_adjusted.csv <br> the GDP or Gross Domestic Product. It has often been used to classify countries by Income. this dataset is in american dollars <br>\n",
    "2. life_expectancy_years.csv <br> This dataset show how much people live in average in each country\n",
    "3. children_per_woman_total_fertility.csv \n",
    "*\"This entry focuses on the number of births per woman in a population. The most commonly used metric is the Total Fertility Rate (TFR) – or often simply 'fertility rate' – which measures the average number of children per woman\"* \n",
    "<br> \n",
    "https://ourworldindata.org/fertility-rate <br>\n",
    "4. gdp_total_yearly_growth.csv <br> this dataset shows economical growth for each countries in percentage of the GDP(Gross Domestic product). \n",
    "\n",
    "<p> The data will be analyzed since the year 1950. the year 1950 is selected because it is after just after the 2nd world war II which has affected most countries in the west. It is also since that time that many countries all over the world could benefit from economical growth for example many asians countries. Almost all African countries gain their independance from the 1960's. \n",
    "    And equally relevant to this analysis, with women going to work and other major change in lifestyles,the need to question traditionally big family arised in the following decades.<br>\n",
    "<p> what is the relationship between fertility, longevity and economical growth for countries? is there even a relationship? \n",
    "Through the analysis that I am going to make, we will get to discover what data says about different countries from all income levels. <br> \n",
    "    \n",
    "   #### steps to follow: \n",
    "   \n",
    "   * we are first going to Group countries by GDP or Income Level\n",
    "   * The datasets provided have Data from the year 1800 which is more 200 years of data. Since we are only trying to understand changes since the 1950's , we are going to reduce our data from the year 1950 to  2018. \n",
    "  \n",
    "   * we will then group countries in each datasets -Fertility Rate, Life Expectancy and economic Growth based on their income level\n",
    "   * Compare the average life expectancy of countries based on their income level\n",
    "   * Compare How much children are born in country based on their income level\n",
    "   * Finally is there a relationship between growth, how much babies are born and economical growth in a country? \n",
    "   \n",
    "   Let's begin by importing all the packages that will be needed"
   ]
  },
  {
   "cell_type": "code",
   "execution_count": 1,
   "metadata": {},
   "outputs": [],
   "source": [
    "# importing packages needed for the analysis\n",
    "import pandas as pd\n",
    "import numpy as np\n",
    "import seaborn as sns\n",
    "sns.set_style(\"darkgrid\")\n",
    "import matplotlib.pyplot as plt\n",
    "from matplotlib.pyplot import figure\n",
    "%matplotlib inline\n"
   ]
  },
  {
   "cell_type": "markdown",
   "metadata": {},
   "source": [
    "<a id='wrangling'></a>\n",
    "## Data Wrangling\n",
    "\n",
    "In this section I am going to load the datasets that will be used. <br>\n",
    "1.children_per_woman_total_fertility.csv <br>\n",
    "2.gdp_total_yearly_growth.csv <br>\n",
    "3.income_per_person_gdppercapita_ppp_inflation_adjusted.csv <br>\n",
    "4.life_expectancy_years.csv <br>\n",
    "\n",
    "These datasets are already neat and clean. In this section I will get a look at the data to prepare it for the actual analysis. \n",
    "The data will be loaded, checked for null values, uneccessary columns will be droped. etc..\n",
    "\n",
    "\n",
    "### General Properties"
   ]
  },
  {
   "cell_type": "markdown",
   "metadata": {},
   "source": [
    "#### Income per person GDP\n",
    "<br>\n",
    "This dataset will be used to group countries by income or GDP Per Capita. \n",
    "In order to do that, I could simply use the Quartiles in the data which simply to use group countries by the GDP income in 4 groups based on the most recent year. or to use the New Country Classification by income level  from the World bank. https://blogs.worldbank.org/opendata/new-country-classifications-income-level-2018-2019. but we will get in to that later. for now let's have a quick look at the dataset"
   ]
  },
  {
   "cell_type": "code",
   "execution_count": 2,
   "metadata": {
    "scrolled": true
   },
   "outputs": [
    {
     "data": {
      "text/html": [
       "<div>\n",
       "<style>\n",
       "    .dataframe thead tr:only-child th {\n",
       "        text-align: right;\n",
       "    }\n",
       "\n",
       "    .dataframe thead th {\n",
       "        text-align: left;\n",
       "    }\n",
       "\n",
       "    .dataframe tbody tr th {\n",
       "        vertical-align: top;\n",
       "    }\n",
       "</style>\n",
       "<table border=\"1\" class=\"dataframe\">\n",
       "  <thead>\n",
       "    <tr style=\"text-align: right;\">\n",
       "      <th></th>\n",
       "      <th>country</th>\n",
       "      <th>1800</th>\n",
       "      <th>1801</th>\n",
       "      <th>1802</th>\n",
       "      <th>1803</th>\n",
       "      <th>1804</th>\n",
       "      <th>1805</th>\n",
       "      <th>1806</th>\n",
       "      <th>1807</th>\n",
       "      <th>1808</th>\n",
       "      <th>...</th>\n",
       "      <th>2009</th>\n",
       "      <th>2010</th>\n",
       "      <th>2011</th>\n",
       "      <th>2012</th>\n",
       "      <th>2013</th>\n",
       "      <th>2014</th>\n",
       "      <th>2015</th>\n",
       "      <th>2016</th>\n",
       "      <th>2017</th>\n",
       "      <th>2018</th>\n",
       "    </tr>\n",
       "  </thead>\n",
       "  <tbody>\n",
       "    <tr>\n",
       "      <th>0</th>\n",
       "      <td>Afghanistan</td>\n",
       "      <td>603</td>\n",
       "      <td>603</td>\n",
       "      <td>603</td>\n",
       "      <td>603</td>\n",
       "      <td>603</td>\n",
       "      <td>603</td>\n",
       "      <td>603</td>\n",
       "      <td>603</td>\n",
       "      <td>603</td>\n",
       "      <td>...</td>\n",
       "      <td>1530</td>\n",
       "      <td>1610</td>\n",
       "      <td>1660</td>\n",
       "      <td>1840</td>\n",
       "      <td>1810</td>\n",
       "      <td>1780</td>\n",
       "      <td>1750</td>\n",
       "      <td>1740</td>\n",
       "      <td>1800</td>\n",
       "      <td>1870</td>\n",
       "    </tr>\n",
       "    <tr>\n",
       "      <th>1</th>\n",
       "      <td>Albania</td>\n",
       "      <td>667</td>\n",
       "      <td>667</td>\n",
       "      <td>667</td>\n",
       "      <td>667</td>\n",
       "      <td>667</td>\n",
       "      <td>668</td>\n",
       "      <td>668</td>\n",
       "      <td>668</td>\n",
       "      <td>668</td>\n",
       "      <td>...</td>\n",
       "      <td>9530</td>\n",
       "      <td>9930</td>\n",
       "      <td>10200</td>\n",
       "      <td>10400</td>\n",
       "      <td>10500</td>\n",
       "      <td>10700</td>\n",
       "      <td>11000</td>\n",
       "      <td>11400</td>\n",
       "      <td>11900</td>\n",
       "      <td>12400</td>\n",
       "    </tr>\n",
       "    <tr>\n",
       "      <th>2</th>\n",
       "      <td>Algeria</td>\n",
       "      <td>715</td>\n",
       "      <td>716</td>\n",
       "      <td>717</td>\n",
       "      <td>718</td>\n",
       "      <td>719</td>\n",
       "      <td>720</td>\n",
       "      <td>721</td>\n",
       "      <td>722</td>\n",
       "      <td>723</td>\n",
       "      <td>...</td>\n",
       "      <td>12600</td>\n",
       "      <td>12900</td>\n",
       "      <td>13000</td>\n",
       "      <td>13200</td>\n",
       "      <td>13300</td>\n",
       "      <td>13500</td>\n",
       "      <td>13700</td>\n",
       "      <td>14000</td>\n",
       "      <td>13800</td>\n",
       "      <td>13700</td>\n",
       "    </tr>\n",
       "    <tr>\n",
       "      <th>3</th>\n",
       "      <td>Andorra</td>\n",
       "      <td>1200</td>\n",
       "      <td>1200</td>\n",
       "      <td>1200</td>\n",
       "      <td>1200</td>\n",
       "      <td>1210</td>\n",
       "      <td>1210</td>\n",
       "      <td>1210</td>\n",
       "      <td>1210</td>\n",
       "      <td>1220</td>\n",
       "      <td>...</td>\n",
       "      <td>41700</td>\n",
       "      <td>39000</td>\n",
       "      <td>42000</td>\n",
       "      <td>41900</td>\n",
       "      <td>43700</td>\n",
       "      <td>44900</td>\n",
       "      <td>46600</td>\n",
       "      <td>48200</td>\n",
       "      <td>49800</td>\n",
       "      <td>51500</td>\n",
       "    </tr>\n",
       "    <tr>\n",
       "      <th>4</th>\n",
       "      <td>Angola</td>\n",
       "      <td>618</td>\n",
       "      <td>620</td>\n",
       "      <td>623</td>\n",
       "      <td>626</td>\n",
       "      <td>628</td>\n",
       "      <td>631</td>\n",
       "      <td>634</td>\n",
       "      <td>637</td>\n",
       "      <td>640</td>\n",
       "      <td>...</td>\n",
       "      <td>5910</td>\n",
       "      <td>5900</td>\n",
       "      <td>5910</td>\n",
       "      <td>6000</td>\n",
       "      <td>6190</td>\n",
       "      <td>6260</td>\n",
       "      <td>6230</td>\n",
       "      <td>6030</td>\n",
       "      <td>5940</td>\n",
       "      <td>5850</td>\n",
       "    </tr>\n",
       "  </tbody>\n",
       "</table>\n",
       "<p>5 rows × 220 columns</p>\n",
       "</div>"
      ],
      "text/plain": [
       "       country  1800  1801  1802  1803  1804  1805  1806  1807  1808  ...    \\\n",
       "0  Afghanistan   603   603   603   603   603   603   603   603   603  ...     \n",
       "1      Albania   667   667   667   667   667   668   668   668   668  ...     \n",
       "2      Algeria   715   716   717   718   719   720   721   722   723  ...     \n",
       "3      Andorra  1200  1200  1200  1200  1210  1210  1210  1210  1220  ...     \n",
       "4       Angola   618   620   623   626   628   631   634   637   640  ...     \n",
       "\n",
       "    2009   2010   2011   2012   2013   2014   2015   2016   2017   2018  \n",
       "0   1530   1610   1660   1840   1810   1780   1750   1740   1800   1870  \n",
       "1   9530   9930  10200  10400  10500  10700  11000  11400  11900  12400  \n",
       "2  12600  12900  13000  13200  13300  13500  13700  14000  13800  13700  \n",
       "3  41700  39000  42000  41900  43700  44900  46600  48200  49800  51500  \n",
       "4   5910   5900   5910   6000   6190   6260   6230   6030   5940   5850  \n",
       "\n",
       "[5 rows x 220 columns]"
      ]
     },
     "execution_count": 2,
     "metadata": {},
     "output_type": "execute_result"
    }
   ],
   "source": [
    "#importing the income_per_person_gdppercapita_ppp_inflation_adjusted.csv file\n",
    "#running df.head() for a quick view at the data\n",
    "df_gdp = pd.read_csv('income_per_person_gdppercapita_ppp_inflation_adjusted.csv')\n",
    "df_gdp.head()"
   ]
  },
  {
   "cell_type": "code",
   "execution_count": 3,
   "metadata": {
    "scrolled": true
   },
   "outputs": [
    {
     "name": "stdout",
     "output_type": "stream",
     "text": [
      "<class 'pandas.core.frame.DataFrame'>\n",
      "RangeIndex: 193 entries, 0 to 192\n",
      "Columns: 220 entries, country to 2018\n",
      "dtypes: int64(219), object(1)\n",
      "memory usage: 331.8+ KB\n"
     ]
    }
   ],
   "source": [
    "#checking the composition of the dataframe\n",
    "df_gdp.info()"
   ]
  },
  {
   "cell_type": "code",
   "execution_count": 4,
   "metadata": {},
   "outputs": [
    {
     "data": {
      "text/plain": [
       "(193, 220)"
      ]
     },
     "execution_count": 4,
     "metadata": {},
     "output_type": "execute_result"
    }
   ],
   "source": [
    "#checking the number of columns and rows\n",
    "df_gdp.shape"
   ]
  },
  {
   "cell_type": "markdown",
   "metadata": {},
   "source": [
    "This list is very important because we will group all the othes datasets based on income level.\n",
    "checking for unique values guarantees that each country is only repeated once, which is what we need to ensure that our analysis is right."
   ]
  },
  {
   "cell_type": "code",
   "execution_count": 5,
   "metadata": {},
   "outputs": [
    {
     "data": {
      "text/plain": [
       "193"
      ]
     },
     "execution_count": 5,
     "metadata": {},
     "output_type": "execute_result"
    }
   ],
   "source": [
    "#checking unique values in the GDP dataset\n",
    "unique = df_gdp.country.unique()\n",
    "len(unique)"
   ]
  },
  {
   "cell_type": "markdown",
   "metadata": {},
   "source": [
    "the shape of our data showed that the data has 193. we can see from the command above that all countries are only included one in the dataset. great! let's continue by checking for null values. "
   ]
  },
  {
   "cell_type": "code",
   "execution_count": 6,
   "metadata": {},
   "outputs": [
    {
     "data": {
      "text/plain": [
       "False"
      ]
     },
     "execution_count": 6,
     "metadata": {},
     "output_type": "execute_result"
    }
   ],
   "source": [
    "df_gdp.isnull().values.any()"
   ]
  },
  {
   "cell_type": "markdown",
   "metadata": {},
   "source": [
    "we can that the dataset has data on 193 countries. From the year 1800 to 2018. With no missing value. <br>\n",
    "before dropping columns,let's first load the other datasets in order to understand better the data and the periods covered by all the datasets. since we will be comparing countries, it's good to know that the same countries and periods are covered. "
   ]
  },
  {
   "cell_type": "markdown",
   "metadata": {},
   "source": [
    "#### GDP Yearly Growth\n",
    "\n",
    "This data set describre the increase in GDP by year. "
   ]
  },
  {
   "cell_type": "code",
   "execution_count": 7,
   "metadata": {},
   "outputs": [
    {
     "data": {
      "text/html": [
       "<div>\n",
       "<style>\n",
       "    .dataframe thead tr:only-child th {\n",
       "        text-align: right;\n",
       "    }\n",
       "\n",
       "    .dataframe thead th {\n",
       "        text-align: left;\n",
       "    }\n",
       "\n",
       "    .dataframe tbody tr th {\n",
       "        vertical-align: top;\n",
       "    }\n",
       "</style>\n",
       "<table border=\"1\" class=\"dataframe\">\n",
       "  <thead>\n",
       "    <tr style=\"text-align: right;\">\n",
       "      <th></th>\n",
       "      <th>country</th>\n",
       "      <th>1801</th>\n",
       "      <th>1802</th>\n",
       "      <th>1803</th>\n",
       "      <th>1804</th>\n",
       "      <th>1805</th>\n",
       "      <th>1806</th>\n",
       "      <th>1807</th>\n",
       "      <th>1808</th>\n",
       "      <th>1809</th>\n",
       "      <th>...</th>\n",
       "      <th>2004</th>\n",
       "      <th>2005</th>\n",
       "      <th>2006</th>\n",
       "      <th>2007</th>\n",
       "      <th>2008</th>\n",
       "      <th>2009</th>\n",
       "      <th>2010</th>\n",
       "      <th>2011</th>\n",
       "      <th>2012</th>\n",
       "      <th>2013</th>\n",
       "    </tr>\n",
       "  </thead>\n",
       "  <tbody>\n",
       "    <tr>\n",
       "      <th>0</th>\n",
       "      <td>Afghanistan</td>\n",
       "      <td>0.000</td>\n",
       "      <td>0.000</td>\n",
       "      <td>0.000</td>\n",
       "      <td>0.000</td>\n",
       "      <td>0.000</td>\n",
       "      <td>0.000</td>\n",
       "      <td>0.000</td>\n",
       "      <td>0.000</td>\n",
       "      <td>0.000</td>\n",
       "      <td>...</td>\n",
       "      <td>6.55</td>\n",
       "      <td>12.40</td>\n",
       "      <td>4.56</td>\n",
       "      <td>13.600</td>\n",
       "      <td>2.50</td>\n",
       "      <td>20.20</td>\n",
       "      <td>8.04</td>\n",
       "      <td>6.98</td>\n",
       "      <td>14.80</td>\n",
       "      <td>4.47</td>\n",
       "    </tr>\n",
       "    <tr>\n",
       "      <th>1</th>\n",
       "      <td>Albania</td>\n",
       "      <td>0.418</td>\n",
       "      <td>0.418</td>\n",
       "      <td>0.418</td>\n",
       "      <td>0.418</td>\n",
       "      <td>0.418</td>\n",
       "      <td>0.418</td>\n",
       "      <td>0.418</td>\n",
       "      <td>0.418</td>\n",
       "      <td>0.418</td>\n",
       "      <td>...</td>\n",
       "      <td>5.97</td>\n",
       "      <td>5.53</td>\n",
       "      <td>5.77</td>\n",
       "      <td>5.850</td>\n",
       "      <td>7.24</td>\n",
       "      <td>3.28</td>\n",
       "      <td>3.36</td>\n",
       "      <td>2.86</td>\n",
       "      <td>2.64</td>\n",
       "      <td>2.06</td>\n",
       "    </tr>\n",
       "    <tr>\n",
       "      <th>2</th>\n",
       "      <td>Algeria</td>\n",
       "      <td>0.356</td>\n",
       "      <td>0.356</td>\n",
       "      <td>0.356</td>\n",
       "      <td>0.356</td>\n",
       "      <td>0.356</td>\n",
       "      <td>0.356</td>\n",
       "      <td>0.356</td>\n",
       "      <td>0.356</td>\n",
       "      <td>0.356</td>\n",
       "      <td>...</td>\n",
       "      <td>5.41</td>\n",
       "      <td>5.38</td>\n",
       "      <td>1.72</td>\n",
       "      <td>3.420</td>\n",
       "      <td>2.02</td>\n",
       "      <td>1.70</td>\n",
       "      <td>3.57</td>\n",
       "      <td>2.31</td>\n",
       "      <td>2.58</td>\n",
       "      <td>2.99</td>\n",
       "    </tr>\n",
       "    <tr>\n",
       "      <th>3</th>\n",
       "      <td>Andorra</td>\n",
       "      <td>0.166</td>\n",
       "      <td>0.166</td>\n",
       "      <td>0.166</td>\n",
       "      <td>0.166</td>\n",
       "      <td>0.166</td>\n",
       "      <td>0.166</td>\n",
       "      <td>0.166</td>\n",
       "      <td>0.166</td>\n",
       "      <td>0.166</td>\n",
       "      <td>...</td>\n",
       "      <td>8.64</td>\n",
       "      <td>7.80</td>\n",
       "      <td>4.97</td>\n",
       "      <td>0.161</td>\n",
       "      <td>-4.22</td>\n",
       "      <td>-5.06</td>\n",
       "      <td>-3.43</td>\n",
       "      <td>-2.83</td>\n",
       "      <td>NaN</td>\n",
       "      <td>NaN</td>\n",
       "    </tr>\n",
       "    <tr>\n",
       "      <th>4</th>\n",
       "      <td>Angola</td>\n",
       "      <td>0.425</td>\n",
       "      <td>0.425</td>\n",
       "      <td>0.425</td>\n",
       "      <td>0.425</td>\n",
       "      <td>0.425</td>\n",
       "      <td>0.425</td>\n",
       "      <td>0.425</td>\n",
       "      <td>0.425</td>\n",
       "      <td>0.425</td>\n",
       "      <td>...</td>\n",
       "      <td>11.20</td>\n",
       "      <td>20.50</td>\n",
       "      <td>18.60</td>\n",
       "      <td>23.200</td>\n",
       "      <td>13.80</td>\n",
       "      <td>2.39</td>\n",
       "      <td>3.45</td>\n",
       "      <td>3.87</td>\n",
       "      <td>4.96</td>\n",
       "      <td>3.79</td>\n",
       "    </tr>\n",
       "  </tbody>\n",
       "</table>\n",
       "<p>5 rows × 214 columns</p>\n",
       "</div>"
      ],
      "text/plain": [
       "       country   1801   1802   1803   1804   1805   1806   1807   1808   1809  \\\n",
       "0  Afghanistan  0.000  0.000  0.000  0.000  0.000  0.000  0.000  0.000  0.000   \n",
       "1      Albania  0.418  0.418  0.418  0.418  0.418  0.418  0.418  0.418  0.418   \n",
       "2      Algeria  0.356  0.356  0.356  0.356  0.356  0.356  0.356  0.356  0.356   \n",
       "3      Andorra  0.166  0.166  0.166  0.166  0.166  0.166  0.166  0.166  0.166   \n",
       "4       Angola  0.425  0.425  0.425  0.425  0.425  0.425  0.425  0.425  0.425   \n",
       "\n",
       "   ...    2004   2005   2006    2007   2008   2009  2010  2011   2012  2013  \n",
       "0  ...    6.55  12.40   4.56  13.600   2.50  20.20  8.04  6.98  14.80  4.47  \n",
       "1  ...    5.97   5.53   5.77   5.850   7.24   3.28  3.36  2.86   2.64  2.06  \n",
       "2  ...    5.41   5.38   1.72   3.420   2.02   1.70  3.57  2.31   2.58  2.99  \n",
       "3  ...    8.64   7.80   4.97   0.161  -4.22  -5.06 -3.43 -2.83    NaN   NaN  \n",
       "4  ...   11.20  20.50  18.60  23.200  13.80   2.39  3.45  3.87   4.96  3.79  \n",
       "\n",
       "[5 rows x 214 columns]"
      ]
     },
     "execution_count": 7,
     "metadata": {},
     "output_type": "execute_result"
    }
   ],
   "source": [
    "#importing the income_per_person_gdppercapita_ppp_inflation_adjusted.csv file\n",
    "#running df.head() for a quick view at the data\n",
    "df_growth = pd.read_csv('gdp_total_yearly_growth.csv')\n",
    "df_growth.head()"
   ]
  },
  {
   "cell_type": "code",
   "execution_count": 8,
   "metadata": {
    "scrolled": true
   },
   "outputs": [
    {
     "name": "stdout",
     "output_type": "stream",
     "text": [
      "<class 'pandas.core.frame.DataFrame'>\n",
      "RangeIndex: 194 entries, 0 to 193\n",
      "Columns: 214 entries, country to 2013\n",
      "dtypes: float64(213), object(1)\n",
      "memory usage: 324.4+ KB\n"
     ]
    }
   ],
   "source": [
    "df_growth.info()"
   ]
  },
  {
   "cell_type": "code",
   "execution_count": 9,
   "metadata": {},
   "outputs": [
    {
     "data": {
      "text/plain": [
       "(194, 214)"
      ]
     },
     "execution_count": 9,
     "metadata": {},
     "output_type": "execute_result"
    }
   ],
   "source": [
    "df_growth.shape"
   ]
  },
  {
   "cell_type": "code",
   "execution_count": 10,
   "metadata": {},
   "outputs": [
    {
     "data": {
      "text/plain": [
       "True"
      ]
     },
     "execution_count": 10,
     "metadata": {},
     "output_type": "execute_result"
    }
   ],
   "source": [
    "#checking if there is any missing values\n",
    "df_growth.isnull().values.any()"
   ]
  },
  {
   "cell_type": "code",
   "execution_count": 11,
   "metadata": {},
   "outputs": [
    {
     "data": {
      "text/plain": [
       "42"
      ]
     },
     "execution_count": 11,
     "metadata": {},
     "output_type": "execute_result"
    }
   ],
   "source": [
    "#checking how many null values are in the dataframe. depending on the volumes of missing values, we will decide of the next step\n",
    "df_growth.isnull().sum().sum()"
   ]
  },
  {
   "cell_type": "code",
   "execution_count": 12,
   "metadata": {},
   "outputs": [
    {
     "data": {
      "text/plain": [
       "True"
      ]
     },
     "execution_count": 12,
     "metadata": {},
     "output_type": "execute_result"
    }
   ],
   "source": [
    "nan_rows = df_growth.isnull().any().any()\n",
    "nan_rows"
   ]
  },
  {
   "cell_type": "markdown",
   "metadata": {},
   "source": [
    "The growth by GDP Dataset had 194 entries or countries. with 214 columns. As we can see from the df_growth.info() command, the period covered goes from 1801 to 2013. \n",
    "he previous dataset on gdp/income had had a shape of (193,220). This dataset has a shape of (194,214). \n",
    "Since our exploration will be a comparaison, after we load all the dataset, we need to make sure that the countries and periods covered are the same. or at least understand and notice the irregularities and includes them in our conclusions. "
   ]
  },
  {
   "cell_type": "markdown",
   "metadata": {},
   "source": [
    "### Life Expectancy \n",
    "\n",
    "This data set describre the average life expectancy in years.\n",
    "we are going to import the file (life_expectancy_years.csv)"
   ]
  },
  {
   "cell_type": "code",
   "execution_count": 13,
   "metadata": {},
   "outputs": [
    {
     "data": {
      "text/html": [
       "<div>\n",
       "<style>\n",
       "    .dataframe thead tr:only-child th {\n",
       "        text-align: right;\n",
       "    }\n",
       "\n",
       "    .dataframe thead th {\n",
       "        text-align: left;\n",
       "    }\n",
       "\n",
       "    .dataframe tbody tr th {\n",
       "        vertical-align: top;\n",
       "    }\n",
       "</style>\n",
       "<table border=\"1\" class=\"dataframe\">\n",
       "  <thead>\n",
       "    <tr style=\"text-align: right;\">\n",
       "      <th></th>\n",
       "      <th>country</th>\n",
       "      <th>1800</th>\n",
       "      <th>1801</th>\n",
       "      <th>1802</th>\n",
       "      <th>1803</th>\n",
       "      <th>1804</th>\n",
       "      <th>1805</th>\n",
       "      <th>1806</th>\n",
       "      <th>1807</th>\n",
       "      <th>1808</th>\n",
       "      <th>...</th>\n",
       "      <th>2009</th>\n",
       "      <th>2010</th>\n",
       "      <th>2011</th>\n",
       "      <th>2012</th>\n",
       "      <th>2013</th>\n",
       "      <th>2014</th>\n",
       "      <th>2015</th>\n",
       "      <th>2016</th>\n",
       "      <th>2017</th>\n",
       "      <th>2018</th>\n",
       "    </tr>\n",
       "  </thead>\n",
       "  <tbody>\n",
       "    <tr>\n",
       "      <th>0</th>\n",
       "      <td>Afghanistan</td>\n",
       "      <td>28.2</td>\n",
       "      <td>28.2</td>\n",
       "      <td>28.2</td>\n",
       "      <td>28.2</td>\n",
       "      <td>28.2</td>\n",
       "      <td>28.2</td>\n",
       "      <td>28.1</td>\n",
       "      <td>28.1</td>\n",
       "      <td>28.1</td>\n",
       "      <td>...</td>\n",
       "      <td>55.7</td>\n",
       "      <td>56.2</td>\n",
       "      <td>56.7</td>\n",
       "      <td>57.2</td>\n",
       "      <td>57.7</td>\n",
       "      <td>57.8</td>\n",
       "      <td>57.9</td>\n",
       "      <td>58.0</td>\n",
       "      <td>58.4</td>\n",
       "      <td>58.7</td>\n",
       "    </tr>\n",
       "    <tr>\n",
       "      <th>1</th>\n",
       "      <td>Albania</td>\n",
       "      <td>35.4</td>\n",
       "      <td>35.4</td>\n",
       "      <td>35.4</td>\n",
       "      <td>35.4</td>\n",
       "      <td>35.4</td>\n",
       "      <td>35.4</td>\n",
       "      <td>35.4</td>\n",
       "      <td>35.4</td>\n",
       "      <td>35.4</td>\n",
       "      <td>...</td>\n",
       "      <td>75.9</td>\n",
       "      <td>76.3</td>\n",
       "      <td>76.7</td>\n",
       "      <td>77.0</td>\n",
       "      <td>77.2</td>\n",
       "      <td>77.4</td>\n",
       "      <td>77.6</td>\n",
       "      <td>77.7</td>\n",
       "      <td>77.9</td>\n",
       "      <td>78.0</td>\n",
       "    </tr>\n",
       "    <tr>\n",
       "      <th>2</th>\n",
       "      <td>Algeria</td>\n",
       "      <td>28.8</td>\n",
       "      <td>28.8</td>\n",
       "      <td>28.8</td>\n",
       "      <td>28.8</td>\n",
       "      <td>28.8</td>\n",
       "      <td>28.8</td>\n",
       "      <td>28.8</td>\n",
       "      <td>28.8</td>\n",
       "      <td>28.8</td>\n",
       "      <td>...</td>\n",
       "      <td>76.3</td>\n",
       "      <td>76.5</td>\n",
       "      <td>76.7</td>\n",
       "      <td>76.8</td>\n",
       "      <td>77.0</td>\n",
       "      <td>77.1</td>\n",
       "      <td>77.3</td>\n",
       "      <td>77.4</td>\n",
       "      <td>77.6</td>\n",
       "      <td>77.9</td>\n",
       "    </tr>\n",
       "    <tr>\n",
       "      <th>3</th>\n",
       "      <td>Andorra</td>\n",
       "      <td>NaN</td>\n",
       "      <td>NaN</td>\n",
       "      <td>NaN</td>\n",
       "      <td>NaN</td>\n",
       "      <td>NaN</td>\n",
       "      <td>NaN</td>\n",
       "      <td>NaN</td>\n",
       "      <td>NaN</td>\n",
       "      <td>NaN</td>\n",
       "      <td>...</td>\n",
       "      <td>82.7</td>\n",
       "      <td>82.7</td>\n",
       "      <td>82.6</td>\n",
       "      <td>82.6</td>\n",
       "      <td>82.6</td>\n",
       "      <td>82.6</td>\n",
       "      <td>82.5</td>\n",
       "      <td>82.5</td>\n",
       "      <td>NaN</td>\n",
       "      <td>NaN</td>\n",
       "    </tr>\n",
       "    <tr>\n",
       "      <th>4</th>\n",
       "      <td>Angola</td>\n",
       "      <td>27.0</td>\n",
       "      <td>27.0</td>\n",
       "      <td>27.0</td>\n",
       "      <td>27.0</td>\n",
       "      <td>27.0</td>\n",
       "      <td>27.0</td>\n",
       "      <td>27.0</td>\n",
       "      <td>27.0</td>\n",
       "      <td>27.0</td>\n",
       "      <td>...</td>\n",
       "      <td>59.3</td>\n",
       "      <td>60.1</td>\n",
       "      <td>60.9</td>\n",
       "      <td>61.7</td>\n",
       "      <td>62.5</td>\n",
       "      <td>63.3</td>\n",
       "      <td>64.0</td>\n",
       "      <td>64.7</td>\n",
       "      <td>64.9</td>\n",
       "      <td>65.2</td>\n",
       "    </tr>\n",
       "  </tbody>\n",
       "</table>\n",
       "<p>5 rows × 220 columns</p>\n",
       "</div>"
      ],
      "text/plain": [
       "       country  1800  1801  1802  1803  1804  1805  1806  1807  1808  ...   \\\n",
       "0  Afghanistan  28.2  28.2  28.2  28.2  28.2  28.2  28.1  28.1  28.1  ...    \n",
       "1      Albania  35.4  35.4  35.4  35.4  35.4  35.4  35.4  35.4  35.4  ...    \n",
       "2      Algeria  28.8  28.8  28.8  28.8  28.8  28.8  28.8  28.8  28.8  ...    \n",
       "3      Andorra   NaN   NaN   NaN   NaN   NaN   NaN   NaN   NaN   NaN  ...    \n",
       "4       Angola  27.0  27.0  27.0  27.0  27.0  27.0  27.0  27.0  27.0  ...    \n",
       "\n",
       "   2009  2010  2011  2012  2013  2014  2015  2016  2017  2018  \n",
       "0  55.7  56.2  56.7  57.2  57.7  57.8  57.9  58.0  58.4  58.7  \n",
       "1  75.9  76.3  76.7  77.0  77.2  77.4  77.6  77.7  77.9  78.0  \n",
       "2  76.3  76.5  76.7  76.8  77.0  77.1  77.3  77.4  77.6  77.9  \n",
       "3  82.7  82.7  82.6  82.6  82.6  82.6  82.5  82.5   NaN   NaN  \n",
       "4  59.3  60.1  60.9  61.7  62.5  63.3  64.0  64.7  64.9  65.2  \n",
       "\n",
       "[5 rows x 220 columns]"
      ]
     },
     "execution_count": 13,
     "metadata": {},
     "output_type": "execute_result"
    }
   ],
   "source": [
    "# importing the dataset\n",
    "#checking the head\n",
    "df_expectancy = pd.read_csv('life_expectancy_years.csv')\n",
    "df_expectancy.head()"
   ]
  },
  {
   "cell_type": "code",
   "execution_count": 14,
   "metadata": {},
   "outputs": [
    {
     "data": {
      "text/plain": [
       "(187, 220)"
      ]
     },
     "execution_count": 14,
     "metadata": {},
     "output_type": "execute_result"
    }
   ],
   "source": [
    "#checking the shape of the dataframe\n",
    "df_expectancy.shape"
   ]
  },
  {
   "cell_type": "code",
   "execution_count": 15,
   "metadata": {},
   "outputs": [
    {
     "name": "stdout",
     "output_type": "stream",
     "text": [
      "<class 'pandas.core.frame.DataFrame'>\n",
      "RangeIndex: 187 entries, 0 to 186\n",
      "Columns: 220 entries, country to 2018\n",
      "dtypes: float64(219), object(1)\n",
      "memory usage: 321.5+ KB\n"
     ]
    }
   ],
   "source": [
    "#the dataframe has 220 columns, and 187 rows. datatypes are float which is quite normale and expected for age.\n",
    "df_expectancy.info()"
   ]
  },
  {
   "cell_type": "code",
   "execution_count": 16,
   "metadata": {},
   "outputs": [
    {
     "data": {
      "text/plain": [
       "True"
      ]
     },
     "execution_count": 16,
     "metadata": {},
     "output_type": "execute_result"
    }
   ],
   "source": [
    "#Checking if there is any null values\n",
    "df_expectancy.isnull().values.any()"
   ]
  },
  {
   "cell_type": "code",
   "execution_count": 17,
   "metadata": {},
   "outputs": [
    {
     "data": {
      "text/plain": [
       "country    0\n",
       "1800       3\n",
       "1801       3\n",
       "1802       3\n",
       "1803       3\n",
       "dtype: int64"
      ]
     },
     "execution_count": 17,
     "metadata": {},
     "output_type": "execute_result"
    }
   ],
   "source": [
    "df_expectancy.isnull().sum().head()"
   ]
  },
  {
   "cell_type": "code",
   "execution_count": 18,
   "metadata": {},
   "outputs": [
    {
     "data": {
      "text/plain": [
       "516"
      ]
     },
     "execution_count": 18,
     "metadata": {},
     "output_type": "execute_result"
    }
   ],
   "source": [
    "#counting null values\n",
    "df_expectancy.isnull().sum().sum()"
   ]
  },
  {
   "cell_type": "markdown",
   "metadata": {},
   "source": [
    "516 seems to be too big of a number to just drop everything. this dataframe covers period from 1800 to 2018. In order to respond to our analysis questions we will only need the period from 1950. we will come back to this later. now let's load the fertility dataset.\n",
    "The null values will be handled once the data is grouped. "
   ]
  },
  {
   "cell_type": "markdown",
   "metadata": {
    "slideshow": {
     "slide_type": "slide"
    }
   },
   "source": [
    "### Fertility Rate or Number of children per woman\n",
    "\n",
    "This data set describre the average number of children per woman in all countries. \n",
    "we are going to import the file (children_per_woman_total_fertility.csv)"
   ]
  },
  {
   "cell_type": "code",
   "execution_count": 19,
   "metadata": {
    "scrolled": true
   },
   "outputs": [
    {
     "data": {
      "text/html": [
       "<div>\n",
       "<style>\n",
       "    .dataframe thead tr:only-child th {\n",
       "        text-align: right;\n",
       "    }\n",
       "\n",
       "    .dataframe thead th {\n",
       "        text-align: left;\n",
       "    }\n",
       "\n",
       "    .dataframe tbody tr th {\n",
       "        vertical-align: top;\n",
       "    }\n",
       "</style>\n",
       "<table border=\"1\" class=\"dataframe\">\n",
       "  <thead>\n",
       "    <tr style=\"text-align: right;\">\n",
       "      <th></th>\n",
       "      <th>country</th>\n",
       "      <th>1800</th>\n",
       "      <th>1801</th>\n",
       "      <th>1802</th>\n",
       "      <th>1803</th>\n",
       "      <th>1804</th>\n",
       "      <th>1805</th>\n",
       "      <th>1806</th>\n",
       "      <th>1807</th>\n",
       "      <th>1808</th>\n",
       "      <th>...</th>\n",
       "      <th>2009</th>\n",
       "      <th>2010</th>\n",
       "      <th>2011</th>\n",
       "      <th>2012</th>\n",
       "      <th>2013</th>\n",
       "      <th>2014</th>\n",
       "      <th>2015</th>\n",
       "      <th>2016</th>\n",
       "      <th>2017</th>\n",
       "      <th>2018</th>\n",
       "    </tr>\n",
       "  </thead>\n",
       "  <tbody>\n",
       "    <tr>\n",
       "      <th>0</th>\n",
       "      <td>Afghanistan</td>\n",
       "      <td>7.00</td>\n",
       "      <td>7.00</td>\n",
       "      <td>7.00</td>\n",
       "      <td>7.00</td>\n",
       "      <td>7.00</td>\n",
       "      <td>7.00</td>\n",
       "      <td>7.00</td>\n",
       "      <td>7.00</td>\n",
       "      <td>7.00</td>\n",
       "      <td>...</td>\n",
       "      <td>6.04</td>\n",
       "      <td>5.82</td>\n",
       "      <td>5.60</td>\n",
       "      <td>5.38</td>\n",
       "      <td>5.17</td>\n",
       "      <td>4.98</td>\n",
       "      <td>4.80</td>\n",
       "      <td>4.64</td>\n",
       "      <td>4.48</td>\n",
       "      <td>4.33</td>\n",
       "    </tr>\n",
       "    <tr>\n",
       "      <th>1</th>\n",
       "      <td>Albania</td>\n",
       "      <td>4.60</td>\n",
       "      <td>4.60</td>\n",
       "      <td>4.60</td>\n",
       "      <td>4.60</td>\n",
       "      <td>4.60</td>\n",
       "      <td>4.60</td>\n",
       "      <td>4.60</td>\n",
       "      <td>4.60</td>\n",
       "      <td>4.60</td>\n",
       "      <td>...</td>\n",
       "      <td>1.65</td>\n",
       "      <td>1.65</td>\n",
       "      <td>1.67</td>\n",
       "      <td>1.69</td>\n",
       "      <td>1.70</td>\n",
       "      <td>1.71</td>\n",
       "      <td>1.71</td>\n",
       "      <td>1.71</td>\n",
       "      <td>1.71</td>\n",
       "      <td>1.71</td>\n",
       "    </tr>\n",
       "    <tr>\n",
       "      <th>2</th>\n",
       "      <td>Algeria</td>\n",
       "      <td>6.99</td>\n",
       "      <td>6.99</td>\n",
       "      <td>6.99</td>\n",
       "      <td>6.99</td>\n",
       "      <td>6.99</td>\n",
       "      <td>6.99</td>\n",
       "      <td>6.99</td>\n",
       "      <td>6.99</td>\n",
       "      <td>6.99</td>\n",
       "      <td>...</td>\n",
       "      <td>2.83</td>\n",
       "      <td>2.89</td>\n",
       "      <td>2.93</td>\n",
       "      <td>2.94</td>\n",
       "      <td>2.92</td>\n",
       "      <td>2.89</td>\n",
       "      <td>2.84</td>\n",
       "      <td>2.78</td>\n",
       "      <td>2.71</td>\n",
       "      <td>2.64</td>\n",
       "    </tr>\n",
       "    <tr>\n",
       "      <th>3</th>\n",
       "      <td>Angola</td>\n",
       "      <td>6.93</td>\n",
       "      <td>6.93</td>\n",
       "      <td>6.93</td>\n",
       "      <td>6.93</td>\n",
       "      <td>6.93</td>\n",
       "      <td>6.93</td>\n",
       "      <td>6.93</td>\n",
       "      <td>6.94</td>\n",
       "      <td>6.94</td>\n",
       "      <td>...</td>\n",
       "      <td>6.24</td>\n",
       "      <td>6.16</td>\n",
       "      <td>6.08</td>\n",
       "      <td>6.00</td>\n",
       "      <td>5.92</td>\n",
       "      <td>5.84</td>\n",
       "      <td>5.77</td>\n",
       "      <td>5.69</td>\n",
       "      <td>5.62</td>\n",
       "      <td>5.55</td>\n",
       "    </tr>\n",
       "    <tr>\n",
       "      <th>4</th>\n",
       "      <td>Antigua and Barbuda</td>\n",
       "      <td>5.00</td>\n",
       "      <td>5.00</td>\n",
       "      <td>4.99</td>\n",
       "      <td>4.99</td>\n",
       "      <td>4.99</td>\n",
       "      <td>4.98</td>\n",
       "      <td>4.98</td>\n",
       "      <td>4.97</td>\n",
       "      <td>4.97</td>\n",
       "      <td>...</td>\n",
       "      <td>2.15</td>\n",
       "      <td>2.13</td>\n",
       "      <td>2.12</td>\n",
       "      <td>2.10</td>\n",
       "      <td>2.09</td>\n",
       "      <td>2.08</td>\n",
       "      <td>2.06</td>\n",
       "      <td>2.05</td>\n",
       "      <td>2.04</td>\n",
       "      <td>2.03</td>\n",
       "    </tr>\n",
       "  </tbody>\n",
       "</table>\n",
       "<p>5 rows × 220 columns</p>\n",
       "</div>"
      ],
      "text/plain": [
       "               country  1800  1801  1802  1803  1804  1805  1806  1807  1808  \\\n",
       "0          Afghanistan  7.00  7.00  7.00  7.00  7.00  7.00  7.00  7.00  7.00   \n",
       "1              Albania  4.60  4.60  4.60  4.60  4.60  4.60  4.60  4.60  4.60   \n",
       "2              Algeria  6.99  6.99  6.99  6.99  6.99  6.99  6.99  6.99  6.99   \n",
       "3               Angola  6.93  6.93  6.93  6.93  6.93  6.93  6.93  6.94  6.94   \n",
       "4  Antigua and Barbuda  5.00  5.00  4.99  4.99  4.99  4.98  4.98  4.97  4.97   \n",
       "\n",
       "   ...   2009  2010  2011  2012  2013  2014  2015  2016  2017  2018  \n",
       "0  ...   6.04  5.82  5.60  5.38  5.17  4.98  4.80  4.64  4.48  4.33  \n",
       "1  ...   1.65  1.65  1.67  1.69  1.70  1.71  1.71  1.71  1.71  1.71  \n",
       "2  ...   2.83  2.89  2.93  2.94  2.92  2.89  2.84  2.78  2.71  2.64  \n",
       "3  ...   6.24  6.16  6.08  6.00  5.92  5.84  5.77  5.69  5.62  5.55  \n",
       "4  ...   2.15  2.13  2.12  2.10  2.09  2.08  2.06  2.05  2.04  2.03  \n",
       "\n",
       "[5 rows x 220 columns]"
      ]
     },
     "execution_count": 19,
     "metadata": {},
     "output_type": "execute_result"
    }
   ],
   "source": [
    "#import the children_per_woman_total_fertility.csv dataset\n",
    "df_birth = pd.read_csv('children_per_woman_total_fertility.csv')\n",
    "df_birth.head()"
   ]
  },
  {
   "cell_type": "code",
   "execution_count": 20,
   "metadata": {},
   "outputs": [
    {
     "name": "stdout",
     "output_type": "stream",
     "text": [
      "<class 'pandas.core.frame.DataFrame'>\n",
      "RangeIndex: 184 entries, 0 to 183\n",
      "Columns: 220 entries, country to 2018\n",
      "dtypes: float64(219), object(1)\n",
      "memory usage: 316.3+ KB\n"
     ]
    }
   ],
   "source": [
    "#checking the dataframe\n",
    "df_birth.info()"
   ]
  },
  {
   "cell_type": "code",
   "execution_count": 21,
   "metadata": {},
   "outputs": [
    {
     "data": {
      "text/plain": [
       "(184, 220)"
      ]
     },
     "execution_count": 21,
     "metadata": {},
     "output_type": "execute_result"
    }
   ],
   "source": [
    "#checking the shape of the dataframe\n",
    "df_birth.shape"
   ]
  },
  {
   "cell_type": "code",
   "execution_count": 22,
   "metadata": {},
   "outputs": [
    {
     "data": {
      "text/plain": [
       "False"
      ]
     },
     "execution_count": 22,
     "metadata": {},
     "output_type": "execute_result"
    }
   ],
   "source": [
    "# checking null values\n",
    "df_birth.isnull().values.any()"
   ]
  },
  {
   "cell_type": "markdown",
   "metadata": {},
   "source": [
    "There are no missing values in the Fertility Rate Dataset. the dataset covers from the year 1800 to the year 2018.\n",
    "The shape of the dataframe is 184 rows and 220 columns. "
   ]
  },
  {
   "cell_type": "markdown",
   "metadata": {},
   "source": [
    "# Grouping by GDP Levels"
   ]
  },
  {
   "cell_type": "markdown",
   "metadata": {},
   "source": [
    "In this section we are going to check if the same countries are present in all 4 datasets, check the period covered, group by income levels. after this step we will proceed with the Exploratoy Data Analysis. \n",
    "<ul>\n",
    "<li>group the countries by income level (4 levels) </li>\n",
    "<li>create a new daframe for each of those levels that will be used for Exploratory Data Analysis later</li>\n",
    "<li>check the countries in the dataframe</li>\n",
    "<li>Adjust the periods covered by all 4 datasets </li>\n",
    "</ul>\n",
    "\n",
    "#### Comparings Datasets shapes\n",
    "\n",
    "By comparing the 4 datasets shapes we can see that the number of columns is not the same in all 4 datasets. The columns represents the years. the rows the countries included.As you can see in the table below.<br> \n",
    "But for now let's focus on grouping the countries by Income Level based on the GDP Dataset."
   ]
  },
  {
   "cell_type": "markdown",
   "metadata": {},
   "source": [
    "Dataset shape     | Gdp_Income_Level    | Life Expectancy     | Fertility Rate     | Gdp Growth |\n",
    "  ---             |----------           |------               |------              |----------  |\n",
    "columns|   193               |     187             |    184             | 194        |\n",
    " rows    |  220                |     220             |     220            |    214     |\n",
    " \n",
    " let's make sure that the countries compared are the same, we are going to compare the columns from all the 4 datasets. \n",
    " we will look into that later. let's proceed with the grouping by income first. since the grouping of the other dataset will also be done based on gdp."
   ]
  },
  {
   "cell_type": "markdown",
   "metadata": {},
   "source": [
    "### Grouping by Income Level\n",
    "\n",
    "the file income_per_person_gdppercapita_ppp_inflation_adjusted.csv from Gapminder gives data from 1800 to 2018. \n",
    "since we are trying to group and observe what happened in the last decades, we are going to use the latest year to group countries. we are going to group countries based on their 2018 GDP."
   ]
  },
  {
   "cell_type": "code",
   "execution_count": 23,
   "metadata": {},
   "outputs": [
    {
     "data": {
      "text/html": [
       "<div>\n",
       "<style>\n",
       "    .dataframe thead tr:only-child th {\n",
       "        text-align: right;\n",
       "    }\n",
       "\n",
       "    .dataframe thead th {\n",
       "        text-align: left;\n",
       "    }\n",
       "\n",
       "    .dataframe tbody tr th {\n",
       "        vertical-align: top;\n",
       "    }\n",
       "</style>\n",
       "<table border=\"1\" class=\"dataframe\">\n",
       "  <thead>\n",
       "    <tr style=\"text-align: right;\">\n",
       "      <th></th>\n",
       "      <th>country</th>\n",
       "      <th>1800</th>\n",
       "      <th>1801</th>\n",
       "      <th>1802</th>\n",
       "      <th>1803</th>\n",
       "      <th>1804</th>\n",
       "      <th>1805</th>\n",
       "      <th>1806</th>\n",
       "      <th>1807</th>\n",
       "      <th>1808</th>\n",
       "      <th>...</th>\n",
       "      <th>2009</th>\n",
       "      <th>2010</th>\n",
       "      <th>2011</th>\n",
       "      <th>2012</th>\n",
       "      <th>2013</th>\n",
       "      <th>2014</th>\n",
       "      <th>2015</th>\n",
       "      <th>2016</th>\n",
       "      <th>2017</th>\n",
       "      <th>2018</th>\n",
       "    </tr>\n",
       "  </thead>\n",
       "  <tbody>\n",
       "    <tr>\n",
       "      <th>0</th>\n",
       "      <td>Afghanistan</td>\n",
       "      <td>603</td>\n",
       "      <td>603</td>\n",
       "      <td>603</td>\n",
       "      <td>603</td>\n",
       "      <td>603</td>\n",
       "      <td>603</td>\n",
       "      <td>603</td>\n",
       "      <td>603</td>\n",
       "      <td>603</td>\n",
       "      <td>...</td>\n",
       "      <td>1530</td>\n",
       "      <td>1610</td>\n",
       "      <td>1660</td>\n",
       "      <td>1840</td>\n",
       "      <td>1810</td>\n",
       "      <td>1780</td>\n",
       "      <td>1750</td>\n",
       "      <td>1740</td>\n",
       "      <td>1800</td>\n",
       "      <td>1870</td>\n",
       "    </tr>\n",
       "  </tbody>\n",
       "</table>\n",
       "<p>1 rows × 220 columns</p>\n",
       "</div>"
      ],
      "text/plain": [
       "       country  1800  1801  1802  1803  1804  1805  1806  1807  1808  ...   \\\n",
       "0  Afghanistan   603   603   603   603   603   603   603   603   603  ...    \n",
       "\n",
       "   2009  2010  2011  2012  2013  2014  2015  2016  2017  2018  \n",
       "0  1530  1610  1660  1840  1810  1780  1750  1740  1800  1870  \n",
       "\n",
       "[1 rows x 220 columns]"
      ]
     },
     "execution_count": 23,
     "metadata": {},
     "output_type": "execute_result"
    }
   ],
   "source": [
    "#2018 is the latest year\n",
    "df_gdp.head(1)"
   ]
  },
  {
   "cell_type": "code",
   "execution_count": 24,
   "metadata": {},
   "outputs": [
    {
     "data": {
      "text/plain": [
       "count       193.000000\n",
       "mean      18241.502591\n",
       "std       19664.365483\n",
       "min         629.000000\n",
       "25%        3670.000000\n",
       "50%       12100.000000\n",
       "75%       25500.000000\n",
       "max      121000.000000\n",
       "Name: 2018, dtype: float64"
      ]
     },
     "execution_count": 24,
     "metadata": {},
     "output_type": "execute_result"
    }
   ],
   "source": [
    "#Trying to understand the distribution of the gdp per capita based on the Quartiles. \n",
    "df_gdp['2018'].describe()"
   ]
  },
  {
   "cell_type": "markdown",
   "metadata": {},
   "source": [
    "if we consider the number below, the 25% of low income countries have 3670 Dollars and below <br>\n",
    "the second group in the 50 would have a GDP of 12100  per capita and below, <br>\n",
    "the third group 25500 Dollars  of GDP per Capita <br>\n",
    "the last and richest group would have 121000 Dollars of GDP per capita. <br>\n",
    "\n",
    "Below we added an image from the world bank Group whith the most recent classification of countries based on income level.\n",
    "the classification is from 2018, this year.\n",
    "So I think its might be a more realistic categorisation of countries by income level. <br> \n",
    "After some time looking for officials classifications of countries by Income Level, its seemed like the world bank would  be a more credible authority. \n",
    "The Value below are the GNI or Gross National Income. they are not exactly the GDP but might be a more realistic way to compare countries than Quartiles. "
   ]
  },
  {
   "cell_type": "markdown",
   "metadata": {},
   "source": [
    "\n",
    "<img src=\"new country classification by GDP.PNG\">\n",
    "https://blogs.worldbank.org/opendata/new-country-classifications-income-level-2018-2019#comments\n"
   ]
  },
  {
   "cell_type": "markdown",
   "metadata": {},
   "source": [
    "We will use the classification above to continue our analysis"
   ]
  },
  {
   "cell_type": "markdown",
   "metadata": {},
   "source": [
    "#### Low Income Countries\n",
    "countries with less than 995 USD in GDP per capita"
   ]
  },
  {
   "cell_type": "code",
   "execution_count": 25,
   "metadata": {},
   "outputs": [
    {
     "data": {
      "text/html": [
       "<div>\n",
       "<style>\n",
       "    .dataframe thead tr:only-child th {\n",
       "        text-align: right;\n",
       "    }\n",
       "\n",
       "    .dataframe thead th {\n",
       "        text-align: left;\n",
       "    }\n",
       "\n",
       "    .dataframe tbody tr th {\n",
       "        vertical-align: top;\n",
       "    }\n",
       "</style>\n",
       "<table border=\"1\" class=\"dataframe\">\n",
       "  <thead>\n",
       "    <tr style=\"text-align: right;\">\n",
       "      <th></th>\n",
       "      <th>country</th>\n",
       "      <th>2018</th>\n",
       "    </tr>\n",
       "  </thead>\n",
       "  <tbody>\n",
       "    <tr>\n",
       "      <th>27</th>\n",
       "      <td>Burundi</td>\n",
       "      <td>691</td>\n",
       "    </tr>\n",
       "    <tr>\n",
       "      <th>32</th>\n",
       "      <td>Central African Republic</td>\n",
       "      <td>689</td>\n",
       "    </tr>\n",
       "    <tr>\n",
       "      <th>38</th>\n",
       "      <td>Congo, Dem. Rep.</td>\n",
       "      <td>751</td>\n",
       "    </tr>\n",
       "    <tr>\n",
       "      <th>94</th>\n",
       "      <td>Liberia</td>\n",
       "      <td>801</td>\n",
       "    </tr>\n",
       "    <tr>\n",
       "      <th>123</th>\n",
       "      <td>Niger</td>\n",
       "      <td>949</td>\n",
       "    </tr>\n",
       "    <tr>\n",
       "      <th>154</th>\n",
       "      <td>Somalia</td>\n",
       "      <td>629</td>\n",
       "    </tr>\n",
       "  </tbody>\n",
       "</table>\n",
       "</div>"
      ],
      "text/plain": [
       "                      country  2018\n",
       "27                    Burundi   691\n",
       "32   Central African Republic   689\n",
       "38           Congo, Dem. Rep.   751\n",
       "94                    Liberia   801\n",
       "123                     Niger   949\n",
       "154                   Somalia   629"
      ]
     },
     "execution_count": 25,
     "metadata": {},
     "output_type": "execute_result"
    }
   ],
   "source": [
    "# grouping countries by income using loc and only keeping the country column\n",
    "low_income = df_gdp.loc[df_gdp['2018'] < 995, ['country', '2018']]\n",
    "low_income\n"
   ]
  },
  {
   "cell_type": "markdown",
   "metadata": {},
   "source": [
    "#### Lower Middle Income Countries\n",
    "countries with GDP per capita between 996 and 3895 USD"
   ]
  },
  {
   "cell_type": "code",
   "execution_count": 26,
   "metadata": {},
   "outputs": [
    {
     "data": {
      "text/html": [
       "<div>\n",
       "<style>\n",
       "    .dataframe thead tr:only-child th {\n",
       "        text-align: right;\n",
       "    }\n",
       "\n",
       "    .dataframe thead th {\n",
       "        text-align: left;\n",
       "    }\n",
       "\n",
       "    .dataframe tbody tr th {\n",
       "        vertical-align: top;\n",
       "    }\n",
       "</style>\n",
       "<table border=\"1\" class=\"dataframe\">\n",
       "  <thead>\n",
       "    <tr style=\"text-align: right;\">\n",
       "      <th></th>\n",
       "      <th>country</th>\n",
       "      <th>2018</th>\n",
       "    </tr>\n",
       "  </thead>\n",
       "  <tbody>\n",
       "    <tr>\n",
       "      <th>0</th>\n",
       "      <td>Afghanistan</td>\n",
       "      <td>1870</td>\n",
       "    </tr>\n",
       "    <tr>\n",
       "      <th>13</th>\n",
       "      <td>Bangladesh</td>\n",
       "      <td>3720</td>\n",
       "    </tr>\n",
       "    <tr>\n",
       "      <th>18</th>\n",
       "      <td>Benin</td>\n",
       "      <td>2170</td>\n",
       "    </tr>\n",
       "    <tr>\n",
       "      <th>26</th>\n",
       "      <td>Burkina Faso</td>\n",
       "      <td>1710</td>\n",
       "    </tr>\n",
       "    <tr>\n",
       "      <th>28</th>\n",
       "      <td>Cambodia</td>\n",
       "      <td>3830</td>\n",
       "    </tr>\n",
       "  </tbody>\n",
       "</table>\n",
       "</div>"
      ],
      "text/plain": [
       "         country  2018\n",
       "0    Afghanistan  1870\n",
       "13    Bangladesh  3720\n",
       "18         Benin  2170\n",
       "26  Burkina Faso  1710\n",
       "28      Cambodia  3830"
      ]
     },
     "execution_count": 26,
     "metadata": {},
     "output_type": "execute_result"
    }
   ],
   "source": [
    "# grouping countries by income using loc and only keeping the country column\n",
    "lower_middle_income = df_gdp.loc[(df_gdp['2018'] > 995) & (df_gdp['2018'] < 3896), ['country', '2018']]\n",
    "lower_middle_income.head()"
   ]
  },
  {
   "cell_type": "markdown",
   "metadata": {},
   "source": [
    "#### Upper Middle Income Countries\n",
    "countries with GDP between 3896 and 12055 USD"
   ]
  },
  {
   "cell_type": "code",
   "execution_count": 27,
   "metadata": {},
   "outputs": [
    {
     "data": {
      "text/html": [
       "<div>\n",
       "<style>\n",
       "    .dataframe thead tr:only-child th {\n",
       "        text-align: right;\n",
       "    }\n",
       "\n",
       "    .dataframe thead th {\n",
       "        text-align: left;\n",
       "    }\n",
       "\n",
       "    .dataframe tbody tr th {\n",
       "        vertical-align: top;\n",
       "    }\n",
       "</style>\n",
       "<table border=\"1\" class=\"dataframe\">\n",
       "  <thead>\n",
       "    <tr style=\"text-align: right;\">\n",
       "      <th></th>\n",
       "      <th>country</th>\n",
       "      <th>2018</th>\n",
       "    </tr>\n",
       "  </thead>\n",
       "  <tbody>\n",
       "    <tr>\n",
       "      <th>4</th>\n",
       "      <td>Angola</td>\n",
       "      <td>5850</td>\n",
       "    </tr>\n",
       "    <tr>\n",
       "      <th>7</th>\n",
       "      <td>Armenia</td>\n",
       "      <td>8660</td>\n",
       "    </tr>\n",
       "    <tr>\n",
       "      <th>17</th>\n",
       "      <td>Belize</td>\n",
       "      <td>7710</td>\n",
       "    </tr>\n",
       "    <tr>\n",
       "      <th>19</th>\n",
       "      <td>Bhutan</td>\n",
       "      <td>9930</td>\n",
       "    </tr>\n",
       "    <tr>\n",
       "      <th>20</th>\n",
       "      <td>Bolivia</td>\n",
       "      <td>6980</td>\n",
       "    </tr>\n",
       "  </tbody>\n",
       "</table>\n",
       "</div>"
      ],
      "text/plain": [
       "    country  2018\n",
       "4    Angola  5850\n",
       "7   Armenia  8660\n",
       "17   Belize  7710\n",
       "19   Bhutan  9930\n",
       "20  Bolivia  6980"
      ]
     },
     "execution_count": 27,
     "metadata": {},
     "output_type": "execute_result"
    }
   ],
   "source": [
    "# grouping countries by income using loc and only keeping the country column\n",
    "upper_middle_income = df_gdp.loc[(df_gdp['2018'] >= 3896) & (df_gdp['2018'] <= 12055), ['country', '2018']]\n",
    "upper_middle_income.head()"
   ]
  },
  {
   "cell_type": "markdown",
   "metadata": {},
   "source": [
    "#### High Income Countries\n",
    "Countries with GDP Per capita which is above 12055 USD"
   ]
  },
  {
   "cell_type": "code",
   "execution_count": 28,
   "metadata": {},
   "outputs": [
    {
     "data": {
      "text/html": [
       "<div>\n",
       "<style>\n",
       "    .dataframe thead tr:only-child th {\n",
       "        text-align: right;\n",
       "    }\n",
       "\n",
       "    .dataframe thead th {\n",
       "        text-align: left;\n",
       "    }\n",
       "\n",
       "    .dataframe tbody tr th {\n",
       "        vertical-align: top;\n",
       "    }\n",
       "</style>\n",
       "<table border=\"1\" class=\"dataframe\">\n",
       "  <thead>\n",
       "    <tr style=\"text-align: right;\">\n",
       "      <th></th>\n",
       "      <th>country</th>\n",
       "      <th>2018</th>\n",
       "    </tr>\n",
       "  </thead>\n",
       "  <tbody>\n",
       "    <tr>\n",
       "      <th>1</th>\n",
       "      <td>Albania</td>\n",
       "      <td>12400</td>\n",
       "    </tr>\n",
       "    <tr>\n",
       "      <th>2</th>\n",
       "      <td>Algeria</td>\n",
       "      <td>13700</td>\n",
       "    </tr>\n",
       "    <tr>\n",
       "      <th>3</th>\n",
       "      <td>Andorra</td>\n",
       "      <td>51500</td>\n",
       "    </tr>\n",
       "    <tr>\n",
       "      <th>5</th>\n",
       "      <td>Antigua and Barbuda</td>\n",
       "      <td>21000</td>\n",
       "    </tr>\n",
       "    <tr>\n",
       "      <th>6</th>\n",
       "      <td>Argentina</td>\n",
       "      <td>18900</td>\n",
       "    </tr>\n",
       "  </tbody>\n",
       "</table>\n",
       "</div>"
      ],
      "text/plain": [
       "               country   2018\n",
       "1              Albania  12400\n",
       "2              Algeria  13700\n",
       "3              Andorra  51500\n",
       "5  Antigua and Barbuda  21000\n",
       "6            Argentina  18900"
      ]
     },
     "execution_count": 28,
     "metadata": {},
     "output_type": "execute_result"
    }
   ],
   "source": [
    "# grouping countries by income using loc and only keeping the country column\n",
    "high_income = df_gdp.loc[df_gdp['2018'] > 12055, ['country', '2018']]\n",
    "high_income.head()"
   ]
  },
  {
   "cell_type": "markdown",
   "metadata": {},
   "source": [
    "Verifying that the count all the countries included in the income file found a group"
   ]
  },
  {
   "cell_type": "code",
   "execution_count": 29,
   "metadata": {},
   "outputs": [
    {
     "data": {
      "text/plain": [
       "country    193\n",
       "2018       193\n",
       "dtype: int64"
      ]
     },
     "execution_count": 29,
     "metadata": {},
     "output_type": "execute_result"
    }
   ],
   "source": [
    "#veryfing that the count of our 4 new dataframes are equals to the total of gdp_df they were extracted from. \n",
    "#The number match our original GDP file\n",
    "low_income.count()+ lower_middle_income.count() + upper_middle_income.count() + high_income.count()"
   ]
  },
  {
   "cell_type": "markdown",
   "metadata": {},
   "source": [
    "the count match our originial GDP file. meaning that each country is grouped. perfect! we are now going to group countries in the life expectancy dataset in the income level group as set above."
   ]
  },
  {
   "cell_type": "markdown",
   "metadata": {},
   "source": [
    "### Life Expectancy Grouping by Income Level, from the year 1950\n",
    "Now we are going to group the other datasets by Income. \n",
    "let's start by the life expectancy Dataset <br>\n",
    "based on the classification by countries's income, we are equally going to classify the other datasets in 4 groups. <br>\n",
    "we are going to create 4 groups within the life expectancy group: \n",
    "* low_income_expectancy\n",
    "* lower_middle_income_expectancy\n",
    "* upper_middle_income_expectancy\n",
    "* high_income_expectancy\n",
    "\n",
    "#### Limiting the dataset from the year 1950\n",
    "this dataset has data from the year 1800. lets remove the 150 years that are not necessary to answer our questions and only keep the decades that are of interest to us. But that still leaves us with 68 years of data or meaning 68 rows per country. In order to properly understand the progress, we are going to divide the data in decades from 1950 to 2018. Since we want to globally understand the tendancy, randomly picking a point in time every decade should give an idea of the general tendancy. "
   ]
  },
  {
   "cell_type": "code",
   "execution_count": 30,
   "metadata": {
    "scrolled": true
   },
   "outputs": [
    {
     "data": {
      "text/html": [
       "<div>\n",
       "<style>\n",
       "    .dataframe thead tr:only-child th {\n",
       "        text-align: right;\n",
       "    }\n",
       "\n",
       "    .dataframe thead th {\n",
       "        text-align: left;\n",
       "    }\n",
       "\n",
       "    .dataframe tbody tr th {\n",
       "        vertical-align: top;\n",
       "    }\n",
       "</style>\n",
       "<table border=\"1\" class=\"dataframe\">\n",
       "  <thead>\n",
       "    <tr style=\"text-align: right;\">\n",
       "      <th></th>\n",
       "      <th>country</th>\n",
       "      <th>1950</th>\n",
       "      <th>1951</th>\n",
       "      <th>1952</th>\n",
       "      <th>1953</th>\n",
       "      <th>1954</th>\n",
       "      <th>1955</th>\n",
       "      <th>1956</th>\n",
       "      <th>1957</th>\n",
       "      <th>1958</th>\n",
       "      <th>...</th>\n",
       "      <th>2009</th>\n",
       "      <th>2010</th>\n",
       "      <th>2011</th>\n",
       "      <th>2012</th>\n",
       "      <th>2013</th>\n",
       "      <th>2014</th>\n",
       "      <th>2015</th>\n",
       "      <th>2016</th>\n",
       "      <th>2017</th>\n",
       "      <th>2018</th>\n",
       "    </tr>\n",
       "  </thead>\n",
       "  <tbody>\n",
       "    <tr>\n",
       "      <th>0</th>\n",
       "      <td>Afghanistan</td>\n",
       "      <td>32.0</td>\n",
       "      <td>32.4</td>\n",
       "      <td>33.0</td>\n",
       "      <td>33.7</td>\n",
       "      <td>34.4</td>\n",
       "      <td>35.1</td>\n",
       "      <td>35.8</td>\n",
       "      <td>36.5</td>\n",
       "      <td>37.2</td>\n",
       "      <td>...</td>\n",
       "      <td>55.7</td>\n",
       "      <td>56.2</td>\n",
       "      <td>56.7</td>\n",
       "      <td>57.2</td>\n",
       "      <td>57.7</td>\n",
       "      <td>57.8</td>\n",
       "      <td>57.9</td>\n",
       "      <td>58.0</td>\n",
       "      <td>58.4</td>\n",
       "      <td>58.7</td>\n",
       "    </tr>\n",
       "    <tr>\n",
       "      <th>1</th>\n",
       "      <td>Albania</td>\n",
       "      <td>54.5</td>\n",
       "      <td>54.7</td>\n",
       "      <td>55.2</td>\n",
       "      <td>55.8</td>\n",
       "      <td>56.5</td>\n",
       "      <td>57.3</td>\n",
       "      <td>58.3</td>\n",
       "      <td>59.3</td>\n",
       "      <td>60.4</td>\n",
       "      <td>...</td>\n",
       "      <td>75.9</td>\n",
       "      <td>76.3</td>\n",
       "      <td>76.7</td>\n",
       "      <td>77.0</td>\n",
       "      <td>77.2</td>\n",
       "      <td>77.4</td>\n",
       "      <td>77.6</td>\n",
       "      <td>77.7</td>\n",
       "      <td>77.9</td>\n",
       "      <td>78.0</td>\n",
       "    </tr>\n",
       "    <tr>\n",
       "      <th>2</th>\n",
       "      <td>Algeria</td>\n",
       "      <td>46.9</td>\n",
       "      <td>47.1</td>\n",
       "      <td>47.6</td>\n",
       "      <td>48.1</td>\n",
       "      <td>48.6</td>\n",
       "      <td>49.2</td>\n",
       "      <td>49.7</td>\n",
       "      <td>50.3</td>\n",
       "      <td>50.9</td>\n",
       "      <td>...</td>\n",
       "      <td>76.3</td>\n",
       "      <td>76.5</td>\n",
       "      <td>76.7</td>\n",
       "      <td>76.8</td>\n",
       "      <td>77.0</td>\n",
       "      <td>77.1</td>\n",
       "      <td>77.3</td>\n",
       "      <td>77.4</td>\n",
       "      <td>77.6</td>\n",
       "      <td>77.9</td>\n",
       "    </tr>\n",
       "    <tr>\n",
       "      <th>3</th>\n",
       "      <td>Andorra</td>\n",
       "      <td>NaN</td>\n",
       "      <td>NaN</td>\n",
       "      <td>NaN</td>\n",
       "      <td>NaN</td>\n",
       "      <td>NaN</td>\n",
       "      <td>NaN</td>\n",
       "      <td>NaN</td>\n",
       "      <td>NaN</td>\n",
       "      <td>NaN</td>\n",
       "      <td>...</td>\n",
       "      <td>82.7</td>\n",
       "      <td>82.7</td>\n",
       "      <td>82.6</td>\n",
       "      <td>82.6</td>\n",
       "      <td>82.6</td>\n",
       "      <td>82.6</td>\n",
       "      <td>82.5</td>\n",
       "      <td>82.5</td>\n",
       "      <td>NaN</td>\n",
       "      <td>NaN</td>\n",
       "    </tr>\n",
       "    <tr>\n",
       "      <th>4</th>\n",
       "      <td>Angola</td>\n",
       "      <td>36.6</td>\n",
       "      <td>36.9</td>\n",
       "      <td>37.5</td>\n",
       "      <td>38.1</td>\n",
       "      <td>38.7</td>\n",
       "      <td>39.3</td>\n",
       "      <td>39.9</td>\n",
       "      <td>40.5</td>\n",
       "      <td>41.2</td>\n",
       "      <td>...</td>\n",
       "      <td>59.3</td>\n",
       "      <td>60.1</td>\n",
       "      <td>60.9</td>\n",
       "      <td>61.7</td>\n",
       "      <td>62.5</td>\n",
       "      <td>63.3</td>\n",
       "      <td>64.0</td>\n",
       "      <td>64.7</td>\n",
       "      <td>64.9</td>\n",
       "      <td>65.2</td>\n",
       "    </tr>\n",
       "  </tbody>\n",
       "</table>\n",
       "<p>5 rows × 70 columns</p>\n",
       "</div>"
      ],
      "text/plain": [
       "       country  1950  1951  1952  1953  1954  1955  1956  1957  1958  ...   \\\n",
       "0  Afghanistan  32.0  32.4  33.0  33.7  34.4  35.1  35.8  36.5  37.2  ...    \n",
       "1      Albania  54.5  54.7  55.2  55.8  56.5  57.3  58.3  59.3  60.4  ...    \n",
       "2      Algeria  46.9  47.1  47.6  48.1  48.6  49.2  49.7  50.3  50.9  ...    \n",
       "3      Andorra   NaN   NaN   NaN   NaN   NaN   NaN   NaN   NaN   NaN  ...    \n",
       "4       Angola  36.6  36.9  37.5  38.1  38.7  39.3  39.9  40.5  41.2  ...    \n",
       "\n",
       "   2009  2010  2011  2012  2013  2014  2015  2016  2017  2018  \n",
       "0  55.7  56.2  56.7  57.2  57.7  57.8  57.9  58.0  58.4  58.7  \n",
       "1  75.9  76.3  76.7  77.0  77.2  77.4  77.6  77.7  77.9  78.0  \n",
       "2  76.3  76.5  76.7  76.8  77.0  77.1  77.3  77.4  77.6  77.9  \n",
       "3  82.7  82.7  82.6  82.6  82.6  82.6  82.5  82.5   NaN   NaN  \n",
       "4  59.3  60.1  60.9  61.7  62.5  63.3  64.0  64.7  64.9  65.2  \n",
       "\n",
       "[5 rows x 70 columns]"
      ]
     },
     "execution_count": 30,
     "metadata": {},
     "output_type": "execute_result"
    }
   ],
   "source": [
    "#dropping irrelevant columns.  from the year 1800 to 1949\n",
    "cols=  df_expectancy.columns[1:151] \n",
    "df_expectancy.drop(cols,axis=1, inplace=True)\n",
    "df_expectancy.head()"
   ]
  },
  {
   "cell_type": "markdown",
   "metadata": {},
   "source": [
    "the dataset above would still be too much unnecessary data. so we are only to randomly select one year every decade from 1950."
   ]
  },
  {
   "cell_type": "code",
   "execution_count": 31,
   "metadata": {},
   "outputs": [
    {
     "data": {
      "text/html": [
       "<div>\n",
       "<style>\n",
       "    .dataframe thead tr:only-child th {\n",
       "        text-align: right;\n",
       "    }\n",
       "\n",
       "    .dataframe thead th {\n",
       "        text-align: left;\n",
       "    }\n",
       "\n",
       "    .dataframe tbody tr th {\n",
       "        vertical-align: top;\n",
       "    }\n",
       "</style>\n",
       "<table border=\"1\" class=\"dataframe\">\n",
       "  <thead>\n",
       "    <tr style=\"text-align: right;\">\n",
       "      <th></th>\n",
       "      <th>country</th>\n",
       "      <th>1950</th>\n",
       "      <th>1960</th>\n",
       "      <th>1970</th>\n",
       "      <th>1980</th>\n",
       "      <th>1990</th>\n",
       "      <th>2000</th>\n",
       "      <th>2010</th>\n",
       "      <th>2018</th>\n",
       "    </tr>\n",
       "  </thead>\n",
       "  <tbody>\n",
       "    <tr>\n",
       "      <th>0</th>\n",
       "      <td>Afghanistan</td>\n",
       "      <td>32.0</td>\n",
       "      <td>38.6</td>\n",
       "      <td>45.8</td>\n",
       "      <td>43.3</td>\n",
       "      <td>51.6</td>\n",
       "      <td>51.6</td>\n",
       "      <td>56.2</td>\n",
       "      <td>58.7</td>\n",
       "    </tr>\n",
       "    <tr>\n",
       "      <th>1</th>\n",
       "      <td>Albania</td>\n",
       "      <td>54.5</td>\n",
       "      <td>62.7</td>\n",
       "      <td>67.4</td>\n",
       "      <td>72.3</td>\n",
       "      <td>73.9</td>\n",
       "      <td>74.4</td>\n",
       "      <td>76.3</td>\n",
       "      <td>78.0</td>\n",
       "    </tr>\n",
       "    <tr>\n",
       "      <th>2</th>\n",
       "      <td>Algeria</td>\n",
       "      <td>46.9</td>\n",
       "      <td>52.0</td>\n",
       "      <td>57.5</td>\n",
       "      <td>62.1</td>\n",
       "      <td>71.0</td>\n",
       "      <td>73.9</td>\n",
       "      <td>76.5</td>\n",
       "      <td>77.9</td>\n",
       "    </tr>\n",
       "    <tr>\n",
       "      <th>3</th>\n",
       "      <td>Andorra</td>\n",
       "      <td>NaN</td>\n",
       "      <td>NaN</td>\n",
       "      <td>76.0</td>\n",
       "      <td>78.7</td>\n",
       "      <td>79.5</td>\n",
       "      <td>81.8</td>\n",
       "      <td>82.7</td>\n",
       "      <td>NaN</td>\n",
       "    </tr>\n",
       "    <tr>\n",
       "      <th>4</th>\n",
       "      <td>Angola</td>\n",
       "      <td>36.6</td>\n",
       "      <td>42.4</td>\n",
       "      <td>48.7</td>\n",
       "      <td>49.9</td>\n",
       "      <td>50.2</td>\n",
       "      <td>53.4</td>\n",
       "      <td>60.1</td>\n",
       "      <td>65.2</td>\n",
       "    </tr>\n",
       "  </tbody>\n",
       "</table>\n",
       "</div>"
      ],
      "text/plain": [
       "       country  1950  1960  1970  1980  1990  2000  2010  2018\n",
       "0  Afghanistan  32.0  38.6  45.8  43.3  51.6  51.6  56.2  58.7\n",
       "1      Albania  54.5  62.7  67.4  72.3  73.9  74.4  76.3  78.0\n",
       "2      Algeria  46.9  52.0  57.5  62.1  71.0  73.9  76.5  77.9\n",
       "3      Andorra   NaN   NaN  76.0  78.7  79.5  81.8  82.7   NaN\n",
       "4       Angola  36.6  42.4  48.7  49.9  50.2  53.4  60.1  65.2"
      ]
     },
     "execution_count": 31,
     "metadata": {},
     "output_type": "execute_result"
    }
   ],
   "source": [
    "#selecting the years 1950, 1960, 1970, 1980, 1990, 2000, 2010, 2018\n",
    "df_expectancy = df_expectancy[['country','1950', '1960', '1970', '1980', '1990', '2000', '2010', '2018']]\n",
    "df_expectancy.head()"
   ]
  },
  {
   "cell_type": "markdown",
   "metadata": {},
   "source": [
    "#### Life Expectancy grouping For Low Income Income Countries\n",
    "we are going to use the isin to group countries which are in low income country dataframe created earlier"
   ]
  },
  {
   "cell_type": "code",
   "execution_count": 32,
   "metadata": {
    "scrolled": true
   },
   "outputs": [
    {
     "data": {
      "text/html": [
       "<div>\n",
       "<style>\n",
       "    .dataframe thead tr:only-child th {\n",
       "        text-align: right;\n",
       "    }\n",
       "\n",
       "    .dataframe thead th {\n",
       "        text-align: left;\n",
       "    }\n",
       "\n",
       "    .dataframe tbody tr th {\n",
       "        vertical-align: top;\n",
       "    }\n",
       "</style>\n",
       "<table border=\"1\" class=\"dataframe\">\n",
       "  <thead>\n",
       "    <tr style=\"text-align: right;\">\n",
       "      <th></th>\n",
       "      <th>country</th>\n",
       "      <th>1950</th>\n",
       "      <th>1960</th>\n",
       "      <th>1970</th>\n",
       "      <th>1980</th>\n",
       "      <th>1990</th>\n",
       "      <th>2000</th>\n",
       "      <th>2010</th>\n",
       "      <th>2018</th>\n",
       "    </tr>\n",
       "  </thead>\n",
       "  <tbody>\n",
       "    <tr>\n",
       "      <th>27</th>\n",
       "      <td>Burundi</td>\n",
       "      <td>39.0</td>\n",
       "      <td>42.0</td>\n",
       "      <td>44.7</td>\n",
       "      <td>46.3</td>\n",
       "      <td>48.0</td>\n",
       "      <td>47.9</td>\n",
       "      <td>57.7</td>\n",
       "      <td>61.1</td>\n",
       "    </tr>\n",
       "  </tbody>\n",
       "</table>\n",
       "</div>"
      ],
      "text/plain": [
       "    country  1950  1960  1970  1980  1990  2000  2010  2018\n",
       "27  Burundi  39.0  42.0  44.7  46.3  48.0  47.9  57.7  61.1"
      ]
     },
     "execution_count": 32,
     "metadata": {},
     "output_type": "execute_result"
    }
   ],
   "source": [
    "#grouping life for low income countries\n",
    "low_income_expectancy = df_expectancy.loc[df_expectancy.country.isin(low_income.country.tolist())]\n",
    "low_income_expectancy.head(1)"
   ]
  },
  {
   "cell_type": "markdown",
   "metadata": {},
   "source": [
    "#### Life Expectancy grouping For Lower Middle Income Countries\n",
    "Grouping Lower Middle Income Countries Life Expectancy"
   ]
  },
  {
   "cell_type": "code",
   "execution_count": 33,
   "metadata": {},
   "outputs": [
    {
     "data": {
      "text/html": [
       "<div>\n",
       "<style>\n",
       "    .dataframe thead tr:only-child th {\n",
       "        text-align: right;\n",
       "    }\n",
       "\n",
       "    .dataframe thead th {\n",
       "        text-align: left;\n",
       "    }\n",
       "\n",
       "    .dataframe tbody tr th {\n",
       "        vertical-align: top;\n",
       "    }\n",
       "</style>\n",
       "<table border=\"1\" class=\"dataframe\">\n",
       "  <thead>\n",
       "    <tr style=\"text-align: right;\">\n",
       "      <th></th>\n",
       "      <th>country</th>\n",
       "      <th>1950</th>\n",
       "      <th>1960</th>\n",
       "      <th>1970</th>\n",
       "      <th>1980</th>\n",
       "      <th>1990</th>\n",
       "      <th>2000</th>\n",
       "      <th>2010</th>\n",
       "      <th>2018</th>\n",
       "    </tr>\n",
       "  </thead>\n",
       "  <tbody>\n",
       "    <tr>\n",
       "      <th>0</th>\n",
       "      <td>Afghanistan</td>\n",
       "      <td>32.0</td>\n",
       "      <td>38.6</td>\n",
       "      <td>45.8</td>\n",
       "      <td>43.3</td>\n",
       "      <td>51.6</td>\n",
       "      <td>51.6</td>\n",
       "      <td>56.2</td>\n",
       "      <td>58.7</td>\n",
       "    </tr>\n",
       "  </tbody>\n",
       "</table>\n",
       "</div>"
      ],
      "text/plain": [
       "       country  1950  1960  1970  1980  1990  2000  2010  2018\n",
       "0  Afghanistan  32.0  38.6  45.8  43.3  51.6  51.6  56.2  58.7"
      ]
     },
     "execution_count": 33,
     "metadata": {},
     "output_type": "execute_result"
    }
   ],
   "source": [
    "#grouping life for lower middle income countries\n",
    "lower_middle_income_expectancy = df_expectancy.loc[df_expectancy.country.isin(lower_middle_income.country.tolist())]\n",
    "lower_middle_income_expectancy.head(1)"
   ]
  },
  {
   "cell_type": "markdown",
   "metadata": {},
   "source": [
    "#### Life Expectancy grouping For Upper Middle Income Countries\n",
    "Grouping Life Expectancy data for Upper Middle Income Countries"
   ]
  },
  {
   "cell_type": "code",
   "execution_count": 34,
   "metadata": {},
   "outputs": [
    {
     "data": {
      "text/html": [
       "<div>\n",
       "<style>\n",
       "    .dataframe thead tr:only-child th {\n",
       "        text-align: right;\n",
       "    }\n",
       "\n",
       "    .dataframe thead th {\n",
       "        text-align: left;\n",
       "    }\n",
       "\n",
       "    .dataframe tbody tr th {\n",
       "        vertical-align: top;\n",
       "    }\n",
       "</style>\n",
       "<table border=\"1\" class=\"dataframe\">\n",
       "  <thead>\n",
       "    <tr style=\"text-align: right;\">\n",
       "      <th></th>\n",
       "      <th>country</th>\n",
       "      <th>1950</th>\n",
       "      <th>1960</th>\n",
       "      <th>1970</th>\n",
       "      <th>1980</th>\n",
       "      <th>1990</th>\n",
       "      <th>2000</th>\n",
       "      <th>2010</th>\n",
       "      <th>2018</th>\n",
       "    </tr>\n",
       "  </thead>\n",
       "  <tbody>\n",
       "    <tr>\n",
       "      <th>4</th>\n",
       "      <td>Angola</td>\n",
       "      <td>36.6</td>\n",
       "      <td>42.4</td>\n",
       "      <td>48.7</td>\n",
       "      <td>49.9</td>\n",
       "      <td>50.2</td>\n",
       "      <td>53.4</td>\n",
       "      <td>60.1</td>\n",
       "      <td>65.2</td>\n",
       "    </tr>\n",
       "  </tbody>\n",
       "</table>\n",
       "</div>"
      ],
      "text/plain": [
       "  country  1950  1960  1970  1980  1990  2000  2010  2018\n",
       "4  Angola  36.6  42.4  48.7  49.9  50.2  53.4  60.1  65.2"
      ]
     },
     "execution_count": 34,
     "metadata": {},
     "output_type": "execute_result"
    }
   ],
   "source": [
    "#grouping life for upper middle income countries\n",
    "upper_middle_income_expectancy = df_expectancy.loc[df_expectancy.country.isin(upper_middle_income.country.tolist())]\n",
    "upper_middle_income_expectancy.head(1)"
   ]
  },
  {
   "cell_type": "markdown",
   "metadata": {},
   "source": [
    "#### Life Expectancy grouping For High Income Countries\n",
    "Grouping Life Expectancy Data for High Income Countries"
   ]
  },
  {
   "cell_type": "code",
   "execution_count": 35,
   "metadata": {},
   "outputs": [
    {
     "data": {
      "text/html": [
       "<div>\n",
       "<style>\n",
       "    .dataframe thead tr:only-child th {\n",
       "        text-align: right;\n",
       "    }\n",
       "\n",
       "    .dataframe thead th {\n",
       "        text-align: left;\n",
       "    }\n",
       "\n",
       "    .dataframe tbody tr th {\n",
       "        vertical-align: top;\n",
       "    }\n",
       "</style>\n",
       "<table border=\"1\" class=\"dataframe\">\n",
       "  <thead>\n",
       "    <tr style=\"text-align: right;\">\n",
       "      <th></th>\n",
       "      <th>country</th>\n",
       "      <th>1950</th>\n",
       "      <th>1960</th>\n",
       "      <th>1970</th>\n",
       "      <th>1980</th>\n",
       "      <th>1990</th>\n",
       "      <th>2000</th>\n",
       "      <th>2010</th>\n",
       "      <th>2018</th>\n",
       "    </tr>\n",
       "  </thead>\n",
       "  <tbody>\n",
       "    <tr>\n",
       "      <th>1</th>\n",
       "      <td>Albania</td>\n",
       "      <td>54.5</td>\n",
       "      <td>62.7</td>\n",
       "      <td>67.4</td>\n",
       "      <td>72.3</td>\n",
       "      <td>73.9</td>\n",
       "      <td>74.4</td>\n",
       "      <td>76.3</td>\n",
       "      <td>78.0</td>\n",
       "    </tr>\n",
       "  </tbody>\n",
       "</table>\n",
       "</div>"
      ],
      "text/plain": [
       "   country  1950  1960  1970  1980  1990  2000  2010  2018\n",
       "1  Albania  54.5  62.7  67.4  72.3  73.9  74.4  76.3  78.0"
      ]
     },
     "execution_count": 35,
     "metadata": {},
     "output_type": "execute_result"
    }
   ],
   "source": [
    "#grouping life for High income countries\n",
    "high_income_expectancy = df_expectancy.loc[df_expectancy.country.isin(high_income.country.tolist())]\n",
    "high_income_expectancy.head(1)"
   ]
  },
  {
   "cell_type": "markdown",
   "metadata": {},
   "source": [
    "### Fertility Rate Grouping by Income Level, from the year 1950\n",
    "based on the classification by countries's income, we are equally going to classify this  dataset in 4 groups. <br>\n",
    "we are going to create 4 groups within the life expectancy group: \n",
    "* low_income_birth\n",
    "* lower_middle_income_birth\n",
    "* upper_middle_income_birth\n",
    "* high_income_birth\n",
    "\n",
    "#### Limiting the dataset from the year 1950\n",
    "this dataset has data from the year 1800. lets remove the 150 years that are not necessary to answer our questions and only keep the decades that are of interest to us."
   ]
  },
  {
   "cell_type": "code",
   "execution_count": 36,
   "metadata": {},
   "outputs": [
    {
     "data": {
      "text/html": [
       "<div>\n",
       "<style>\n",
       "    .dataframe thead tr:only-child th {\n",
       "        text-align: right;\n",
       "    }\n",
       "\n",
       "    .dataframe thead th {\n",
       "        text-align: left;\n",
       "    }\n",
       "\n",
       "    .dataframe tbody tr th {\n",
       "        vertical-align: top;\n",
       "    }\n",
       "</style>\n",
       "<table border=\"1\" class=\"dataframe\">\n",
       "  <thead>\n",
       "    <tr style=\"text-align: right;\">\n",
       "      <th></th>\n",
       "      <th>country</th>\n",
       "      <th>1950</th>\n",
       "      <th>1951</th>\n",
       "      <th>1952</th>\n",
       "      <th>1953</th>\n",
       "      <th>1954</th>\n",
       "      <th>1955</th>\n",
       "      <th>1956</th>\n",
       "      <th>1957</th>\n",
       "      <th>1958</th>\n",
       "      <th>...</th>\n",
       "      <th>2009</th>\n",
       "      <th>2010</th>\n",
       "      <th>2011</th>\n",
       "      <th>2012</th>\n",
       "      <th>2013</th>\n",
       "      <th>2014</th>\n",
       "      <th>2015</th>\n",
       "      <th>2016</th>\n",
       "      <th>2017</th>\n",
       "      <th>2018</th>\n",
       "    </tr>\n",
       "  </thead>\n",
       "  <tbody>\n",
       "    <tr>\n",
       "      <th>0</th>\n",
       "      <td>Afghanistan</td>\n",
       "      <td>7.57</td>\n",
       "      <td>7.56</td>\n",
       "      <td>7.55</td>\n",
       "      <td>7.54</td>\n",
       "      <td>7.53</td>\n",
       "      <td>7.52</td>\n",
       "      <td>7.51</td>\n",
       "      <td>7.49</td>\n",
       "      <td>7.48</td>\n",
       "      <td>...</td>\n",
       "      <td>6.04</td>\n",
       "      <td>5.82</td>\n",
       "      <td>5.60</td>\n",
       "      <td>5.38</td>\n",
       "      <td>5.17</td>\n",
       "      <td>4.98</td>\n",
       "      <td>4.80</td>\n",
       "      <td>4.64</td>\n",
       "      <td>4.48</td>\n",
       "      <td>4.33</td>\n",
       "    </tr>\n",
       "    <tr>\n",
       "      <th>1</th>\n",
       "      <td>Albania</td>\n",
       "      <td>5.87</td>\n",
       "      <td>5.97</td>\n",
       "      <td>6.13</td>\n",
       "      <td>6.27</td>\n",
       "      <td>6.37</td>\n",
       "      <td>6.45</td>\n",
       "      <td>6.50</td>\n",
       "      <td>6.53</td>\n",
       "      <td>6.54</td>\n",
       "      <td>...</td>\n",
       "      <td>1.65</td>\n",
       "      <td>1.65</td>\n",
       "      <td>1.67</td>\n",
       "      <td>1.69</td>\n",
       "      <td>1.70</td>\n",
       "      <td>1.71</td>\n",
       "      <td>1.71</td>\n",
       "      <td>1.71</td>\n",
       "      <td>1.71</td>\n",
       "      <td>1.71</td>\n",
       "    </tr>\n",
       "    <tr>\n",
       "      <th>2</th>\n",
       "      <td>Algeria</td>\n",
       "      <td>7.49</td>\n",
       "      <td>7.47</td>\n",
       "      <td>7.44</td>\n",
       "      <td>7.43</td>\n",
       "      <td>7.41</td>\n",
       "      <td>7.41</td>\n",
       "      <td>7.41</td>\n",
       "      <td>7.43</td>\n",
       "      <td>7.45</td>\n",
       "      <td>...</td>\n",
       "      <td>2.83</td>\n",
       "      <td>2.89</td>\n",
       "      <td>2.93</td>\n",
       "      <td>2.94</td>\n",
       "      <td>2.92</td>\n",
       "      <td>2.89</td>\n",
       "      <td>2.84</td>\n",
       "      <td>2.78</td>\n",
       "      <td>2.71</td>\n",
       "      <td>2.64</td>\n",
       "    </tr>\n",
       "    <tr>\n",
       "      <th>3</th>\n",
       "      <td>Angola</td>\n",
       "      <td>7.11</td>\n",
       "      <td>7.13</td>\n",
       "      <td>7.15</td>\n",
       "      <td>7.17</td>\n",
       "      <td>7.20</td>\n",
       "      <td>7.23</td>\n",
       "      <td>7.27</td>\n",
       "      <td>7.31</td>\n",
       "      <td>7.36</td>\n",
       "      <td>...</td>\n",
       "      <td>6.24</td>\n",
       "      <td>6.16</td>\n",
       "      <td>6.08</td>\n",
       "      <td>6.00</td>\n",
       "      <td>5.92</td>\n",
       "      <td>5.84</td>\n",
       "      <td>5.77</td>\n",
       "      <td>5.69</td>\n",
       "      <td>5.62</td>\n",
       "      <td>5.55</td>\n",
       "    </tr>\n",
       "    <tr>\n",
       "      <th>4</th>\n",
       "      <td>Antigua and Barbuda</td>\n",
       "      <td>4.45</td>\n",
       "      <td>4.46</td>\n",
       "      <td>4.50</td>\n",
       "      <td>4.52</td>\n",
       "      <td>4.53</td>\n",
       "      <td>4.53</td>\n",
       "      <td>4.53</td>\n",
       "      <td>4.51</td>\n",
       "      <td>4.49</td>\n",
       "      <td>...</td>\n",
       "      <td>2.15</td>\n",
       "      <td>2.13</td>\n",
       "      <td>2.12</td>\n",
       "      <td>2.10</td>\n",
       "      <td>2.09</td>\n",
       "      <td>2.08</td>\n",
       "      <td>2.06</td>\n",
       "      <td>2.05</td>\n",
       "      <td>2.04</td>\n",
       "      <td>2.03</td>\n",
       "    </tr>\n",
       "  </tbody>\n",
       "</table>\n",
       "<p>5 rows × 70 columns</p>\n",
       "</div>"
      ],
      "text/plain": [
       "               country  1950  1951  1952  1953  1954  1955  1956  1957  1958  \\\n",
       "0          Afghanistan  7.57  7.56  7.55  7.54  7.53  7.52  7.51  7.49  7.48   \n",
       "1              Albania  5.87  5.97  6.13  6.27  6.37  6.45  6.50  6.53  6.54   \n",
       "2              Algeria  7.49  7.47  7.44  7.43  7.41  7.41  7.41  7.43  7.45   \n",
       "3               Angola  7.11  7.13  7.15  7.17  7.20  7.23  7.27  7.31  7.36   \n",
       "4  Antigua and Barbuda  4.45  4.46  4.50  4.52  4.53  4.53  4.53  4.51  4.49   \n",
       "\n",
       "   ...   2009  2010  2011  2012  2013  2014  2015  2016  2017  2018  \n",
       "0  ...   6.04  5.82  5.60  5.38  5.17  4.98  4.80  4.64  4.48  4.33  \n",
       "1  ...   1.65  1.65  1.67  1.69  1.70  1.71  1.71  1.71  1.71  1.71  \n",
       "2  ...   2.83  2.89  2.93  2.94  2.92  2.89  2.84  2.78  2.71  2.64  \n",
       "3  ...   6.24  6.16  6.08  6.00  5.92  5.84  5.77  5.69  5.62  5.55  \n",
       "4  ...   2.15  2.13  2.12  2.10  2.09  2.08  2.06  2.05  2.04  2.03  \n",
       "\n",
       "[5 rows x 70 columns]"
      ]
     },
     "execution_count": 36,
     "metadata": {},
     "output_type": "execute_result"
    }
   ],
   "source": [
    "cols=  df_birth.columns[1:151] \n",
    "df_birth.drop(cols,axis=1, inplace=True)\n",
    "df_birth.head()"
   ]
  },
  {
   "cell_type": "code",
   "execution_count": 37,
   "metadata": {},
   "outputs": [
    {
     "data": {
      "text/html": [
       "<div>\n",
       "<style>\n",
       "    .dataframe thead tr:only-child th {\n",
       "        text-align: right;\n",
       "    }\n",
       "\n",
       "    .dataframe thead th {\n",
       "        text-align: left;\n",
       "    }\n",
       "\n",
       "    .dataframe tbody tr th {\n",
       "        vertical-align: top;\n",
       "    }\n",
       "</style>\n",
       "<table border=\"1\" class=\"dataframe\">\n",
       "  <thead>\n",
       "    <tr style=\"text-align: right;\">\n",
       "      <th></th>\n",
       "      <th>country</th>\n",
       "      <th>1950</th>\n",
       "      <th>1960</th>\n",
       "      <th>1970</th>\n",
       "      <th>1980</th>\n",
       "      <th>1990</th>\n",
       "      <th>2000</th>\n",
       "      <th>2010</th>\n",
       "      <th>2018</th>\n",
       "    </tr>\n",
       "  </thead>\n",
       "  <tbody>\n",
       "    <tr>\n",
       "      <th>0</th>\n",
       "      <td>Afghanistan</td>\n",
       "      <td>7.57</td>\n",
       "      <td>7.45</td>\n",
       "      <td>7.45</td>\n",
       "      <td>7.45</td>\n",
       "      <td>7.47</td>\n",
       "      <td>7.49</td>\n",
       "      <td>5.82</td>\n",
       "      <td>4.33</td>\n",
       "    </tr>\n",
       "    <tr>\n",
       "      <th>1</th>\n",
       "      <td>Albania</td>\n",
       "      <td>5.87</td>\n",
       "      <td>6.49</td>\n",
       "      <td>4.91</td>\n",
       "      <td>3.62</td>\n",
       "      <td>2.98</td>\n",
       "      <td>2.16</td>\n",
       "      <td>1.65</td>\n",
       "      <td>1.71</td>\n",
       "    </tr>\n",
       "    <tr>\n",
       "      <th>2</th>\n",
       "      <td>Algeria</td>\n",
       "      <td>7.49</td>\n",
       "      <td>7.52</td>\n",
       "      <td>7.64</td>\n",
       "      <td>6.79</td>\n",
       "      <td>4.73</td>\n",
       "      <td>2.51</td>\n",
       "      <td>2.89</td>\n",
       "      <td>2.64</td>\n",
       "    </tr>\n",
       "    <tr>\n",
       "      <th>3</th>\n",
       "      <td>Angola</td>\n",
       "      <td>7.11</td>\n",
       "      <td>7.48</td>\n",
       "      <td>7.60</td>\n",
       "      <td>7.50</td>\n",
       "      <td>7.25</td>\n",
       "      <td>6.64</td>\n",
       "      <td>6.16</td>\n",
       "      <td>5.55</td>\n",
       "    </tr>\n",
       "    <tr>\n",
       "      <th>4</th>\n",
       "      <td>Antigua and Barbuda</td>\n",
       "      <td>4.45</td>\n",
       "      <td>4.43</td>\n",
       "      <td>3.68</td>\n",
       "      <td>2.12</td>\n",
       "      <td>2.06</td>\n",
       "      <td>2.32</td>\n",
       "      <td>2.13</td>\n",
       "      <td>2.03</td>\n",
       "    </tr>\n",
       "  </tbody>\n",
       "</table>\n",
       "</div>"
      ],
      "text/plain": [
       "               country  1950  1960  1970  1980  1990  2000  2010  2018\n",
       "0          Afghanistan  7.57  7.45  7.45  7.45  7.47  7.49  5.82  4.33\n",
       "1              Albania  5.87  6.49  4.91  3.62  2.98  2.16  1.65  1.71\n",
       "2              Algeria  7.49  7.52  7.64  6.79  4.73  2.51  2.89  2.64\n",
       "3               Angola  7.11  7.48  7.60  7.50  7.25  6.64  6.16  5.55\n",
       "4  Antigua and Barbuda  4.45  4.43  3.68  2.12  2.06  2.32  2.13  2.03"
      ]
     },
     "execution_count": 37,
     "metadata": {},
     "output_type": "execute_result"
    }
   ],
   "source": [
    "#selecting the years 1950, 1960, 1970, 1980, 1990, 2000, 2010, 2018\n",
    "df_birth = df_birth[['country','1950', '1960', '1970', '1980', '1990', '2000', '2010', '2018']]\n",
    "df_birth.head()"
   ]
  },
  {
   "cell_type": "markdown",
   "metadata": {},
   "source": [
    "#### Fertility grouping For Low Income Countries"
   ]
  },
  {
   "cell_type": "code",
   "execution_count": 38,
   "metadata": {},
   "outputs": [
    {
     "data": {
      "text/html": [
       "<div>\n",
       "<style>\n",
       "    .dataframe thead tr:only-child th {\n",
       "        text-align: right;\n",
       "    }\n",
       "\n",
       "    .dataframe thead th {\n",
       "        text-align: left;\n",
       "    }\n",
       "\n",
       "    .dataframe tbody tr th {\n",
       "        vertical-align: top;\n",
       "    }\n",
       "</style>\n",
       "<table border=\"1\" class=\"dataframe\">\n",
       "  <thead>\n",
       "    <tr style=\"text-align: right;\">\n",
       "      <th></th>\n",
       "      <th>country</th>\n",
       "      <th>1950</th>\n",
       "      <th>1960</th>\n",
       "      <th>1970</th>\n",
       "      <th>1980</th>\n",
       "      <th>1990</th>\n",
       "      <th>2000</th>\n",
       "      <th>2010</th>\n",
       "      <th>2018</th>\n",
       "    </tr>\n",
       "  </thead>\n",
       "  <tbody>\n",
       "    <tr>\n",
       "      <th>26</th>\n",
       "      <td>Burundi</td>\n",
       "      <td>6.82</td>\n",
       "      <td>6.95</td>\n",
       "      <td>7.29</td>\n",
       "      <td>7.42</td>\n",
       "      <td>7.51</td>\n",
       "      <td>7.01</td>\n",
       "      <td>6.26</td>\n",
       "      <td>5.53</td>\n",
       "    </tr>\n",
       "  </tbody>\n",
       "</table>\n",
       "</div>"
      ],
      "text/plain": [
       "    country  1950  1960  1970  1980  1990  2000  2010  2018\n",
       "26  Burundi  6.82  6.95  7.29  7.42  7.51  7.01  6.26  5.53"
      ]
     },
     "execution_count": 38,
     "metadata": {},
     "output_type": "execute_result"
    }
   ],
   "source": [
    "# grouping the data for low income country\n",
    "low_income_birth = df_birth.loc[df_birth.country.isin(low_income.country.tolist())]\n",
    "low_income_birth.head(1)"
   ]
  },
  {
   "cell_type": "markdown",
   "metadata": {},
   "source": [
    "#### Fertily grouping For Lower Middle Income Countries"
   ]
  },
  {
   "cell_type": "code",
   "execution_count": 39,
   "metadata": {
    "scrolled": true
   },
   "outputs": [
    {
     "data": {
      "text/html": [
       "<div>\n",
       "<style>\n",
       "    .dataframe thead tr:only-child th {\n",
       "        text-align: right;\n",
       "    }\n",
       "\n",
       "    .dataframe thead th {\n",
       "        text-align: left;\n",
       "    }\n",
       "\n",
       "    .dataframe tbody tr th {\n",
       "        vertical-align: top;\n",
       "    }\n",
       "</style>\n",
       "<table border=\"1\" class=\"dataframe\">\n",
       "  <thead>\n",
       "    <tr style=\"text-align: right;\">\n",
       "      <th></th>\n",
       "      <th>country</th>\n",
       "      <th>1950</th>\n",
       "      <th>1960</th>\n",
       "      <th>1970</th>\n",
       "      <th>1980</th>\n",
       "      <th>1990</th>\n",
       "      <th>2000</th>\n",
       "      <th>2010</th>\n",
       "      <th>2018</th>\n",
       "    </tr>\n",
       "  </thead>\n",
       "  <tbody>\n",
       "    <tr>\n",
       "      <th>0</th>\n",
       "      <td>Afghanistan</td>\n",
       "      <td>7.57</td>\n",
       "      <td>7.45</td>\n",
       "      <td>7.45</td>\n",
       "      <td>7.45</td>\n",
       "      <td>7.47</td>\n",
       "      <td>7.49</td>\n",
       "      <td>5.82</td>\n",
       "      <td>4.33</td>\n",
       "    </tr>\n",
       "  </tbody>\n",
       "</table>\n",
       "</div>"
      ],
      "text/plain": [
       "       country  1950  1960  1970  1980  1990  2000  2010  2018\n",
       "0  Afghanistan  7.57  7.45  7.45  7.45  7.47  7.49  5.82  4.33"
      ]
     },
     "execution_count": 39,
     "metadata": {},
     "output_type": "execute_result"
    }
   ],
   "source": [
    "# grouping the data for lower middle income country\n",
    "lower_middle_income_birth = df_birth.loc[df_birth.country.isin(lower_middle_income.country.tolist())]\n",
    "lower_middle_income_birth.head(1)"
   ]
  },
  {
   "cell_type": "markdown",
   "metadata": {},
   "source": [
    "#### Fertily grouping For Upper Middle Income Countries"
   ]
  },
  {
   "cell_type": "code",
   "execution_count": 40,
   "metadata": {},
   "outputs": [
    {
     "data": {
      "text/html": [
       "<div>\n",
       "<style>\n",
       "    .dataframe thead tr:only-child th {\n",
       "        text-align: right;\n",
       "    }\n",
       "\n",
       "    .dataframe thead th {\n",
       "        text-align: left;\n",
       "    }\n",
       "\n",
       "    .dataframe tbody tr th {\n",
       "        vertical-align: top;\n",
       "    }\n",
       "</style>\n",
       "<table border=\"1\" class=\"dataframe\">\n",
       "  <thead>\n",
       "    <tr style=\"text-align: right;\">\n",
       "      <th></th>\n",
       "      <th>country</th>\n",
       "      <th>1950</th>\n",
       "      <th>1960</th>\n",
       "      <th>1970</th>\n",
       "      <th>1980</th>\n",
       "      <th>1990</th>\n",
       "      <th>2000</th>\n",
       "      <th>2010</th>\n",
       "      <th>2018</th>\n",
       "    </tr>\n",
       "  </thead>\n",
       "  <tbody>\n",
       "    <tr>\n",
       "      <th>3</th>\n",
       "      <td>Angola</td>\n",
       "      <td>7.11</td>\n",
       "      <td>7.48</td>\n",
       "      <td>7.6</td>\n",
       "      <td>7.5</td>\n",
       "      <td>7.25</td>\n",
       "      <td>6.64</td>\n",
       "      <td>6.16</td>\n",
       "      <td>5.55</td>\n",
       "    </tr>\n",
       "  </tbody>\n",
       "</table>\n",
       "</div>"
      ],
      "text/plain": [
       "  country  1950  1960  1970  1980  1990  2000  2010  2018\n",
       "3  Angola  7.11  7.48   7.6   7.5  7.25  6.64  6.16  5.55"
      ]
     },
     "execution_count": 40,
     "metadata": {},
     "output_type": "execute_result"
    }
   ],
   "source": [
    "# grouping the data for lower middle income country\n",
    "upper_middle_income_birth = df_birth.loc[df_birth.country.isin(upper_middle_income.country.tolist())]\n",
    "upper_middle_income_birth.head(1)"
   ]
  },
  {
   "cell_type": "markdown",
   "metadata": {},
   "source": [
    "#### Fertily grouping For High Income Countries"
   ]
  },
  {
   "cell_type": "code",
   "execution_count": 41,
   "metadata": {},
   "outputs": [
    {
     "data": {
      "text/html": [
       "<div>\n",
       "<style>\n",
       "    .dataframe thead tr:only-child th {\n",
       "        text-align: right;\n",
       "    }\n",
       "\n",
       "    .dataframe thead th {\n",
       "        text-align: left;\n",
       "    }\n",
       "\n",
       "    .dataframe tbody tr th {\n",
       "        vertical-align: top;\n",
       "    }\n",
       "</style>\n",
       "<table border=\"1\" class=\"dataframe\">\n",
       "  <thead>\n",
       "    <tr style=\"text-align: right;\">\n",
       "      <th></th>\n",
       "      <th>country</th>\n",
       "      <th>1950</th>\n",
       "      <th>1960</th>\n",
       "      <th>1970</th>\n",
       "      <th>1980</th>\n",
       "      <th>1990</th>\n",
       "      <th>2000</th>\n",
       "      <th>2010</th>\n",
       "      <th>2018</th>\n",
       "    </tr>\n",
       "  </thead>\n",
       "  <tbody>\n",
       "    <tr>\n",
       "      <th>1</th>\n",
       "      <td>Albania</td>\n",
       "      <td>5.87</td>\n",
       "      <td>6.49</td>\n",
       "      <td>4.91</td>\n",
       "      <td>3.62</td>\n",
       "      <td>2.98</td>\n",
       "      <td>2.16</td>\n",
       "      <td>1.65</td>\n",
       "      <td>1.71</td>\n",
       "    </tr>\n",
       "  </tbody>\n",
       "</table>\n",
       "</div>"
      ],
      "text/plain": [
       "   country  1950  1960  1970  1980  1990  2000  2010  2018\n",
       "1  Albania  5.87  6.49  4.91  3.62  2.98  2.16  1.65  1.71"
      ]
     },
     "execution_count": 41,
     "metadata": {},
     "output_type": "execute_result"
    }
   ],
   "source": [
    "# grouping the data for High income country\n",
    "high_income_birth = df_birth.loc[df_birth.country.isin(high_income.country.tolist())]\n",
    "high_income_birth.head(1)"
   ]
  },
  {
   "cell_type": "markdown",
   "metadata": {},
   "source": [
    "### Economic Growth Grouping by Income Level, from the year 1950\n",
    "based on the classification by countries's income, we are equally going to classify this  dataset in 4 groups. <br>\n",
    "we are going to create 4 groups within the Economic Growth Dataset: \n",
    "* low_income_growth\n",
    "* lower_middle_income_growth\n",
    "* upper_middle_income_growth\n",
    "* high_income_growth\n",
    "\n",
    "#### Limiting the dataset from the year 1950\n",
    "this dataset has data from the year 1801. lets remove the 149 years that are not necessary to answer our questions and only keep the decades that are of interest to us."
   ]
  },
  {
   "cell_type": "code",
   "execution_count": 42,
   "metadata": {},
   "outputs": [
    {
     "data": {
      "text/html": [
       "<div>\n",
       "<style>\n",
       "    .dataframe thead tr:only-child th {\n",
       "        text-align: right;\n",
       "    }\n",
       "\n",
       "    .dataframe thead th {\n",
       "        text-align: left;\n",
       "    }\n",
       "\n",
       "    .dataframe tbody tr th {\n",
       "        vertical-align: top;\n",
       "    }\n",
       "</style>\n",
       "<table border=\"1\" class=\"dataframe\">\n",
       "  <thead>\n",
       "    <tr style=\"text-align: right;\">\n",
       "      <th></th>\n",
       "      <th>country</th>\n",
       "      <th>1950</th>\n",
       "      <th>1951</th>\n",
       "      <th>1952</th>\n",
       "      <th>1953</th>\n",
       "      <th>1954</th>\n",
       "      <th>1955</th>\n",
       "      <th>1956</th>\n",
       "      <th>1957</th>\n",
       "      <th>1958</th>\n",
       "      <th>...</th>\n",
       "      <th>2004</th>\n",
       "      <th>2005</th>\n",
       "      <th>2006</th>\n",
       "      <th>2007</th>\n",
       "      <th>2008</th>\n",
       "      <th>2009</th>\n",
       "      <th>2010</th>\n",
       "      <th>2011</th>\n",
       "      <th>2012</th>\n",
       "      <th>2013</th>\n",
       "    </tr>\n",
       "  </thead>\n",
       "  <tbody>\n",
       "    <tr>\n",
       "      <th>0</th>\n",
       "      <td>Afghanistan</td>\n",
       "      <td>1.42</td>\n",
       "      <td>2.800</td>\n",
       "      <td>3.26</td>\n",
       "      <td>5.97</td>\n",
       "      <td>1.97</td>\n",
       "      <td>1.83</td>\n",
       "      <td>4.32</td>\n",
       "      <td>-0.182</td>\n",
       "      <td>5.42</td>\n",
       "      <td>...</td>\n",
       "      <td>6.55</td>\n",
       "      <td>12.40</td>\n",
       "      <td>4.56</td>\n",
       "      <td>13.600</td>\n",
       "      <td>2.50</td>\n",
       "      <td>20.20</td>\n",
       "      <td>8.04</td>\n",
       "      <td>6.98</td>\n",
       "      <td>14.80</td>\n",
       "      <td>4.47</td>\n",
       "    </tr>\n",
       "    <tr>\n",
       "      <th>1</th>\n",
       "      <td>Albania</td>\n",
       "      <td>0.87</td>\n",
       "      <td>6.460</td>\n",
       "      <td>2.53</td>\n",
       "      <td>6.77</td>\n",
       "      <td>5.84</td>\n",
       "      <td>8.52</td>\n",
       "      <td>4.11</td>\n",
       "      <td>9.760</td>\n",
       "      <td>7.83</td>\n",
       "      <td>...</td>\n",
       "      <td>5.97</td>\n",
       "      <td>5.53</td>\n",
       "      <td>5.77</td>\n",
       "      <td>5.850</td>\n",
       "      <td>7.24</td>\n",
       "      <td>3.28</td>\n",
       "      <td>3.36</td>\n",
       "      <td>2.86</td>\n",
       "      <td>2.64</td>\n",
       "      <td>2.06</td>\n",
       "    </tr>\n",
       "    <tr>\n",
       "      <th>2</th>\n",
       "      <td>Algeria</td>\n",
       "      <td>1.70</td>\n",
       "      <td>0.955</td>\n",
       "      <td>4.29</td>\n",
       "      <td>1.50</td>\n",
       "      <td>7.12</td>\n",
       "      <td>2.68</td>\n",
       "      <td>9.78</td>\n",
       "      <td>11.400</td>\n",
       "      <td>3.74</td>\n",
       "      <td>...</td>\n",
       "      <td>5.41</td>\n",
       "      <td>5.38</td>\n",
       "      <td>1.72</td>\n",
       "      <td>3.420</td>\n",
       "      <td>2.02</td>\n",
       "      <td>1.70</td>\n",
       "      <td>3.57</td>\n",
       "      <td>2.31</td>\n",
       "      <td>2.58</td>\n",
       "      <td>2.99</td>\n",
       "    </tr>\n",
       "    <tr>\n",
       "      <th>3</th>\n",
       "      <td>Andorra</td>\n",
       "      <td>4.48</td>\n",
       "      <td>12.100</td>\n",
       "      <td>12.40</td>\n",
       "      <td>12.50</td>\n",
       "      <td>12.50</td>\n",
       "      <td>12.40</td>\n",
       "      <td>12.20</td>\n",
       "      <td>12.000</td>\n",
       "      <td>11.80</td>\n",
       "      <td>...</td>\n",
       "      <td>8.64</td>\n",
       "      <td>7.80</td>\n",
       "      <td>4.97</td>\n",
       "      <td>0.161</td>\n",
       "      <td>-4.22</td>\n",
       "      <td>-5.06</td>\n",
       "      <td>-3.43</td>\n",
       "      <td>-2.83</td>\n",
       "      <td>NaN</td>\n",
       "      <td>NaN</td>\n",
       "    </tr>\n",
       "    <tr>\n",
       "      <th>4</th>\n",
       "      <td>Angola</td>\n",
       "      <td>4.04</td>\n",
       "      <td>4.090</td>\n",
       "      <td>4.19</td>\n",
       "      <td>4.13</td>\n",
       "      <td>-2.31</td>\n",
       "      <td>8.38</td>\n",
       "      <td>-1.59</td>\n",
       "      <td>9.790</td>\n",
       "      <td>5.46</td>\n",
       "      <td>...</td>\n",
       "      <td>11.20</td>\n",
       "      <td>20.50</td>\n",
       "      <td>18.60</td>\n",
       "      <td>23.200</td>\n",
       "      <td>13.80</td>\n",
       "      <td>2.39</td>\n",
       "      <td>3.45</td>\n",
       "      <td>3.87</td>\n",
       "      <td>4.96</td>\n",
       "      <td>3.79</td>\n",
       "    </tr>\n",
       "  </tbody>\n",
       "</table>\n",
       "<p>5 rows × 65 columns</p>\n",
       "</div>"
      ],
      "text/plain": [
       "       country  1950    1951   1952   1953   1954   1955   1956    1957  \\\n",
       "0  Afghanistan  1.42   2.800   3.26   5.97   1.97   1.83   4.32  -0.182   \n",
       "1      Albania  0.87   6.460   2.53   6.77   5.84   8.52   4.11   9.760   \n",
       "2      Algeria  1.70   0.955   4.29   1.50   7.12   2.68   9.78  11.400   \n",
       "3      Andorra  4.48  12.100  12.40  12.50  12.50  12.40  12.20  12.000   \n",
       "4       Angola  4.04   4.090   4.19   4.13  -2.31   8.38  -1.59   9.790   \n",
       "\n",
       "    1958  ...    2004   2005   2006    2007   2008   2009  2010  2011   2012  \\\n",
       "0   5.42  ...    6.55  12.40   4.56  13.600   2.50  20.20  8.04  6.98  14.80   \n",
       "1   7.83  ...    5.97   5.53   5.77   5.850   7.24   3.28  3.36  2.86   2.64   \n",
       "2   3.74  ...    5.41   5.38   1.72   3.420   2.02   1.70  3.57  2.31   2.58   \n",
       "3  11.80  ...    8.64   7.80   4.97   0.161  -4.22  -5.06 -3.43 -2.83    NaN   \n",
       "4   5.46  ...   11.20  20.50  18.60  23.200  13.80   2.39  3.45  3.87   4.96   \n",
       "\n",
       "   2013  \n",
       "0  4.47  \n",
       "1  2.06  \n",
       "2  2.99  \n",
       "3   NaN  \n",
       "4  3.79  \n",
       "\n",
       "[5 rows x 65 columns]"
      ]
     },
     "execution_count": 42,
     "metadata": {},
     "output_type": "execute_result"
    }
   ],
   "source": [
    "cols=  df_growth.columns[1:150] \n",
    "df_growth.drop(cols,axis=1, inplace=True)\n",
    "df_growth.head()"
   ]
  },
  {
   "cell_type": "code",
   "execution_count": 43,
   "metadata": {},
   "outputs": [
    {
     "data": {
      "text/html": [
       "<div>\n",
       "<style>\n",
       "    .dataframe thead tr:only-child th {\n",
       "        text-align: right;\n",
       "    }\n",
       "\n",
       "    .dataframe thead th {\n",
       "        text-align: left;\n",
       "    }\n",
       "\n",
       "    .dataframe tbody tr th {\n",
       "        vertical-align: top;\n",
       "    }\n",
       "</style>\n",
       "<table border=\"1\" class=\"dataframe\">\n",
       "  <thead>\n",
       "    <tr style=\"text-align: right;\">\n",
       "      <th></th>\n",
       "      <th>country</th>\n",
       "      <th>1950</th>\n",
       "      <th>1960</th>\n",
       "      <th>1970</th>\n",
       "      <th>1980</th>\n",
       "      <th>1990</th>\n",
       "      <th>2000</th>\n",
       "      <th>2010</th>\n",
       "      <th>2013</th>\n",
       "    </tr>\n",
       "  </thead>\n",
       "  <tbody>\n",
       "    <tr>\n",
       "      <th>0</th>\n",
       "      <td>Afghanistan</td>\n",
       "      <td>1.42</td>\n",
       "      <td>3.37</td>\n",
       "      <td>1.94</td>\n",
       "      <td>-0.28</td>\n",
       "      <td>-0.885</td>\n",
       "      <td>1.74</td>\n",
       "      <td>8.04</td>\n",
       "      <td>4.47</td>\n",
       "    </tr>\n",
       "    <tr>\n",
       "      <th>1</th>\n",
       "      <td>Albania</td>\n",
       "      <td>0.87</td>\n",
       "      <td>8.40</td>\n",
       "      <td>6.33</td>\n",
       "      <td>2.81</td>\n",
       "      <td>1.940</td>\n",
       "      <td>6.76</td>\n",
       "      <td>3.36</td>\n",
       "      <td>2.06</td>\n",
       "    </tr>\n",
       "    <tr>\n",
       "      <th>2</th>\n",
       "      <td>Algeria</td>\n",
       "      <td>1.70</td>\n",
       "      <td>6.87</td>\n",
       "      <td>10.10</td>\n",
       "      <td>2.02</td>\n",
       "      <td>-1.450</td>\n",
       "      <td>2.45</td>\n",
       "      <td>3.57</td>\n",
       "      <td>2.99</td>\n",
       "    </tr>\n",
       "    <tr>\n",
       "      <th>3</th>\n",
       "      <td>Andorra</td>\n",
       "      <td>4.48</td>\n",
       "      <td>11.40</td>\n",
       "      <td>9.36</td>\n",
       "      <td>2.21</td>\n",
       "      <td>3.830</td>\n",
       "      <td>1.42</td>\n",
       "      <td>-3.43</td>\n",
       "      <td>NaN</td>\n",
       "    </tr>\n",
       "    <tr>\n",
       "      <th>4</th>\n",
       "      <td>Angola</td>\n",
       "      <td>4.04</td>\n",
       "      <td>4.09</td>\n",
       "      <td>6.50</td>\n",
       "      <td>2.73</td>\n",
       "      <td>-0.445</td>\n",
       "      <td>3.01</td>\n",
       "      <td>3.45</td>\n",
       "      <td>3.79</td>\n",
       "    </tr>\n",
       "  </tbody>\n",
       "</table>\n",
       "</div>"
      ],
      "text/plain": [
       "       country  1950   1960   1970  1980   1990  2000  2010  2013\n",
       "0  Afghanistan  1.42   3.37   1.94 -0.28 -0.885  1.74  8.04  4.47\n",
       "1      Albania  0.87   8.40   6.33  2.81  1.940  6.76  3.36  2.06\n",
       "2      Algeria  1.70   6.87  10.10  2.02 -1.450  2.45  3.57  2.99\n",
       "3      Andorra  4.48  11.40   9.36  2.21  3.830  1.42 -3.43   NaN\n",
       "4       Angola  4.04   4.09   6.50  2.73 -0.445  3.01  3.45  3.79"
      ]
     },
     "execution_count": 43,
     "metadata": {},
     "output_type": "execute_result"
    }
   ],
   "source": [
    "#selecting the years 1950, 1960, 1970, 1980, 1990, 2000, 2010, 2018\n",
    "df_growth = df_growth[['country', '1950', '1960' , '1970','1980', '1990', '2000', '2010', '2013']]\n",
    "df_growth.head()"
   ]
  },
  {
   "cell_type": "markdown",
   "metadata": {},
   "source": [
    "#### GDP Growth grouping For Low Income Countries"
   ]
  },
  {
   "cell_type": "code",
   "execution_count": 44,
   "metadata": {},
   "outputs": [
    {
     "data": {
      "text/html": [
       "<div>\n",
       "<style>\n",
       "    .dataframe thead tr:only-child th {\n",
       "        text-align: right;\n",
       "    }\n",
       "\n",
       "    .dataframe thead th {\n",
       "        text-align: left;\n",
       "    }\n",
       "\n",
       "    .dataframe tbody tr th {\n",
       "        vertical-align: top;\n",
       "    }\n",
       "</style>\n",
       "<table border=\"1\" class=\"dataframe\">\n",
       "  <thead>\n",
       "    <tr style=\"text-align: right;\">\n",
       "      <th></th>\n",
       "      <th>country</th>\n",
       "      <th>1950</th>\n",
       "      <th>1960</th>\n",
       "      <th>1970</th>\n",
       "      <th>1980</th>\n",
       "      <th>1990</th>\n",
       "      <th>2000</th>\n",
       "      <th>2010</th>\n",
       "      <th>2013</th>\n",
       "    </tr>\n",
       "  </thead>\n",
       "  <tbody>\n",
       "    <tr>\n",
       "      <th>27</th>\n",
       "      <td>Burundi</td>\n",
       "      <td>0.855</td>\n",
       "      <td>1.47</td>\n",
       "      <td>26.3</td>\n",
       "      <td>6.4</td>\n",
       "      <td>3.63</td>\n",
       "      <td>-1.15</td>\n",
       "      <td>3.98</td>\n",
       "      <td>3.91</td>\n",
       "    </tr>\n",
       "  </tbody>\n",
       "</table>\n",
       "</div>"
      ],
      "text/plain": [
       "    country   1950  1960  1970  1980  1990  2000  2010  2013\n",
       "27  Burundi  0.855  1.47  26.3   6.4  3.63 -1.15  3.98  3.91"
      ]
     },
     "execution_count": 44,
     "metadata": {},
     "output_type": "execute_result"
    }
   ],
   "source": [
    "# grouping the data for low income countries\n",
    "low_income_growth = df_growth.loc[df_growth.country.isin(low_income.country.tolist())]\n",
    "low_income_growth.head(1)"
   ]
  },
  {
   "cell_type": "markdown",
   "metadata": {},
   "source": [
    "#### GDP Growth grouping For Lower middle Income Countries"
   ]
  },
  {
   "cell_type": "code",
   "execution_count": 45,
   "metadata": {},
   "outputs": [
    {
     "data": {
      "text/html": [
       "<div>\n",
       "<style>\n",
       "    .dataframe thead tr:only-child th {\n",
       "        text-align: right;\n",
       "    }\n",
       "\n",
       "    .dataframe thead th {\n",
       "        text-align: left;\n",
       "    }\n",
       "\n",
       "    .dataframe tbody tr th {\n",
       "        vertical-align: top;\n",
       "    }\n",
       "</style>\n",
       "<table border=\"1\" class=\"dataframe\">\n",
       "  <thead>\n",
       "    <tr style=\"text-align: right;\">\n",
       "      <th></th>\n",
       "      <th>country</th>\n",
       "      <th>1950</th>\n",
       "      <th>1960</th>\n",
       "      <th>1970</th>\n",
       "      <th>1980</th>\n",
       "      <th>1990</th>\n",
       "      <th>2000</th>\n",
       "      <th>2010</th>\n",
       "      <th>2013</th>\n",
       "    </tr>\n",
       "  </thead>\n",
       "  <tbody>\n",
       "    <tr>\n",
       "      <th>0</th>\n",
       "      <td>Afghanistan</td>\n",
       "      <td>1.42</td>\n",
       "      <td>3.37</td>\n",
       "      <td>1.94</td>\n",
       "      <td>-0.28</td>\n",
       "      <td>-0.885</td>\n",
       "      <td>1.74</td>\n",
       "      <td>8.04</td>\n",
       "      <td>4.47</td>\n",
       "    </tr>\n",
       "  </tbody>\n",
       "</table>\n",
       "</div>"
      ],
      "text/plain": [
       "       country  1950  1960  1970  1980   1990  2000  2010  2013\n",
       "0  Afghanistan  1.42  3.37  1.94 -0.28 -0.885  1.74  8.04  4.47"
      ]
     },
     "execution_count": 45,
     "metadata": {},
     "output_type": "execute_result"
    }
   ],
   "source": [
    "# grouping the data for lower middle income countries\n",
    "lower_middle_income_growth = df_growth.loc[df_growth.country.isin(lower_middle_income.country.tolist())]\n",
    "lower_middle_income_growth.head(1)"
   ]
  },
  {
   "cell_type": "markdown",
   "metadata": {},
   "source": [
    "#### GDP Growth grouping For Upper middle Income Countries"
   ]
  },
  {
   "cell_type": "code",
   "execution_count": 46,
   "metadata": {},
   "outputs": [
    {
     "data": {
      "text/html": [
       "<div>\n",
       "<style>\n",
       "    .dataframe thead tr:only-child th {\n",
       "        text-align: right;\n",
       "    }\n",
       "\n",
       "    .dataframe thead th {\n",
       "        text-align: left;\n",
       "    }\n",
       "\n",
       "    .dataframe tbody tr th {\n",
       "        vertical-align: top;\n",
       "    }\n",
       "</style>\n",
       "<table border=\"1\" class=\"dataframe\">\n",
       "  <thead>\n",
       "    <tr style=\"text-align: right;\">\n",
       "      <th></th>\n",
       "      <th>country</th>\n",
       "      <th>1950</th>\n",
       "      <th>1960</th>\n",
       "      <th>1970</th>\n",
       "      <th>1980</th>\n",
       "      <th>1990</th>\n",
       "      <th>2000</th>\n",
       "      <th>2010</th>\n",
       "      <th>2013</th>\n",
       "    </tr>\n",
       "  </thead>\n",
       "  <tbody>\n",
       "    <tr>\n",
       "      <th>4</th>\n",
       "      <td>Angola</td>\n",
       "      <td>4.04</td>\n",
       "      <td>4.09</td>\n",
       "      <td>6.5</td>\n",
       "      <td>2.73</td>\n",
       "      <td>-0.445</td>\n",
       "      <td>3.01</td>\n",
       "      <td>3.45</td>\n",
       "      <td>3.79</td>\n",
       "    </tr>\n",
       "  </tbody>\n",
       "</table>\n",
       "</div>"
      ],
      "text/plain": [
       "  country  1950  1960  1970  1980   1990  2000  2010  2013\n",
       "4  Angola  4.04  4.09   6.5  2.73 -0.445  3.01  3.45  3.79"
      ]
     },
     "execution_count": 46,
     "metadata": {},
     "output_type": "execute_result"
    }
   ],
   "source": [
    "# grouping the data for upper middle income countries\n",
    "upper_middle_income_growth = df_growth.loc[df_growth.country.isin(upper_middle_income.country.tolist())]\n",
    "upper_middle_income_growth.head(1)"
   ]
  },
  {
   "cell_type": "markdown",
   "metadata": {},
   "source": [
    "#### GDP Growth grouping For High Income Countries"
   ]
  },
  {
   "cell_type": "code",
   "execution_count": 47,
   "metadata": {
    "scrolled": true
   },
   "outputs": [
    {
     "data": {
      "text/html": [
       "<div>\n",
       "<style>\n",
       "    .dataframe thead tr:only-child th {\n",
       "        text-align: right;\n",
       "    }\n",
       "\n",
       "    .dataframe thead th {\n",
       "        text-align: left;\n",
       "    }\n",
       "\n",
       "    .dataframe tbody tr th {\n",
       "        vertical-align: top;\n",
       "    }\n",
       "</style>\n",
       "<table border=\"1\" class=\"dataframe\">\n",
       "  <thead>\n",
       "    <tr style=\"text-align: right;\">\n",
       "      <th></th>\n",
       "      <th>country</th>\n",
       "      <th>1950</th>\n",
       "      <th>1960</th>\n",
       "      <th>1970</th>\n",
       "      <th>1980</th>\n",
       "      <th>1990</th>\n",
       "      <th>2000</th>\n",
       "      <th>2010</th>\n",
       "      <th>2013</th>\n",
       "    </tr>\n",
       "  </thead>\n",
       "  <tbody>\n",
       "    <tr>\n",
       "      <th>1</th>\n",
       "      <td>Albania</td>\n",
       "      <td>0.87</td>\n",
       "      <td>8.4</td>\n",
       "      <td>6.33</td>\n",
       "      <td>2.81</td>\n",
       "      <td>1.94</td>\n",
       "      <td>6.76</td>\n",
       "      <td>3.36</td>\n",
       "      <td>2.06</td>\n",
       "    </tr>\n",
       "  </tbody>\n",
       "</table>\n",
       "</div>"
      ],
      "text/plain": [
       "   country  1950  1960  1970  1980  1990  2000  2010  2013\n",
       "1  Albania  0.87   8.4  6.33  2.81  1.94  6.76  3.36  2.06"
      ]
     },
     "execution_count": 47,
     "metadata": {},
     "output_type": "execute_result"
    }
   ],
   "source": [
    "# grouping the data for upper middle income countries\n",
    "high_income_growth = df_growth.loc[df_growth.country.isin(high_income.country.tolist())]\n",
    "high_income_growth.head(1)"
   ]
  },
  {
   "cell_type": "markdown",
   "metadata": {},
   "source": [
    "<a id='eda'></a>\n",
    "## Exploratory Data Analysis\n",
    "\n",
    "so Now we have grouped all the countries in 4 categories based on income level. \n",
    "From now on we are going to compare Low income countries, lower middle income countries, upper middle income countries and high income countries on 3 metrics: Life expectancy, Fertility Rate and Economical Growth since the 1950's.\n",
    "\n",
    "Since the data is already cleaned and grouped, we are going to plot all the different metrics to have a visual representation of what is going on in each group for each metric\n",
    "\n",
    "### comparaison on Life Expectancy: How much does the Income Level of  a country influence the life expectancy of its habitants? Compared to countries from different income Level\n",
    "* low_income_expectancy \n",
    "* lower_middle_income_expectancy\n",
    "* upper_middle_income_expectancy\n",
    "* high_income_expectancy"
   ]
  },
  {
   "cell_type": "markdown",
   "metadata": {},
   "source": [
    "#### Life Expectancy In Countries with Low Income (Less than 995 USD of GNI per Capita in 2018)\n",
    "In order to analyze the data we need to put first change its format from wide shape to  long range. <br>\n",
    "we will then calculate the mean life expectancy"
   ]
  },
  {
   "cell_type": "code",
   "execution_count": 48,
   "metadata": {
    "scrolled": true
   },
   "outputs": [
    {
     "data": {
      "text/html": [
       "<div>\n",
       "<style>\n",
       "    .dataframe thead tr:only-child th {\n",
       "        text-align: right;\n",
       "    }\n",
       "\n",
       "    .dataframe thead th {\n",
       "        text-align: left;\n",
       "    }\n",
       "\n",
       "    .dataframe tbody tr th {\n",
       "        vertical-align: top;\n",
       "    }\n",
       "</style>\n",
       "<table border=\"1\" class=\"dataframe\">\n",
       "  <thead>\n",
       "    <tr style=\"text-align: right;\">\n",
       "      <th></th>\n",
       "      <th>1950</th>\n",
       "      <th>1960</th>\n",
       "      <th>1970</th>\n",
       "      <th>1980</th>\n",
       "      <th>1990</th>\n",
       "      <th>2000</th>\n",
       "      <th>2010</th>\n",
       "      <th>2018</th>\n",
       "    </tr>\n",
       "    <tr>\n",
       "      <th>country</th>\n",
       "      <th></th>\n",
       "      <th></th>\n",
       "      <th></th>\n",
       "      <th></th>\n",
       "      <th></th>\n",
       "      <th></th>\n",
       "      <th></th>\n",
       "      <th></th>\n",
       "    </tr>\n",
       "  </thead>\n",
       "  <tbody>\n",
       "    <tr>\n",
       "      <th>Burundi</th>\n",
       "      <td>39.0</td>\n",
       "      <td>42.0</td>\n",
       "      <td>44.7</td>\n",
       "      <td>46.3</td>\n",
       "      <td>48.0</td>\n",
       "      <td>47.9</td>\n",
       "      <td>57.7</td>\n",
       "      <td>61.1</td>\n",
       "    </tr>\n",
       "    <tr>\n",
       "      <th>Central African Republic</th>\n",
       "      <td>36.5</td>\n",
       "      <td>41.4</td>\n",
       "      <td>48.3</td>\n",
       "      <td>49.6</td>\n",
       "      <td>48.2</td>\n",
       "      <td>44.5</td>\n",
       "      <td>47.5</td>\n",
       "      <td>51.6</td>\n",
       "    </tr>\n",
       "    <tr>\n",
       "      <th>Congo, Dem. Rep.</th>\n",
       "      <td>42.8</td>\n",
       "      <td>46.5</td>\n",
       "      <td>50.3</td>\n",
       "      <td>52.6</td>\n",
       "      <td>53.8</td>\n",
       "      <td>53.4</td>\n",
       "      <td>57.5</td>\n",
       "      <td>62.4</td>\n",
       "    </tr>\n",
       "    <tr>\n",
       "      <th>Liberia</th>\n",
       "      <td>38.2</td>\n",
       "      <td>41.3</td>\n",
       "      <td>47.5</td>\n",
       "      <td>51.5</td>\n",
       "      <td>49.9</td>\n",
       "      <td>54.5</td>\n",
       "      <td>60.8</td>\n",
       "      <td>65.4</td>\n",
       "    </tr>\n",
       "    <tr>\n",
       "      <th>Niger</th>\n",
       "      <td>40.5</td>\n",
       "      <td>42.0</td>\n",
       "      <td>43.6</td>\n",
       "      <td>43.9</td>\n",
       "      <td>47.1</td>\n",
       "      <td>52.2</td>\n",
       "      <td>58.8</td>\n",
       "      <td>62.5</td>\n",
       "    </tr>\n",
       "    <tr>\n",
       "      <th>Somalia</th>\n",
       "      <td>38.9</td>\n",
       "      <td>44.2</td>\n",
       "      <td>49.8</td>\n",
       "      <td>50.8</td>\n",
       "      <td>50.7</td>\n",
       "      <td>52.1</td>\n",
       "      <td>53.1</td>\n",
       "      <td>58.0</td>\n",
       "    </tr>\n",
       "  </tbody>\n",
       "</table>\n",
       "</div>"
      ],
      "text/plain": [
       "                          1950  1960  1970  1980  1990  2000  2010  2018\n",
       "country                                                                 \n",
       "Burundi                   39.0  42.0  44.7  46.3  48.0  47.9  57.7  61.1\n",
       "Central African Republic  36.5  41.4  48.3  49.6  48.2  44.5  47.5  51.6\n",
       "Congo, Dem. Rep.          42.8  46.5  50.3  52.6  53.8  53.4  57.5  62.4\n",
       "Liberia                   38.2  41.3  47.5  51.5  49.9  54.5  60.8  65.4\n",
       "Niger                     40.5  42.0  43.6  43.9  47.1  52.2  58.8  62.5\n",
       "Somalia                   38.9  44.2  49.8  50.8  50.7  52.1  53.1  58.0"
      ]
     },
     "execution_count": 48,
     "metadata": {},
     "output_type": "execute_result"
    }
   ],
   "source": [
    "#setting the country column as the index\n",
    "low_income_expectancy.set_index('country', inplace=True)\n",
    "low_income_expectancy"
   ]
  },
  {
   "cell_type": "markdown",
   "metadata": {},
   "source": [
    "Verifying if there is any null values in the dataframe. <br>\n",
    "checking and handling null values now (if any) because now I can use the mean value of the given group to fill in the missing values. The mean value of the same group might a more realistic value than the mean off all group combined. <br> \n",
    "we are going to apply the same method for all groups. "
   ]
  },
  {
   "cell_type": "code",
   "execution_count": 49,
   "metadata": {},
   "outputs": [
    {
     "data": {
      "text/plain": [
       "0"
      ]
     },
     "execution_count": 49,
     "metadata": {},
     "output_type": "execute_result"
    }
   ],
   "source": [
    "#verifying if there is null values. there is none\n",
    "low_income_expectancy.isnull().sum().sum()"
   ]
  },
  {
   "cell_type": "code",
   "execution_count": 50,
   "metadata": {},
   "outputs": [
    {
     "data": {
      "text/html": [
       "<div>\n",
       "<style>\n",
       "    .dataframe thead tr:only-child th {\n",
       "        text-align: right;\n",
       "    }\n",
       "\n",
       "    .dataframe thead th {\n",
       "        text-align: left;\n",
       "    }\n",
       "\n",
       "    .dataframe tbody tr th {\n",
       "        vertical-align: top;\n",
       "    }\n",
       "</style>\n",
       "<table border=\"1\" class=\"dataframe\">\n",
       "  <thead>\n",
       "    <tr style=\"text-align: right;\">\n",
       "      <th></th>\n",
       "      <th>1950</th>\n",
       "      <th>1960</th>\n",
       "      <th>1970</th>\n",
       "      <th>1980</th>\n",
       "      <th>1990</th>\n",
       "      <th>2000</th>\n",
       "      <th>2010</th>\n",
       "      <th>2018</th>\n",
       "    </tr>\n",
       "  </thead>\n",
       "  <tbody>\n",
       "    <tr>\n",
       "      <th>count</th>\n",
       "      <td>6.000000</td>\n",
       "      <td>6.00000</td>\n",
       "      <td>6.000000</td>\n",
       "      <td>6.000000</td>\n",
       "      <td>6.000000</td>\n",
       "      <td>6.000000</td>\n",
       "      <td>6.000000</td>\n",
       "      <td>6.000000</td>\n",
       "    </tr>\n",
       "    <tr>\n",
       "      <th>mean</th>\n",
       "      <td>39.316667</td>\n",
       "      <td>42.90000</td>\n",
       "      <td>47.366667</td>\n",
       "      <td>49.116667</td>\n",
       "      <td>49.616667</td>\n",
       "      <td>50.766667</td>\n",
       "      <td>55.900000</td>\n",
       "      <td>60.166667</td>\n",
       "    </tr>\n",
       "    <tr>\n",
       "      <th>std</th>\n",
       "      <td>2.144217</td>\n",
       "      <td>2.05329</td>\n",
       "      <td>2.709736</td>\n",
       "      <td>3.347487</td>\n",
       "      <td>2.437553</td>\n",
       "      <td>3.799825</td>\n",
       "      <td>4.829493</td>\n",
       "      <td>4.832667</td>\n",
       "    </tr>\n",
       "    <tr>\n",
       "      <th>min</th>\n",
       "      <td>36.500000</td>\n",
       "      <td>41.30000</td>\n",
       "      <td>43.600000</td>\n",
       "      <td>43.900000</td>\n",
       "      <td>47.100000</td>\n",
       "      <td>44.500000</td>\n",
       "      <td>47.500000</td>\n",
       "      <td>51.600000</td>\n",
       "    </tr>\n",
       "    <tr>\n",
       "      <th>25%</th>\n",
       "      <td>38.375000</td>\n",
       "      <td>41.55000</td>\n",
       "      <td>45.400000</td>\n",
       "      <td>47.125000</td>\n",
       "      <td>48.050000</td>\n",
       "      <td>48.950000</td>\n",
       "      <td>54.200000</td>\n",
       "      <td>58.775000</td>\n",
       "    </tr>\n",
       "    <tr>\n",
       "      <th>50%</th>\n",
       "      <td>38.950000</td>\n",
       "      <td>42.00000</td>\n",
       "      <td>47.900000</td>\n",
       "      <td>50.200000</td>\n",
       "      <td>49.050000</td>\n",
       "      <td>52.150000</td>\n",
       "      <td>57.600000</td>\n",
       "      <td>61.750000</td>\n",
       "    </tr>\n",
       "    <tr>\n",
       "      <th>75%</th>\n",
       "      <td>40.125000</td>\n",
       "      <td>43.65000</td>\n",
       "      <td>49.425000</td>\n",
       "      <td>51.325000</td>\n",
       "      <td>50.500000</td>\n",
       "      <td>53.100000</td>\n",
       "      <td>58.525000</td>\n",
       "      <td>62.475000</td>\n",
       "    </tr>\n",
       "    <tr>\n",
       "      <th>max</th>\n",
       "      <td>42.800000</td>\n",
       "      <td>46.50000</td>\n",
       "      <td>50.300000</td>\n",
       "      <td>52.600000</td>\n",
       "      <td>53.800000</td>\n",
       "      <td>54.500000</td>\n",
       "      <td>60.800000</td>\n",
       "      <td>65.400000</td>\n",
       "    </tr>\n",
       "  </tbody>\n",
       "</table>\n",
       "</div>"
      ],
      "text/plain": [
       "            1950      1960       1970       1980       1990       2000  \\\n",
       "count   6.000000   6.00000   6.000000   6.000000   6.000000   6.000000   \n",
       "mean   39.316667  42.90000  47.366667  49.116667  49.616667  50.766667   \n",
       "std     2.144217   2.05329   2.709736   3.347487   2.437553   3.799825   \n",
       "min    36.500000  41.30000  43.600000  43.900000  47.100000  44.500000   \n",
       "25%    38.375000  41.55000  45.400000  47.125000  48.050000  48.950000   \n",
       "50%    38.950000  42.00000  47.900000  50.200000  49.050000  52.150000   \n",
       "75%    40.125000  43.65000  49.425000  51.325000  50.500000  53.100000   \n",
       "max    42.800000  46.50000  50.300000  52.600000  53.800000  54.500000   \n",
       "\n",
       "            2010       2018  \n",
       "count   6.000000   6.000000  \n",
       "mean   55.900000  60.166667  \n",
       "std     4.829493   4.832667  \n",
       "min    47.500000  51.600000  \n",
       "25%    54.200000  58.775000  \n",
       "50%    57.600000  61.750000  \n",
       "75%    58.525000  62.475000  \n",
       "max    60.800000  65.400000  "
      ]
     },
     "execution_count": 50,
     "metadata": {},
     "output_type": "execute_result"
    }
   ],
   "source": [
    "low_income_expectancy.describe()"
   ]
  },
  {
   "cell_type": "markdown",
   "metadata": {},
   "source": [
    "we can see the mean age for this group. in 1950 it was 39.31 years, 42.9 years 10 years later in 1960. it went up to 60 years in 2018. below we will  plot this to more easily understand the evolution in this group. "
   ]
  },
  {
   "cell_type": "markdown",
   "metadata": {},
   "source": [
    "we can also see that the life expectancy for this group went from less than 40 years in 1950 to 60 years in 2018. there was a clear and consistent increase in life expectancy. \n",
    "<br> Now lets continue with the Lower Middle Income Countries. We will go through the same steps. first shapping the data. and then  plotting the mean of the two groups so that a comparaison can be made. "
   ]
  },
  {
   "cell_type": "markdown",
   "metadata": {},
   "source": [
    "#### Life Expectancy In Countries with Lower Middle Income  (Countries with GNI per Capita between 996 and 3895 USD)"
   ]
  },
  {
   "cell_type": "code",
   "execution_count": 51,
   "metadata": {},
   "outputs": [
    {
     "data": {
      "text/html": [
       "<div>\n",
       "<style>\n",
       "    .dataframe thead tr:only-child th {\n",
       "        text-align: right;\n",
       "    }\n",
       "\n",
       "    .dataframe thead th {\n",
       "        text-align: left;\n",
       "    }\n",
       "\n",
       "    .dataframe tbody tr th {\n",
       "        vertical-align: top;\n",
       "    }\n",
       "</style>\n",
       "<table border=\"1\" class=\"dataframe\">\n",
       "  <thead>\n",
       "    <tr style=\"text-align: right;\">\n",
       "      <th></th>\n",
       "      <th>country</th>\n",
       "      <th>1950</th>\n",
       "      <th>1960</th>\n",
       "      <th>1970</th>\n",
       "      <th>1980</th>\n",
       "      <th>1990</th>\n",
       "      <th>2000</th>\n",
       "      <th>2010</th>\n",
       "      <th>2018</th>\n",
       "    </tr>\n",
       "  </thead>\n",
       "  <tbody>\n",
       "    <tr>\n",
       "      <th>0</th>\n",
       "      <td>Afghanistan</td>\n",
       "      <td>32.0</td>\n",
       "      <td>38.6</td>\n",
       "      <td>45.8</td>\n",
       "      <td>43.3</td>\n",
       "      <td>51.6</td>\n",
       "      <td>51.6</td>\n",
       "      <td>56.2</td>\n",
       "      <td>58.7</td>\n",
       "    </tr>\n",
       "  </tbody>\n",
       "</table>\n",
       "</div>"
      ],
      "text/plain": [
       "       country  1950  1960  1970  1980  1990  2000  2010  2018\n",
       "0  Afghanistan  32.0  38.6  45.8  43.3  51.6  51.6  56.2  58.7"
      ]
     },
     "execution_count": 51,
     "metadata": {},
     "output_type": "execute_result"
    }
   ],
   "source": [
    "#checking if the dataframe looks ok\n",
    "lower_middle_income_expectancy.head(1)"
   ]
  },
  {
   "cell_type": "code",
   "execution_count": 52,
   "metadata": {},
   "outputs": [
    {
     "name": "stdout",
     "output_type": "stream",
     "text": [
      "<class 'pandas.core.frame.DataFrame'>\n",
      "Int64Index: 47 entries, 0 to 186\n",
      "Data columns (total 9 columns):\n",
      "country    47 non-null object\n",
      "1950       46 non-null float64\n",
      "1960       46 non-null float64\n",
      "1970       47 non-null float64\n",
      "1980       47 non-null float64\n",
      "1990       47 non-null float64\n",
      "2000       47 non-null float64\n",
      "2010       47 non-null float64\n",
      "2018       46 non-null float64\n",
      "dtypes: float64(8), object(1)\n",
      "memory usage: 3.7+ KB\n"
     ]
    }
   ],
   "source": [
    "lower_middle_income_expectancy.info()"
   ]
  },
  {
   "cell_type": "markdown",
   "metadata": {},
   "source": [
    "we can see that they some missing values. let's look more in to that."
   ]
  },
  {
   "cell_type": "code",
   "execution_count": 53,
   "metadata": {},
   "outputs": [
    {
     "data": {
      "text/plain": [
       "country    0\n",
       "1950       1\n",
       "1960       1\n",
       "1970       0\n",
       "1980       0\n",
       "1990       0\n",
       "2000       0\n",
       "2010       0\n",
       "2018       1\n",
       "dtype: int64"
      ]
     },
     "execution_count": 53,
     "metadata": {},
     "output_type": "execute_result"
    }
   ],
   "source": [
    "#checking if there is any missing values\n",
    "lower_middle_income_expectancy.isnull().sum()"
   ]
  },
  {
   "cell_type": "markdown",
   "metadata": {},
   "source": [
    "There 3 missing values. one in 1950 and one in 1960 and  a last one in 2018. we are going to replace those missing values by the mean value of each column"
   ]
  },
  {
   "cell_type": "code",
   "execution_count": 54,
   "metadata": {},
   "outputs": [
    {
     "name": "stderr",
     "output_type": "stream",
     "text": [
      "/opt/conda/lib/python3.6/site-packages/pandas/core/generic.py:3660: SettingWithCopyWarning: \n",
      "A value is trying to be set on a copy of a slice from a DataFrame\n",
      "\n",
      "See the caveats in the documentation: http://pandas.pydata.org/pandas-docs/stable/indexing.html#indexing-view-versus-copy\n",
      "  self._update_inplace(new_data)\n"
     ]
    },
    {
     "data": {
      "text/plain": [
       "country    0\n",
       "1950       0\n",
       "1960       0\n",
       "1970       0\n",
       "1980       0\n",
       "1990       0\n",
       "2000       0\n",
       "2010       0\n",
       "2018       0\n",
       "dtype: int64"
      ]
     },
     "execution_count": 54,
     "metadata": {},
     "output_type": "execute_result"
    }
   ],
   "source": [
    "# replacing missing values with means of each columns\n",
    "#cheking if there any missing values left\n",
    "lower_middle_income_expectancy['1950'].fillna((lower_middle_income_expectancy['1950'].mean()), inplace=True)\n",
    "lower_middle_income_expectancy['1960'].fillna((lower_middle_income_expectancy['1960'].mean()), inplace=True)\n",
    "lower_middle_income_expectancy['2018'].fillna((lower_middle_income_expectancy['2018'].mean()), inplace=True)\n",
    "lower_middle_income_expectancy.isnull().sum()"
   ]
  },
  {
   "cell_type": "code",
   "execution_count": 55,
   "metadata": {},
   "outputs": [
    {
     "data": {
      "text/html": [
       "<div>\n",
       "<style>\n",
       "    .dataframe thead tr:only-child th {\n",
       "        text-align: right;\n",
       "    }\n",
       "\n",
       "    .dataframe thead th {\n",
       "        text-align: left;\n",
       "    }\n",
       "\n",
       "    .dataframe tbody tr th {\n",
       "        vertical-align: top;\n",
       "    }\n",
       "</style>\n",
       "<table border=\"1\" class=\"dataframe\">\n",
       "  <thead>\n",
       "    <tr style=\"text-align: right;\">\n",
       "      <th></th>\n",
       "      <th>1950</th>\n",
       "      <th>1960</th>\n",
       "      <th>1970</th>\n",
       "      <th>1980</th>\n",
       "      <th>1990</th>\n",
       "      <th>2000</th>\n",
       "      <th>2010</th>\n",
       "      <th>2018</th>\n",
       "    </tr>\n",
       "  </thead>\n",
       "  <tbody>\n",
       "    <tr>\n",
       "      <th>count</th>\n",
       "      <td>47.000000</td>\n",
       "      <td>47.000000</td>\n",
       "      <td>47.000000</td>\n",
       "      <td>47.000000</td>\n",
       "      <td>47.000000</td>\n",
       "      <td>47.000000</td>\n",
       "      <td>47.000000</td>\n",
       "      <td>47.000000</td>\n",
       "    </tr>\n",
       "    <tr>\n",
       "      <th>mean</th>\n",
       "      <td>40.543478</td>\n",
       "      <td>45.747826</td>\n",
       "      <td>51.385106</td>\n",
       "      <td>55.151064</td>\n",
       "      <td>57.293617</td>\n",
       "      <td>57.600000</td>\n",
       "      <td>61.180851</td>\n",
       "      <td>65.041304</td>\n",
       "    </tr>\n",
       "    <tr>\n",
       "      <th>std</th>\n",
       "      <td>6.083072</td>\n",
       "      <td>6.060124</td>\n",
       "      <td>6.689706</td>\n",
       "      <td>6.643855</td>\n",
       "      <td>6.140224</td>\n",
       "      <td>6.747334</td>\n",
       "      <td>7.620500</td>\n",
       "      <td>4.710238</td>\n",
       "    </tr>\n",
       "    <tr>\n",
       "      <th>min</th>\n",
       "      <td>23.800000</td>\n",
       "      <td>33.000000</td>\n",
       "      <td>39.800000</td>\n",
       "      <td>43.300000</td>\n",
       "      <td>46.600000</td>\n",
       "      <td>44.100000</td>\n",
       "      <td>32.100000</td>\n",
       "      <td>51.100000</td>\n",
       "    </tr>\n",
       "    <tr>\n",
       "      <th>25%</th>\n",
       "      <td>35.950000</td>\n",
       "      <td>41.550000</td>\n",
       "      <td>45.600000</td>\n",
       "      <td>50.100000</td>\n",
       "      <td>52.150000</td>\n",
       "      <td>52.250000</td>\n",
       "      <td>57.050000</td>\n",
       "      <td>61.200000</td>\n",
       "    </tr>\n",
       "    <tr>\n",
       "      <th>50%</th>\n",
       "      <td>40.400000</td>\n",
       "      <td>44.800000</td>\n",
       "      <td>51.000000</td>\n",
       "      <td>54.900000</td>\n",
       "      <td>57.500000</td>\n",
       "      <td>57.600000</td>\n",
       "      <td>61.700000</td>\n",
       "      <td>64.600000</td>\n",
       "    </tr>\n",
       "    <tr>\n",
       "      <th>75%</th>\n",
       "      <td>44.750000</td>\n",
       "      <td>50.350000</td>\n",
       "      <td>56.050000</td>\n",
       "      <td>59.650000</td>\n",
       "      <td>61.350000</td>\n",
       "      <td>63.300000</td>\n",
       "      <td>66.000000</td>\n",
       "      <td>68.150000</td>\n",
       "    </tr>\n",
       "    <tr>\n",
       "      <th>max</th>\n",
       "      <td>52.500000</td>\n",
       "      <td>57.300000</td>\n",
       "      <td>67.400000</td>\n",
       "      <td>70.800000</td>\n",
       "      <td>71.600000</td>\n",
       "      <td>73.300000</td>\n",
       "      <td>76.200000</td>\n",
       "      <td>73.400000</td>\n",
       "    </tr>\n",
       "  </tbody>\n",
       "</table>\n",
       "</div>"
      ],
      "text/plain": [
       "            1950       1960       1970       1980       1990       2000  \\\n",
       "count  47.000000  47.000000  47.000000  47.000000  47.000000  47.000000   \n",
       "mean   40.543478  45.747826  51.385106  55.151064  57.293617  57.600000   \n",
       "std     6.083072   6.060124   6.689706   6.643855   6.140224   6.747334   \n",
       "min    23.800000  33.000000  39.800000  43.300000  46.600000  44.100000   \n",
       "25%    35.950000  41.550000  45.600000  50.100000  52.150000  52.250000   \n",
       "50%    40.400000  44.800000  51.000000  54.900000  57.500000  57.600000   \n",
       "75%    44.750000  50.350000  56.050000  59.650000  61.350000  63.300000   \n",
       "max    52.500000  57.300000  67.400000  70.800000  71.600000  73.300000   \n",
       "\n",
       "            2010       2018  \n",
       "count  47.000000  47.000000  \n",
       "mean   61.180851  65.041304  \n",
       "std     7.620500   4.710238  \n",
       "min    32.100000  51.100000  \n",
       "25%    57.050000  61.200000  \n",
       "50%    61.700000  64.600000  \n",
       "75%    66.000000  68.150000  \n",
       "max    76.200000  73.400000  "
      ]
     },
     "execution_count": 55,
     "metadata": {},
     "output_type": "execute_result"
    }
   ],
   "source": [
    "#checking general statistics about countries in the lower middle income group \n",
    "lower_middle_income_expectancy.describe()"
   ]
  },
  {
   "cell_type": "markdown",
   "metadata": {},
   "source": [
    "By having a quick look at the data returned above, we can see that the mean age is in general higher than in the Lower middle income countries than it is in the Low income Countries. In 1950 the  mean life expectancy in this group was 40 and in 2018 it is 65 years old. Against about 39 and 60 years in the low income group. "
   ]
  },
  {
   "cell_type": "markdown",
   "metadata": {},
   "source": [
    "we can see that the life expectancy is consistently higher in the lower middle income countries (cyan line) if we compare to lower income countries (red line). <br> \n",
    "let's continue our camparison by adding Upper Middle Income Countries to the next plot. "
   ]
  },
  {
   "cell_type": "markdown",
   "metadata": {},
   "source": [
    "#### Life Expectancy in Upper Middle Income Countries (GNI Per capita between 3896 and 12,055 USD)"
   ]
  },
  {
   "cell_type": "code",
   "execution_count": 56,
   "metadata": {},
   "outputs": [
    {
     "data": {
      "text/html": [
       "<div>\n",
       "<style>\n",
       "    .dataframe thead tr:only-child th {\n",
       "        text-align: right;\n",
       "    }\n",
       "\n",
       "    .dataframe thead th {\n",
       "        text-align: left;\n",
       "    }\n",
       "\n",
       "    .dataframe tbody tr th {\n",
       "        vertical-align: top;\n",
       "    }\n",
       "</style>\n",
       "<table border=\"1\" class=\"dataframe\">\n",
       "  <thead>\n",
       "    <tr style=\"text-align: right;\">\n",
       "      <th></th>\n",
       "      <th>country</th>\n",
       "      <th>1950</th>\n",
       "      <th>1960</th>\n",
       "      <th>1970</th>\n",
       "      <th>1980</th>\n",
       "      <th>1990</th>\n",
       "      <th>2000</th>\n",
       "      <th>2010</th>\n",
       "      <th>2018</th>\n",
       "    </tr>\n",
       "  </thead>\n",
       "  <tbody>\n",
       "    <tr>\n",
       "      <th>4</th>\n",
       "      <td>Angola</td>\n",
       "      <td>36.6</td>\n",
       "      <td>42.4</td>\n",
       "      <td>48.7</td>\n",
       "      <td>49.9</td>\n",
       "      <td>50.2</td>\n",
       "      <td>53.4</td>\n",
       "      <td>60.1</td>\n",
       "      <td>65.2</td>\n",
       "    </tr>\n",
       "  </tbody>\n",
       "</table>\n",
       "</div>"
      ],
      "text/plain": [
       "  country  1950  1960  1970  1980  1990  2000  2010  2018\n",
       "4  Angola  36.6  42.4  48.7  49.9  50.2  53.4  60.1  65.2"
      ]
     },
     "execution_count": 56,
     "metadata": {},
     "output_type": "execute_result"
    }
   ],
   "source": [
    "#checking the shape of this dataframe\n",
    "upper_middle_income_expectancy.head(1)"
   ]
  },
  {
   "cell_type": "code",
   "execution_count": 57,
   "metadata": {},
   "outputs": [
    {
     "name": "stdout",
     "output_type": "stream",
     "text": [
      "<class 'pandas.core.frame.DataFrame'>\n",
      "Int64Index: 41 entries, 4 to 183\n",
      "Data columns (total 9 columns):\n",
      "country    41 non-null object\n",
      "1950       40 non-null float64\n",
      "1960       40 non-null float64\n",
      "1970       41 non-null float64\n",
      "1980       41 non-null float64\n",
      "1990       41 non-null float64\n",
      "2000       41 non-null float64\n",
      "2010       41 non-null float64\n",
      "2018       40 non-null float64\n",
      "dtypes: float64(8), object(1)\n",
      "memory usage: 3.2+ KB\n"
     ]
    }
   ],
   "source": [
    "#checking for missing values \n",
    "upper_middle_income_expectancy.info()"
   ]
  },
  {
   "cell_type": "code",
   "execution_count": 58,
   "metadata": {},
   "outputs": [
    {
     "data": {
      "text/plain": [
       "country    0\n",
       "1950       1\n",
       "1960       1\n",
       "1970       0\n",
       "1980       0\n",
       "1990       0\n",
       "2000       0\n",
       "2010       0\n",
       "2018       1\n",
       "dtype: int64"
      ]
     },
     "execution_count": 58,
     "metadata": {},
     "output_type": "execute_result"
    }
   ],
   "source": [
    "upper_middle_income_expectancy.isnull().sum()"
   ]
  },
  {
   "cell_type": "code",
   "execution_count": 59,
   "metadata": {},
   "outputs": [
    {
     "name": "stderr",
     "output_type": "stream",
     "text": [
      "/opt/conda/lib/python3.6/site-packages/pandas/core/generic.py:3660: SettingWithCopyWarning: \n",
      "A value is trying to be set on a copy of a slice from a DataFrame\n",
      "\n",
      "See the caveats in the documentation: http://pandas.pydata.org/pandas-docs/stable/indexing.html#indexing-view-versus-copy\n",
      "  self._update_inplace(new_data)\n"
     ]
    },
    {
     "data": {
      "text/plain": [
       "country    0\n",
       "1950       0\n",
       "1960       0\n",
       "1970       0\n",
       "1980       0\n",
       "1990       0\n",
       "2000       0\n",
       "2010       0\n",
       "2018       0\n",
       "dtype: int64"
      ]
     },
     "execution_count": 59,
     "metadata": {},
     "output_type": "execute_result"
    }
   ],
   "source": [
    "# replacing missing values with means of each columns\n",
    "#cheking if there any missing values left\n",
    "upper_middle_income_expectancy['1950'].fillna((upper_middle_income_expectancy['1950'].mean()), inplace=True)\n",
    "upper_middle_income_expectancy['1960'].fillna((upper_middle_income_expectancy['1960'].mean()), inplace=True)\n",
    "upper_middle_income_expectancy['2018'].fillna((upper_middle_income_expectancy['2018'].mean()), inplace=True)\n",
    "upper_middle_income_expectancy.isnull().sum()"
   ]
  },
  {
   "cell_type": "code",
   "execution_count": 60,
   "metadata": {},
   "outputs": [
    {
     "data": {
      "text/html": [
       "<div>\n",
       "<style>\n",
       "    .dataframe thead tr:only-child th {\n",
       "        text-align: right;\n",
       "    }\n",
       "\n",
       "    .dataframe thead th {\n",
       "        text-align: left;\n",
       "    }\n",
       "\n",
       "    .dataframe tbody tr th {\n",
       "        vertical-align: top;\n",
       "    }\n",
       "</style>\n",
       "<table border=\"1\" class=\"dataframe\">\n",
       "  <thead>\n",
       "    <tr style=\"text-align: right;\">\n",
       "      <th></th>\n",
       "      <th>1950</th>\n",
       "      <th>1960</th>\n",
       "      <th>1970</th>\n",
       "      <th>1980</th>\n",
       "      <th>1990</th>\n",
       "      <th>2000</th>\n",
       "      <th>2010</th>\n",
       "      <th>2018</th>\n",
       "    </tr>\n",
       "  </thead>\n",
       "  <tbody>\n",
       "    <tr>\n",
       "      <th>count</th>\n",
       "      <td>41.000000</td>\n",
       "      <td>41.000000</td>\n",
       "      <td>41.000000</td>\n",
       "      <td>41.000000</td>\n",
       "      <td>41.000000</td>\n",
       "      <td>41.000000</td>\n",
       "      <td>41.000000</td>\n",
       "      <td>41.000000</td>\n",
       "    </tr>\n",
       "    <tr>\n",
       "      <th>mean</th>\n",
       "      <td>47.455000</td>\n",
       "      <td>53.070000</td>\n",
       "      <td>58.224390</td>\n",
       "      <td>62.631707</td>\n",
       "      <td>65.595122</td>\n",
       "      <td>66.687805</td>\n",
       "      <td>69.285366</td>\n",
       "      <td>71.652500</td>\n",
       "    </tr>\n",
       "    <tr>\n",
       "      <th>std</th>\n",
       "      <td>8.388443</td>\n",
       "      <td>7.654548</td>\n",
       "      <td>7.112376</td>\n",
       "      <td>6.399900</td>\n",
       "      <td>6.171060</td>\n",
       "      <td>6.942521</td>\n",
       "      <td>6.050147</td>\n",
       "      <td>4.364286</td>\n",
       "    </tr>\n",
       "    <tr>\n",
       "      <th>min</th>\n",
       "      <td>31.900000</td>\n",
       "      <td>39.700000</td>\n",
       "      <td>42.200000</td>\n",
       "      <td>47.900000</td>\n",
       "      <td>50.200000</td>\n",
       "      <td>47.500000</td>\n",
       "      <td>47.000000</td>\n",
       "      <td>58.600000</td>\n",
       "    </tr>\n",
       "    <tr>\n",
       "      <th>25%</th>\n",
       "      <td>42.100000</td>\n",
       "      <td>47.000000</td>\n",
       "      <td>51.500000</td>\n",
       "      <td>57.700000</td>\n",
       "      <td>61.500000</td>\n",
       "      <td>62.600000</td>\n",
       "      <td>66.200000</td>\n",
       "      <td>68.800000</td>\n",
       "    </tr>\n",
       "    <tr>\n",
       "      <th>50%</th>\n",
       "      <td>46.000000</td>\n",
       "      <td>53.070000</td>\n",
       "      <td>58.300000</td>\n",
       "      <td>64.800000</td>\n",
       "      <td>67.200000</td>\n",
       "      <td>68.600000</td>\n",
       "      <td>71.300000</td>\n",
       "      <td>72.400000</td>\n",
       "    </tr>\n",
       "    <tr>\n",
       "      <th>75%</th>\n",
       "      <td>55.200000</td>\n",
       "      <td>59.500000</td>\n",
       "      <td>64.500000</td>\n",
       "      <td>67.500000</td>\n",
       "      <td>70.200000</td>\n",
       "      <td>71.700000</td>\n",
       "      <td>73.100000</td>\n",
       "      <td>74.800000</td>\n",
       "    </tr>\n",
       "    <tr>\n",
       "      <th>max</th>\n",
       "      <td>65.800000</td>\n",
       "      <td>69.400000</td>\n",
       "      <td>69.500000</td>\n",
       "      <td>73.100000</td>\n",
       "      <td>74.600000</td>\n",
       "      <td>75.600000</td>\n",
       "      <td>77.400000</td>\n",
       "      <td>78.700000</td>\n",
       "    </tr>\n",
       "  </tbody>\n",
       "</table>\n",
       "</div>"
      ],
      "text/plain": [
       "            1950       1960       1970       1980       1990       2000  \\\n",
       "count  41.000000  41.000000  41.000000  41.000000  41.000000  41.000000   \n",
       "mean   47.455000  53.070000  58.224390  62.631707  65.595122  66.687805   \n",
       "std     8.388443   7.654548   7.112376   6.399900   6.171060   6.942521   \n",
       "min    31.900000  39.700000  42.200000  47.900000  50.200000  47.500000   \n",
       "25%    42.100000  47.000000  51.500000  57.700000  61.500000  62.600000   \n",
       "50%    46.000000  53.070000  58.300000  64.800000  67.200000  68.600000   \n",
       "75%    55.200000  59.500000  64.500000  67.500000  70.200000  71.700000   \n",
       "max    65.800000  69.400000  69.500000  73.100000  74.600000  75.600000   \n",
       "\n",
       "            2010       2018  \n",
       "count  41.000000  41.000000  \n",
       "mean   69.285366  71.652500  \n",
       "std     6.050147   4.364286  \n",
       "min    47.000000  58.600000  \n",
       "25%    66.200000  68.800000  \n",
       "50%    71.300000  72.400000  \n",
       "75%    73.100000  74.800000  \n",
       "max    77.400000  78.700000  "
      ]
     },
     "execution_count": 60,
     "metadata": {},
     "output_type": "execute_result"
    }
   ],
   "source": [
    "#checking generals statistic for this group\n",
    "upper_middle_income_expectancy.describe()"
   ]
  },
  {
   "cell_type": "markdown",
   "metadata": {},
   "source": [
    "By Only looking at the mean value for each year we can see that this group has higher life expectancy than previous groups."
   ]
  },
  {
   "cell_type": "markdown",
   "metadata": {},
   "source": [
    "#### Life Expectancy in High Income Countries (GNI Per capita > 12,055 USD)"
   ]
  },
  {
   "cell_type": "code",
   "execution_count": 61,
   "metadata": {},
   "outputs": [
    {
     "data": {
      "text/html": [
       "<div>\n",
       "<style>\n",
       "    .dataframe thead tr:only-child th {\n",
       "        text-align: right;\n",
       "    }\n",
       "\n",
       "    .dataframe thead th {\n",
       "        text-align: left;\n",
       "    }\n",
       "\n",
       "    .dataframe tbody tr th {\n",
       "        vertical-align: top;\n",
       "    }\n",
       "</style>\n",
       "<table border=\"1\" class=\"dataframe\">\n",
       "  <thead>\n",
       "    <tr style=\"text-align: right;\">\n",
       "      <th></th>\n",
       "      <th>country</th>\n",
       "      <th>1950</th>\n",
       "      <th>1960</th>\n",
       "      <th>1970</th>\n",
       "      <th>1980</th>\n",
       "      <th>1990</th>\n",
       "      <th>2000</th>\n",
       "      <th>2010</th>\n",
       "      <th>2018</th>\n",
       "    </tr>\n",
       "  </thead>\n",
       "  <tbody>\n",
       "    <tr>\n",
       "      <th>1</th>\n",
       "      <td>Albania</td>\n",
       "      <td>54.5</td>\n",
       "      <td>62.7</td>\n",
       "      <td>67.4</td>\n",
       "      <td>72.3</td>\n",
       "      <td>73.9</td>\n",
       "      <td>74.4</td>\n",
       "      <td>76.3</td>\n",
       "      <td>78.0</td>\n",
       "    </tr>\n",
       "  </tbody>\n",
       "</table>\n",
       "</div>"
      ],
      "text/plain": [
       "   country  1950  1960  1970  1980  1990  2000  2010  2018\n",
       "1  Albania  54.5  62.7  67.4  72.3  73.9  74.4  76.3  78.0"
      ]
     },
     "execution_count": 61,
     "metadata": {},
     "output_type": "execute_result"
    }
   ],
   "source": [
    "high_income_expectancy.head(1)"
   ]
  },
  {
   "cell_type": "code",
   "execution_count": 62,
   "metadata": {
    "scrolled": true
   },
   "outputs": [
    {
     "data": {
      "text/plain": [
       "country    0\n",
       "1950       1\n",
       "1960       1\n",
       "1970       0\n",
       "1980       0\n",
       "1990       0\n",
       "2000       0\n",
       "2010       0\n",
       "2018       1\n",
       "dtype: int64"
      ]
     },
     "execution_count": 62,
     "metadata": {},
     "output_type": "execute_result"
    }
   ],
   "source": [
    "#checking for null values\n",
    "high_income_expectancy.isnull().sum()"
   ]
  },
  {
   "cell_type": "code",
   "execution_count": 63,
   "metadata": {},
   "outputs": [
    {
     "name": "stderr",
     "output_type": "stream",
     "text": [
      "/opt/conda/lib/python3.6/site-packages/pandas/core/generic.py:3660: SettingWithCopyWarning: \n",
      "A value is trying to be set on a copy of a slice from a DataFrame\n",
      "\n",
      "See the caveats in the documentation: http://pandas.pydata.org/pandas-docs/stable/indexing.html#indexing-view-versus-copy\n",
      "  self._update_inplace(new_data)\n"
     ]
    },
    {
     "data": {
      "text/plain": [
       "0"
      ]
     },
     "execution_count": 63,
     "metadata": {},
     "output_type": "execute_result"
    }
   ],
   "source": [
    "# replacing missing values with means of each columns\n",
    "#cheking if there any missing values left\n",
    "high_income_expectancy['1950'].fillna((high_income_expectancy['1950'].mean()), inplace=True)\n",
    "high_income_expectancy['1960'].fillna((high_income_expectancy['1960'].mean()), inplace=True)\n",
    "high_income_expectancy['2018'].fillna((high_income_expectancy['2018'].mean()), inplace=True)\n",
    "high_income_expectancy.isnull().sum().sum()"
   ]
  },
  {
   "cell_type": "code",
   "execution_count": 64,
   "metadata": {},
   "outputs": [
    {
     "data": {
      "text/html": [
       "<div>\n",
       "<style>\n",
       "    .dataframe thead tr:only-child th {\n",
       "        text-align: right;\n",
       "    }\n",
       "\n",
       "    .dataframe thead th {\n",
       "        text-align: left;\n",
       "    }\n",
       "\n",
       "    .dataframe tbody tr th {\n",
       "        vertical-align: top;\n",
       "    }\n",
       "</style>\n",
       "<table border=\"1\" class=\"dataframe\">\n",
       "  <thead>\n",
       "    <tr style=\"text-align: right;\">\n",
       "      <th></th>\n",
       "      <th>1950</th>\n",
       "      <th>1960</th>\n",
       "      <th>1970</th>\n",
       "      <th>1980</th>\n",
       "      <th>1990</th>\n",
       "      <th>2000</th>\n",
       "      <th>2010</th>\n",
       "      <th>2018</th>\n",
       "    </tr>\n",
       "  </thead>\n",
       "  <tbody>\n",
       "    <tr>\n",
       "      <th>count</th>\n",
       "      <td>93.000000</td>\n",
       "      <td>93.000000</td>\n",
       "      <td>93.000000</td>\n",
       "      <td>93.000000</td>\n",
       "      <td>93.000000</td>\n",
       "      <td>93.000000</td>\n",
       "      <td>93.000000</td>\n",
       "      <td>93.000000</td>\n",
       "    </tr>\n",
       "    <tr>\n",
       "      <th>mean</th>\n",
       "      <td>56.678261</td>\n",
       "      <td>62.081522</td>\n",
       "      <td>66.296774</td>\n",
       "      <td>69.516129</td>\n",
       "      <td>72.023656</td>\n",
       "      <td>73.575269</td>\n",
       "      <td>76.135484</td>\n",
       "      <td>77.718478</td>\n",
       "    </tr>\n",
       "    <tr>\n",
       "      <th>std</th>\n",
       "      <td>9.592001</td>\n",
       "      <td>9.078521</td>\n",
       "      <td>6.711079</td>\n",
       "      <td>5.573780</td>\n",
       "      <td>4.643331</td>\n",
       "      <td>5.796225</td>\n",
       "      <td>5.339998</td>\n",
       "      <td>4.331255</td>\n",
       "    </tr>\n",
       "    <tr>\n",
       "      <th>min</th>\n",
       "      <td>29.700000</td>\n",
       "      <td>30.900000</td>\n",
       "      <td>39.100000</td>\n",
       "      <td>48.200000</td>\n",
       "      <td>48.200000</td>\n",
       "      <td>46.700000</td>\n",
       "      <td>54.300000</td>\n",
       "      <td>63.500000</td>\n",
       "    </tr>\n",
       "    <tr>\n",
       "      <th>25%</th>\n",
       "      <td>51.600000</td>\n",
       "      <td>57.700000</td>\n",
       "      <td>64.600000</td>\n",
       "      <td>67.500000</td>\n",
       "      <td>70.000000</td>\n",
       "      <td>71.700000</td>\n",
       "      <td>74.400000</td>\n",
       "      <td>75.700000</td>\n",
       "    </tr>\n",
       "    <tr>\n",
       "      <th>50%</th>\n",
       "      <td>58.400000</td>\n",
       "      <td>63.700000</td>\n",
       "      <td>68.000000</td>\n",
       "      <td>70.500000</td>\n",
       "      <td>72.100000</td>\n",
       "      <td>74.500000</td>\n",
       "      <td>76.500000</td>\n",
       "      <td>77.900000</td>\n",
       "    </tr>\n",
       "    <tr>\n",
       "      <th>75%</th>\n",
       "      <td>64.000000</td>\n",
       "      <td>69.100000</td>\n",
       "      <td>70.900000</td>\n",
       "      <td>73.200000</td>\n",
       "      <td>75.300000</td>\n",
       "      <td>77.500000</td>\n",
       "      <td>80.100000</td>\n",
       "      <td>81.300000</td>\n",
       "    </tr>\n",
       "    <tr>\n",
       "      <th>max</th>\n",
       "      <td>71.600000</td>\n",
       "      <td>74.200000</td>\n",
       "      <td>76.000000</td>\n",
       "      <td>78.700000</td>\n",
       "      <td>79.500000</td>\n",
       "      <td>81.800000</td>\n",
       "      <td>82.800000</td>\n",
       "      <td>84.200000</td>\n",
       "    </tr>\n",
       "  </tbody>\n",
       "</table>\n",
       "</div>"
      ],
      "text/plain": [
       "            1950       1960       1970       1980       1990       2000  \\\n",
       "count  93.000000  93.000000  93.000000  93.000000  93.000000  93.000000   \n",
       "mean   56.678261  62.081522  66.296774  69.516129  72.023656  73.575269   \n",
       "std     9.592001   9.078521   6.711079   5.573780   4.643331   5.796225   \n",
       "min    29.700000  30.900000  39.100000  48.200000  48.200000  46.700000   \n",
       "25%    51.600000  57.700000  64.600000  67.500000  70.000000  71.700000   \n",
       "50%    58.400000  63.700000  68.000000  70.500000  72.100000  74.500000   \n",
       "75%    64.000000  69.100000  70.900000  73.200000  75.300000  77.500000   \n",
       "max    71.600000  74.200000  76.000000  78.700000  79.500000  81.800000   \n",
       "\n",
       "            2010       2018  \n",
       "count  93.000000  93.000000  \n",
       "mean   76.135484  77.718478  \n",
       "std     5.339998   4.331255  \n",
       "min    54.300000  63.500000  \n",
       "25%    74.400000  75.700000  \n",
       "50%    76.500000  77.900000  \n",
       "75%    80.100000  81.300000  \n",
       "max    82.800000  84.200000  "
      ]
     },
     "execution_count": 64,
     "metadata": {},
     "output_type": "execute_result"
    }
   ],
   "source": [
    "high_income_expectancy.describe()"
   ]
  },
  {
   "cell_type": "markdown",
   "metadata": {},
   "source": [
    "the table above shows that for the high income countries too, life expectancy has been consistently raising. with the standard deviation also getting smaller. 9.5 in the 1950 and 4.33 in 2018. which is pretty good. \n",
    "<p> Below we are going to plot the mean values for all the 4 group and visually see the changes which occured."
   ]
  },
  {
   "cell_type": "code",
   "execution_count": 97,
   "metadata": {},
   "outputs": [
    {
     "data": {
      "text/plain": [
       "Text(0.5,1,'Life Expectancy (Grouped By Income Level)')"
      ]
     },
     "execution_count": 97,
     "metadata": {},
     "output_type": "execute_result"
    },
    {
     "data": {
      "image/png": "[encoded data removed]",
      "text/plain": [
       "<matplotlib.figure.Figure at 0x7fd8240a3ef0>"
      ]
     },
     "metadata": {
      "needs_background": "light"
     },
     "output_type": "display_data"
    }
   ],
   "source": [
    "A = low_income_expectancy.mean()\n",
    "B = lower_middle_income_expectancy.mean()\n",
    "C = upper_middle_income_expectancy.mean()\n",
    "D = high_income_expectancy.mean()\n",
    "\n",
    "plt.plot(D, 'g-', label='High Income Countries')\n",
    "plt.plot(C, 'b-', label='Upper Middle Income Countries')\n",
    "plt.plot(B, 'c-', label='Lower Middle Income Countries')\n",
    "plt.plot(A, 'r-', label='Low Income Countries')\n",
    "\n",
    "\n",
    "from pylab import rcParams\n",
    "rcParams['figure.figsize'] = 12,12\n",
    "plt.legend(loc='upper left')\n",
    "plt.ylabel('Life Expectancy in years')\n",
    "plt.title('Life Expectancy (Grouped By Income Level)')"
   ]
  },
  {
   "cell_type": "markdown",
   "metadata": {},
   "source": [
    "so this graph clearly shows that richer the country, longer the life expectancy. since the 1950, we can see that red line (low income countries) are also the countries with the shorted life expectancy. and the life expectancy is directly linked to the income level. richer the country, longer is the life expectancy. But thats not really a suprise. \n",
    "<p> now let's compare each income group by fertility Rate."
   ]
  },
  {
   "cell_type": "markdown",
   "metadata": {},
   "source": [
    "### comparaison on Fertility Rate (Number of Babies per woman): How do country from different Income Level differs when its come to the number of babies per woman? \n",
    "\n",
    "Earlier we created 4 Dataframes for the fertility rate\n",
    "* low_income_birth\n",
    "* lower_middle_income_birth\n",
    "* upper_middle_income_birth\n",
    "* high_income_birth"
   ]
  },
  {
   "cell_type": "markdown",
   "metadata": {},
   "source": [
    "##### Babies per Woman In Countries with Low Income  (Countries with GNI per Capita between < 995)"
   ]
  },
  {
   "cell_type": "code",
   "execution_count": 66,
   "metadata": {},
   "outputs": [
    {
     "data": {
      "text/html": [
       "<div>\n",
       "<style>\n",
       "    .dataframe thead tr:only-child th {\n",
       "        text-align: right;\n",
       "    }\n",
       "\n",
       "    .dataframe thead th {\n",
       "        text-align: left;\n",
       "    }\n",
       "\n",
       "    .dataframe tbody tr th {\n",
       "        vertical-align: top;\n",
       "    }\n",
       "</style>\n",
       "<table border=\"1\" class=\"dataframe\">\n",
       "  <thead>\n",
       "    <tr style=\"text-align: right;\">\n",
       "      <th></th>\n",
       "      <th>country</th>\n",
       "      <th>1950</th>\n",
       "      <th>1960</th>\n",
       "      <th>1970</th>\n",
       "      <th>1980</th>\n",
       "      <th>1990</th>\n",
       "      <th>2000</th>\n",
       "      <th>2010</th>\n",
       "      <th>2018</th>\n",
       "    </tr>\n",
       "  </thead>\n",
       "  <tbody>\n",
       "    <tr>\n",
       "      <th>26</th>\n",
       "      <td>Burundi</td>\n",
       "      <td>6.82</td>\n",
       "      <td>6.95</td>\n",
       "      <td>7.29</td>\n",
       "      <td>7.42</td>\n",
       "      <td>7.51</td>\n",
       "      <td>7.01</td>\n",
       "      <td>6.26</td>\n",
       "      <td>5.53</td>\n",
       "    </tr>\n",
       "  </tbody>\n",
       "</table>\n",
       "</div>"
      ],
      "text/plain": [
       "    country  1950  1960  1970  1980  1990  2000  2010  2018\n",
       "26  Burundi  6.82  6.95  7.29  7.42  7.51  7.01  6.26  5.53"
      ]
     },
     "execution_count": 66,
     "metadata": {},
     "output_type": "execute_result"
    }
   ],
   "source": [
    "#checking the dataframe\n",
    "low_income_birth.head(1)"
   ]
  },
  {
   "cell_type": "code",
   "execution_count": 67,
   "metadata": {},
   "outputs": [
    {
     "data": {
      "text/plain": [
       "0"
      ]
     },
     "execution_count": 67,
     "metadata": {},
     "output_type": "execute_result"
    }
   ],
   "source": [
    "#checking for null Values\n",
    "low_income_birth.isnull().sum().sum()"
   ]
  },
  {
   "cell_type": "code",
   "execution_count": 68,
   "metadata": {
    "scrolled": true
   },
   "outputs": [
    {
     "data": {
      "text/html": [
       "<div>\n",
       "<style>\n",
       "    .dataframe thead tr:only-child th {\n",
       "        text-align: right;\n",
       "    }\n",
       "\n",
       "    .dataframe thead th {\n",
       "        text-align: left;\n",
       "    }\n",
       "\n",
       "    .dataframe tbody tr th {\n",
       "        vertical-align: top;\n",
       "    }\n",
       "</style>\n",
       "<table border=\"1\" class=\"dataframe\">\n",
       "  <thead>\n",
       "    <tr style=\"text-align: right;\">\n",
       "      <th></th>\n",
       "      <th>1950</th>\n",
       "      <th>1960</th>\n",
       "      <th>1970</th>\n",
       "      <th>1980</th>\n",
       "      <th>1990</th>\n",
       "      <th>2000</th>\n",
       "      <th>2010</th>\n",
       "      <th>2018</th>\n",
       "    </tr>\n",
       "  </thead>\n",
       "  <tbody>\n",
       "    <tr>\n",
       "      <th>count</th>\n",
       "      <td>6.000000</td>\n",
       "      <td>6.000000</td>\n",
       "      <td>6.000000</td>\n",
       "      <td>6.000000</td>\n",
       "      <td>6.000000</td>\n",
       "      <td>6.000000</td>\n",
       "      <td>6.000000</td>\n",
       "      <td>6.000000</td>\n",
       "    </tr>\n",
       "    <tr>\n",
       "      <th>mean</th>\n",
       "      <td>6.458333</td>\n",
       "      <td>6.650000</td>\n",
       "      <td>6.816667</td>\n",
       "      <td>6.963333</td>\n",
       "      <td>7.020000</td>\n",
       "      <td>6.775000</td>\n",
       "      <td>6.221667</td>\n",
       "      <td>5.638333</td>\n",
       "    </tr>\n",
       "    <tr>\n",
       "      <th>std</th>\n",
       "      <td>0.704086</td>\n",
       "      <td>0.667263</td>\n",
       "      <td>0.641301</td>\n",
       "      <td>0.655062</td>\n",
       "      <td>0.733975</td>\n",
       "      <td>0.899906</td>\n",
       "      <td>0.952836</td>\n",
       "      <td>0.976390</td>\n",
       "    </tr>\n",
       "    <tr>\n",
       "      <th>min</th>\n",
       "      <td>5.400000</td>\n",
       "      <td>5.840000</td>\n",
       "      <td>5.950000</td>\n",
       "      <td>5.950000</td>\n",
       "      <td>5.810000</td>\n",
       "      <td>5.500000</td>\n",
       "      <td>5.020000</td>\n",
       "      <td>4.450000</td>\n",
       "    </tr>\n",
       "    <tr>\n",
       "      <th>25%</th>\n",
       "      <td>6.055000</td>\n",
       "      <td>6.102500</td>\n",
       "      <td>6.332500</td>\n",
       "      <td>6.685000</td>\n",
       "      <td>6.657500</td>\n",
       "      <td>6.150000</td>\n",
       "      <td>5.480000</td>\n",
       "      <td>4.922500</td>\n",
       "    </tr>\n",
       "    <tr>\n",
       "      <th>50%</th>\n",
       "      <td>6.535000</td>\n",
       "      <td>6.680000</td>\n",
       "      <td>6.940000</td>\n",
       "      <td>6.990000</td>\n",
       "      <td>7.265000</td>\n",
       "      <td>6.985000</td>\n",
       "      <td>6.365000</td>\n",
       "      <td>5.725000</td>\n",
       "    </tr>\n",
       "    <tr>\n",
       "      <th>75%</th>\n",
       "      <td>6.985000</td>\n",
       "      <td>7.175000</td>\n",
       "      <td>7.262500</td>\n",
       "      <td>7.317500</td>\n",
       "      <td>7.482500</td>\n",
       "      <td>7.467500</td>\n",
       "      <td>6.770000</td>\n",
       "      <td>6.040000</td>\n",
       "    </tr>\n",
       "    <tr>\n",
       "      <th>max</th>\n",
       "      <td>7.250000</td>\n",
       "      <td>7.450000</td>\n",
       "      <td>7.570000</td>\n",
       "      <td>7.840000</td>\n",
       "      <td>7.770000</td>\n",
       "      <td>7.680000</td>\n",
       "      <td>7.490000</td>\n",
       "      <td>7.130000</td>\n",
       "    </tr>\n",
       "  </tbody>\n",
       "</table>\n",
       "</div>"
      ],
      "text/plain": [
       "           1950      1960      1970      1980      1990      2000      2010  \\\n",
       "count  6.000000  6.000000  6.000000  6.000000  6.000000  6.000000  6.000000   \n",
       "mean   6.458333  6.650000  6.816667  6.963333  7.020000  6.775000  6.221667   \n",
       "std    0.704086  0.667263  0.641301  0.655062  0.733975  0.899906  0.952836   \n",
       "min    5.400000  5.840000  5.950000  5.950000  5.810000  5.500000  5.020000   \n",
       "25%    6.055000  6.102500  6.332500  6.685000  6.657500  6.150000  5.480000   \n",
       "50%    6.535000  6.680000  6.940000  6.990000  7.265000  6.985000  6.365000   \n",
       "75%    6.985000  7.175000  7.262500  7.317500  7.482500  7.467500  6.770000   \n",
       "max    7.250000  7.450000  7.570000  7.840000  7.770000  7.680000  7.490000   \n",
       "\n",
       "           2018  \n",
       "count  6.000000  \n",
       "mean   5.638333  \n",
       "std    0.976390  \n",
       "min    4.450000  \n",
       "25%    4.922500  \n",
       "50%    5.725000  \n",
       "75%    6.040000  \n",
       "max    7.130000  "
      ]
     },
     "execution_count": 68,
     "metadata": {},
     "output_type": "execute_result"
    }
   ],
   "source": [
    "low_income_birth.describe()"
   ]
  },
  {
   "cell_type": "markdown",
   "metadata": {},
   "source": [
    "For this group, the change is relatively small. in 1950 the average number of children per child was 6.45. in 2018 it is 6.45. with a pick in 1990. "
   ]
  },
  {
   "cell_type": "markdown",
   "metadata": {},
   "source": [
    "##### Babies per Woman In Countries with Lower Middle Income  (Countries with GNI per Capita between 996 and 3895 USD)"
   ]
  },
  {
   "cell_type": "code",
   "execution_count": 69,
   "metadata": {},
   "outputs": [
    {
     "data": {
      "text/html": [
       "<div>\n",
       "<style>\n",
       "    .dataframe thead tr:only-child th {\n",
       "        text-align: right;\n",
       "    }\n",
       "\n",
       "    .dataframe thead th {\n",
       "        text-align: left;\n",
       "    }\n",
       "\n",
       "    .dataframe tbody tr th {\n",
       "        vertical-align: top;\n",
       "    }\n",
       "</style>\n",
       "<table border=\"1\" class=\"dataframe\">\n",
       "  <thead>\n",
       "    <tr style=\"text-align: right;\">\n",
       "      <th></th>\n",
       "      <th>country</th>\n",
       "      <th>1950</th>\n",
       "      <th>1960</th>\n",
       "      <th>1970</th>\n",
       "      <th>1980</th>\n",
       "      <th>1990</th>\n",
       "      <th>2000</th>\n",
       "      <th>2010</th>\n",
       "      <th>2018</th>\n",
       "    </tr>\n",
       "  </thead>\n",
       "  <tbody>\n",
       "    <tr>\n",
       "      <th>0</th>\n",
       "      <td>Afghanistan</td>\n",
       "      <td>7.57</td>\n",
       "      <td>7.45</td>\n",
       "      <td>7.45</td>\n",
       "      <td>7.45</td>\n",
       "      <td>7.47</td>\n",
       "      <td>7.49</td>\n",
       "      <td>5.82</td>\n",
       "      <td>4.33</td>\n",
       "    </tr>\n",
       "  </tbody>\n",
       "</table>\n",
       "</div>"
      ],
      "text/plain": [
       "       country  1950  1960  1970  1980  1990  2000  2010  2018\n",
       "0  Afghanistan  7.57  7.45  7.45  7.45  7.47  7.49  5.82  4.33"
      ]
     },
     "execution_count": 69,
     "metadata": {},
     "output_type": "execute_result"
    }
   ],
   "source": [
    "lower_middle_income_birth.head(1)"
   ]
  },
  {
   "cell_type": "code",
   "execution_count": 70,
   "metadata": {},
   "outputs": [
    {
     "data": {
      "text/plain": [
       "0"
      ]
     },
     "execution_count": 70,
     "metadata": {},
     "output_type": "execute_result"
    }
   ],
   "source": [
    "# checking null values, there is none\n",
    "lower_middle_income_birth.isnull().sum().sum()"
   ]
  },
  {
   "cell_type": "code",
   "execution_count": 71,
   "metadata": {},
   "outputs": [
    {
     "data": {
      "text/html": [
       "<div>\n",
       "<style>\n",
       "    .dataframe thead tr:only-child th {\n",
       "        text-align: right;\n",
       "    }\n",
       "\n",
       "    .dataframe thead th {\n",
       "        text-align: left;\n",
       "    }\n",
       "\n",
       "    .dataframe tbody tr th {\n",
       "        vertical-align: top;\n",
       "    }\n",
       "</style>\n",
       "<table border=\"1\" class=\"dataframe\">\n",
       "  <thead>\n",
       "    <tr style=\"text-align: right;\">\n",
       "      <th></th>\n",
       "      <th>1950</th>\n",
       "      <th>1960</th>\n",
       "      <th>1970</th>\n",
       "      <th>1980</th>\n",
       "      <th>1990</th>\n",
       "      <th>2000</th>\n",
       "      <th>2010</th>\n",
       "      <th>2018</th>\n",
       "    </tr>\n",
       "  </thead>\n",
       "  <tbody>\n",
       "    <tr>\n",
       "      <th>count</th>\n",
       "      <td>46.000000</td>\n",
       "      <td>46.000000</td>\n",
       "      <td>46.000000</td>\n",
       "      <td>46.000000</td>\n",
       "      <td>46.000000</td>\n",
       "      <td>46.000000</td>\n",
       "      <td>46.000000</td>\n",
       "      <td>46.000000</td>\n",
       "    </tr>\n",
       "    <tr>\n",
       "      <th>mean</th>\n",
       "      <td>6.406522</td>\n",
       "      <td>6.666957</td>\n",
       "      <td>6.742609</td>\n",
       "      <td>6.567826</td>\n",
       "      <td>6.026957</td>\n",
       "      <td>5.281957</td>\n",
       "      <td>4.575000</td>\n",
       "      <td>4.016522</td>\n",
       "    </tr>\n",
       "    <tr>\n",
       "      <th>std</th>\n",
       "      <td>0.987257</td>\n",
       "      <td>0.681038</td>\n",
       "      <td>0.773366</td>\n",
       "      <td>1.019141</td>\n",
       "      <td>1.082499</td>\n",
       "      <td>1.214224</td>\n",
       "      <td>1.129454</td>\n",
       "      <td>0.989047</td>\n",
       "    </tr>\n",
       "    <tr>\n",
       "      <th>min</th>\n",
       "      <td>1.950000</td>\n",
       "      <td>4.580000</td>\n",
       "      <td>4.320000</td>\n",
       "      <td>2.770000</td>\n",
       "      <td>2.290000</td>\n",
       "      <td>1.990000</td>\n",
       "      <td>1.980000</td>\n",
       "      <td>1.890000</td>\n",
       "    </tr>\n",
       "    <tr>\n",
       "      <th>25%</th>\n",
       "      <td>5.992500</td>\n",
       "      <td>6.280000</td>\n",
       "      <td>6.240000</td>\n",
       "      <td>6.250000</td>\n",
       "      <td>5.317500</td>\n",
       "      <td>4.317500</td>\n",
       "      <td>3.592500</td>\n",
       "      <td>3.342500</td>\n",
       "    </tr>\n",
       "    <tr>\n",
       "      <th>50%</th>\n",
       "      <td>6.555000</td>\n",
       "      <td>6.785000</td>\n",
       "      <td>6.820000</td>\n",
       "      <td>6.685000</td>\n",
       "      <td>6.195000</td>\n",
       "      <td>5.460000</td>\n",
       "      <td>4.830000</td>\n",
       "      <td>4.140000</td>\n",
       "    </tr>\n",
       "    <tr>\n",
       "      <th>75%</th>\n",
       "      <td>6.942500</td>\n",
       "      <td>7.000000</td>\n",
       "      <td>7.235000</td>\n",
       "      <td>7.130000</td>\n",
       "      <td>6.720000</td>\n",
       "      <td>6.070000</td>\n",
       "      <td>5.355000</td>\n",
       "      <td>4.700000</td>\n",
       "    </tr>\n",
       "    <tr>\n",
       "      <th>max</th>\n",
       "      <td>7.920000</td>\n",
       "      <td>8.190000</td>\n",
       "      <td>8.230000</td>\n",
       "      <td>8.750000</td>\n",
       "      <td>8.610000</td>\n",
       "      <td>7.490000</td>\n",
       "      <td>6.590000</td>\n",
       "      <td>5.880000</td>\n",
       "    </tr>\n",
       "  </tbody>\n",
       "</table>\n",
       "</div>"
      ],
      "text/plain": [
       "            1950       1960       1970       1980       1990       2000  \\\n",
       "count  46.000000  46.000000  46.000000  46.000000  46.000000  46.000000   \n",
       "mean    6.406522   6.666957   6.742609   6.567826   6.026957   5.281957   \n",
       "std     0.987257   0.681038   0.773366   1.019141   1.082499   1.214224   \n",
       "min     1.950000   4.580000   4.320000   2.770000   2.290000   1.990000   \n",
       "25%     5.992500   6.280000   6.240000   6.250000   5.317500   4.317500   \n",
       "50%     6.555000   6.785000   6.820000   6.685000   6.195000   5.460000   \n",
       "75%     6.942500   7.000000   7.235000   7.130000   6.720000   6.070000   \n",
       "max     7.920000   8.190000   8.230000   8.750000   8.610000   7.490000   \n",
       "\n",
       "            2010       2018  \n",
       "count  46.000000  46.000000  \n",
       "mean    4.575000   4.016522  \n",
       "std     1.129454   0.989047  \n",
       "min     1.980000   1.890000  \n",
       "25%     3.592500   3.342500  \n",
       "50%     4.830000   4.140000  \n",
       "75%     5.355000   4.700000  \n",
       "max     6.590000   5.880000  "
      ]
     },
     "execution_count": 71,
     "metadata": {},
     "output_type": "execute_result"
    }
   ],
   "source": [
    "lower_middle_income_birth.describe()"
   ]
  },
  {
   "cell_type": "markdown",
   "metadata": {},
   "source": [
    "##### Babies per Woman In Countries with Upper Middle Income  (Countries with GNI per Capita between 3895 and 12055 USD)"
   ]
  },
  {
   "cell_type": "code",
   "execution_count": 72,
   "metadata": {},
   "outputs": [
    {
     "data": {
      "text/html": [
       "<div>\n",
       "<style>\n",
       "    .dataframe thead tr:only-child th {\n",
       "        text-align: right;\n",
       "    }\n",
       "\n",
       "    .dataframe thead th {\n",
       "        text-align: left;\n",
       "    }\n",
       "\n",
       "    .dataframe tbody tr th {\n",
       "        vertical-align: top;\n",
       "    }\n",
       "</style>\n",
       "<table border=\"1\" class=\"dataframe\">\n",
       "  <thead>\n",
       "    <tr style=\"text-align: right;\">\n",
       "      <th></th>\n",
       "      <th>country</th>\n",
       "      <th>1950</th>\n",
       "      <th>1960</th>\n",
       "      <th>1970</th>\n",
       "      <th>1980</th>\n",
       "      <th>1990</th>\n",
       "      <th>2000</th>\n",
       "      <th>2010</th>\n",
       "      <th>2018</th>\n",
       "    </tr>\n",
       "  </thead>\n",
       "  <tbody>\n",
       "    <tr>\n",
       "      <th>3</th>\n",
       "      <td>Angola</td>\n",
       "      <td>7.11</td>\n",
       "      <td>7.48</td>\n",
       "      <td>7.6</td>\n",
       "      <td>7.5</td>\n",
       "      <td>7.25</td>\n",
       "      <td>6.64</td>\n",
       "      <td>6.16</td>\n",
       "      <td>5.55</td>\n",
       "    </tr>\n",
       "  </tbody>\n",
       "</table>\n",
       "</div>"
      ],
      "text/plain": [
       "  country  1950  1960  1970  1980  1990  2000  2010  2018\n",
       "3  Angola  7.11  7.48   7.6   7.5  7.25  6.64  6.16  5.55"
      ]
     },
     "execution_count": 72,
     "metadata": {},
     "output_type": "execute_result"
    }
   ],
   "source": [
    "upper_middle_income_birth.head(1)"
   ]
  },
  {
   "cell_type": "code",
   "execution_count": 73,
   "metadata": {},
   "outputs": [
    {
     "data": {
      "text/plain": [
       "0"
      ]
     },
     "execution_count": 73,
     "metadata": {},
     "output_type": "execute_result"
    }
   ],
   "source": [
    "# checking null values, there is none\n",
    "upper_middle_income_birth.isnull().sum().sum()"
   ]
  },
  {
   "cell_type": "markdown",
   "metadata": {},
   "source": [
    "##### Babies per Woman In Countries with High Income countries  (Countries with GNI per Capita > 12055 USD)"
   ]
  },
  {
   "cell_type": "code",
   "execution_count": 74,
   "metadata": {},
   "outputs": [
    {
     "data": {
      "text/html": [
       "<div>\n",
       "<style>\n",
       "    .dataframe thead tr:only-child th {\n",
       "        text-align: right;\n",
       "    }\n",
       "\n",
       "    .dataframe thead th {\n",
       "        text-align: left;\n",
       "    }\n",
       "\n",
       "    .dataframe tbody tr th {\n",
       "        vertical-align: top;\n",
       "    }\n",
       "</style>\n",
       "<table border=\"1\" class=\"dataframe\">\n",
       "  <thead>\n",
       "    <tr style=\"text-align: right;\">\n",
       "      <th></th>\n",
       "      <th>country</th>\n",
       "      <th>1950</th>\n",
       "      <th>1960</th>\n",
       "      <th>1970</th>\n",
       "      <th>1980</th>\n",
       "      <th>1990</th>\n",
       "      <th>2000</th>\n",
       "      <th>2010</th>\n",
       "      <th>2018</th>\n",
       "    </tr>\n",
       "  </thead>\n",
       "  <tbody>\n",
       "    <tr>\n",
       "      <th>1</th>\n",
       "      <td>Albania</td>\n",
       "      <td>5.87</td>\n",
       "      <td>6.49</td>\n",
       "      <td>4.91</td>\n",
       "      <td>3.62</td>\n",
       "      <td>2.98</td>\n",
       "      <td>2.16</td>\n",
       "      <td>1.65</td>\n",
       "      <td>1.71</td>\n",
       "    </tr>\n",
       "  </tbody>\n",
       "</table>\n",
       "</div>"
      ],
      "text/plain": [
       "   country  1950  1960  1970  1980  1990  2000  2010  2018\n",
       "1  Albania  5.87  6.49  4.91  3.62  2.98  2.16  1.65  1.71"
      ]
     },
     "execution_count": 74,
     "metadata": {},
     "output_type": "execute_result"
    }
   ],
   "source": [
    "high_income_birth.head(1)"
   ]
  },
  {
   "cell_type": "code",
   "execution_count": 75,
   "metadata": {},
   "outputs": [
    {
     "data": {
      "text/plain": [
       "0"
      ]
     },
     "execution_count": 75,
     "metadata": {},
     "output_type": "execute_result"
    }
   ],
   "source": [
    "# checking null values, there is none\n",
    "high_income_birth.isnull().sum().sum()"
   ]
  },
  {
   "cell_type": "code",
   "execution_count": 76,
   "metadata": {},
   "outputs": [
    {
     "data": {
      "text/html": [
       "<div>\n",
       "<style>\n",
       "    .dataframe thead tr:only-child th {\n",
       "        text-align: right;\n",
       "    }\n",
       "\n",
       "    .dataframe thead th {\n",
       "        text-align: left;\n",
       "    }\n",
       "\n",
       "    .dataframe tbody tr th {\n",
       "        vertical-align: top;\n",
       "    }\n",
       "</style>\n",
       "<table border=\"1\" class=\"dataframe\">\n",
       "  <thead>\n",
       "    <tr style=\"text-align: right;\">\n",
       "      <th></th>\n",
       "      <th>1950</th>\n",
       "      <th>1960</th>\n",
       "      <th>1970</th>\n",
       "      <th>1980</th>\n",
       "      <th>1990</th>\n",
       "      <th>2000</th>\n",
       "      <th>2010</th>\n",
       "      <th>2018</th>\n",
       "    </tr>\n",
       "  </thead>\n",
       "  <tbody>\n",
       "    <tr>\n",
       "      <th>count</th>\n",
       "      <td>92.000000</td>\n",
       "      <td>92.000000</td>\n",
       "      <td>92.000000</td>\n",
       "      <td>92.000000</td>\n",
       "      <td>92.000000</td>\n",
       "      <td>92.000000</td>\n",
       "      <td>92.000000</td>\n",
       "      <td>92.000000</td>\n",
       "    </tr>\n",
       "    <tr>\n",
       "      <th>mean</th>\n",
       "      <td>4.587391</td>\n",
       "      <td>4.550326</td>\n",
       "      <td>4.040652</td>\n",
       "      <td>3.285652</td>\n",
       "      <td>2.730978</td>\n",
       "      <td>2.115435</td>\n",
       "      <td>1.995000</td>\n",
       "      <td>1.918913</td>\n",
       "    </tr>\n",
       "    <tr>\n",
       "      <th>std</th>\n",
       "      <td>1.771416</td>\n",
       "      <td>1.843716</td>\n",
       "      <td>1.847032</td>\n",
       "      <td>1.677433</td>\n",
       "      <td>1.265315</td>\n",
       "      <td>0.840647</td>\n",
       "      <td>0.669322</td>\n",
       "      <td>0.557554</td>\n",
       "    </tr>\n",
       "    <tr>\n",
       "      <th>min</th>\n",
       "      <td>1.870000</td>\n",
       "      <td>1.910000</td>\n",
       "      <td>1.830000</td>\n",
       "      <td>1.460000</td>\n",
       "      <td>1.300000</td>\n",
       "      <td>1.120000</td>\n",
       "      <td>1.190000</td>\n",
       "      <td>1.240000</td>\n",
       "    </tr>\n",
       "    <tr>\n",
       "      <th>25%</th>\n",
       "      <td>2.935000</td>\n",
       "      <td>2.707500</td>\n",
       "      <td>2.370000</td>\n",
       "      <td>2.022500</td>\n",
       "      <td>1.807500</td>\n",
       "      <td>1.500000</td>\n",
       "      <td>1.517500</td>\n",
       "      <td>1.570000</td>\n",
       "    </tr>\n",
       "    <tr>\n",
       "      <th>50%</th>\n",
       "      <td>4.490000</td>\n",
       "      <td>4.155000</td>\n",
       "      <td>3.540000</td>\n",
       "      <td>2.515000</td>\n",
       "      <td>2.250000</td>\n",
       "      <td>1.935000</td>\n",
       "      <td>1.870000</td>\n",
       "      <td>1.770000</td>\n",
       "    </tr>\n",
       "    <tr>\n",
       "      <th>75%</th>\n",
       "      <td>6.157500</td>\n",
       "      <td>6.450000</td>\n",
       "      <td>5.627500</td>\n",
       "      <td>4.212500</td>\n",
       "      <td>3.240000</td>\n",
       "      <td>2.565000</td>\n",
       "      <td>2.222500</td>\n",
       "      <td>2.032500</td>\n",
       "    </tr>\n",
       "    <tr>\n",
       "      <th>max</th>\n",
       "      <td>8.110000</td>\n",
       "      <td>7.560000</td>\n",
       "      <td>8.130000</td>\n",
       "      <td>8.300000</td>\n",
       "      <td>7.170000</td>\n",
       "      <td>5.830000</td>\n",
       "      <td>5.210000</td>\n",
       "      <td>4.510000</td>\n",
       "    </tr>\n",
       "  </tbody>\n",
       "</table>\n",
       "</div>"
      ],
      "text/plain": [
       "            1950       1960       1970       1980       1990       2000  \\\n",
       "count  92.000000  92.000000  92.000000  92.000000  92.000000  92.000000   \n",
       "mean    4.587391   4.550326   4.040652   3.285652   2.730978   2.115435   \n",
       "std     1.771416   1.843716   1.847032   1.677433   1.265315   0.840647   \n",
       "min     1.870000   1.910000   1.830000   1.460000   1.300000   1.120000   \n",
       "25%     2.935000   2.707500   2.370000   2.022500   1.807500   1.500000   \n",
       "50%     4.490000   4.155000   3.540000   2.515000   2.250000   1.935000   \n",
       "75%     6.157500   6.450000   5.627500   4.212500   3.240000   2.565000   \n",
       "max     8.110000   7.560000   8.130000   8.300000   7.170000   5.830000   \n",
       "\n",
       "            2010       2018  \n",
       "count  92.000000  92.000000  \n",
       "mean    1.995000   1.918913  \n",
       "std     0.669322   0.557554  \n",
       "min     1.190000   1.240000  \n",
       "25%     1.517500   1.570000  \n",
       "50%     1.870000   1.770000  \n",
       "75%     2.222500   2.032500  \n",
       "max     5.210000   4.510000  "
      ]
     },
     "execution_count": 76,
     "metadata": {},
     "output_type": "execute_result"
    }
   ],
   "source": [
    "high_income_birth.describe()"
   ]
  },
  {
   "cell_type": "markdown",
   "metadata": {},
   "source": [
    "By quicly having a look at the table above, we can se a much shaper decrease in  number of birth. from 4.5 in 1950 to 1.9 in  2013. with a shaper decrease from the 1980's.\n",
    "\n",
    "<p> let's plot all 4 groups to see how the differences and similiraties"
   ]
  },
  {
   "cell_type": "code",
   "execution_count": 95,
   "metadata": {},
   "outputs": [
    {
     "data": {
      "text/plain": [
       "Text(0.5,1,'Number of Babies Per Woman (Countries of all Income Level)')"
      ]
     },
     "execution_count": 95,
     "metadata": {},
     "output_type": "execute_result"
    },
    {
     "data": {
      "image/png": "[encoded data removed]",
      "text/plain": [
       "<matplotlib.figure.Figure at 0x7fd8240a34a8>"
      ]
     },
     "metadata": {
      "needs_background": "light"
     },
     "output_type": "display_data"
    }
   ],
   "source": [
    "A = low_income_birth.mean()\n",
    "B = lower_middle_income_birth.mean()\n",
    "C = upper_middle_income_birth.mean()\n",
    "D = high_income_birth.mean()\n",
    "plt.plot(A, 'r--', label='Low Income Countries')\n",
    "plt.plot(B, 'c--', label='Lower Middle Income Countries')\n",
    "plt.plot(C, 'b--', label='Upper Middle Income Countries')\n",
    "plt.plot(D, 'g--', label='High Income Countries')\n",
    "from pylab import rcParams\n",
    "rcParams['figure.figsize'] = 12,12\n",
    "plt.legend(loc='lower left')\n",
    "plt.ylabel('Number Of Babies Per Woman')\n",
    "plt.title('Number of Babies Per Woman (Countries of all Income Level)')"
   ]
  },
  {
   "cell_type": "markdown",
   "metadata": {},
   "source": [
    "We can clearly see that since the 1950's there has been a decrease in the number of birth in all countries. up to late 1960's the low income and lower income countries had same numbers of birth. but as time went by, birth in  lower middle income countries become lower than countries from the Low Income Group. \n",
    "<p> so richer countries have longer lives and fewer children. there has been negative correlation between Life expectancy and number of births, at least from the 1950's. \n",
    " <P> does that impact the economic growth? growth is based upon so many metrics but todays we will just focus on life expectancy and number of birth"
   ]
  },
  {
   "cell_type": "markdown",
   "metadata": {},
   "source": [
    "### comparaison on Growth : So richer countries  all have long life expectacncy and fewer babies. How is their growth going going? is there any  hope for the future for people from Low Income Countries \n",
    "* low_income_growth\n",
    "* lower_middle_income_growth\n",
    "* upper_middle_income_growth\n",
    "* high_income_growth"
   ]
  },
  {
   "cell_type": "markdown",
   "metadata": {},
   "source": [
    "So we can see that richer countries consistently have higher Life Expectancy and Fewer children. But isn't that at some point affecting growth? In some of the richest countries, like Japan, retreat age is being pushed and foreigners are welcome to fill in jobs because nationals are no longer enough. Growth Is dependent on so many things. but is there a relationship between growth and Fertility Rate and the life Expectancy of a country? \n",
    "let's find out in this section\n",
    "<p> as previously done, we are going to use the data that we grouped. visualize and then draw conclusions"
   ]
  },
  {
   "cell_type": "code",
   "execution_count": 78,
   "metadata": {},
   "outputs": [
    {
     "data": {
      "text/html": [
       "<div>\n",
       "<style>\n",
       "    .dataframe thead tr:only-child th {\n",
       "        text-align: right;\n",
       "    }\n",
       "\n",
       "    .dataframe thead th {\n",
       "        text-align: left;\n",
       "    }\n",
       "\n",
       "    .dataframe tbody tr th {\n",
       "        vertical-align: top;\n",
       "    }\n",
       "</style>\n",
       "<table border=\"1\" class=\"dataframe\">\n",
       "  <thead>\n",
       "    <tr style=\"text-align: right;\">\n",
       "      <th></th>\n",
       "      <th>country</th>\n",
       "      <th>1950</th>\n",
       "      <th>1960</th>\n",
       "      <th>1970</th>\n",
       "      <th>1980</th>\n",
       "      <th>1990</th>\n",
       "      <th>2000</th>\n",
       "      <th>2010</th>\n",
       "      <th>2013</th>\n",
       "    </tr>\n",
       "  </thead>\n",
       "  <tbody>\n",
       "    <tr>\n",
       "      <th>27</th>\n",
       "      <td>Burundi</td>\n",
       "      <td>0.855</td>\n",
       "      <td>1.47</td>\n",
       "      <td>26.3</td>\n",
       "      <td>6.4</td>\n",
       "      <td>3.63</td>\n",
       "      <td>-1.15</td>\n",
       "      <td>3.98</td>\n",
       "      <td>3.91</td>\n",
       "    </tr>\n",
       "  </tbody>\n",
       "</table>\n",
       "</div>"
      ],
      "text/plain": [
       "    country   1950  1960  1970  1980  1990  2000  2010  2013\n",
       "27  Burundi  0.855  1.47  26.3   6.4  3.63 -1.15  3.98  3.91"
      ]
     },
     "execution_count": 78,
     "metadata": {},
     "output_type": "execute_result"
    }
   ],
   "source": [
    "#checking the dataframe\n",
    "low_income_growth.head(1)"
   ]
  },
  {
   "cell_type": "code",
   "execution_count": 79,
   "metadata": {},
   "outputs": [
    {
     "data": {
      "text/plain": [
       "0"
      ]
     },
     "execution_count": 79,
     "metadata": {},
     "output_type": "execute_result"
    }
   ],
   "source": [
    "#checking for null values\n",
    "low_income_growth.isnull().sum().sum()"
   ]
  },
  {
   "cell_type": "code",
   "execution_count": 80,
   "metadata": {
    "scrolled": false
   },
   "outputs": [
    {
     "data": {
      "text/html": [
       "<div>\n",
       "<style>\n",
       "    .dataframe thead tr:only-child th {\n",
       "        text-align: right;\n",
       "    }\n",
       "\n",
       "    .dataframe thead th {\n",
       "        text-align: left;\n",
       "    }\n",
       "\n",
       "    .dataframe tbody tr th {\n",
       "        vertical-align: top;\n",
       "    }\n",
       "</style>\n",
       "<table border=\"1\" class=\"dataframe\">\n",
       "  <thead>\n",
       "    <tr style=\"text-align: right;\">\n",
       "      <th></th>\n",
       "      <th>country</th>\n",
       "      <th>1950</th>\n",
       "      <th>1960</th>\n",
       "      <th>1970</th>\n",
       "      <th>1980</th>\n",
       "      <th>1990</th>\n",
       "      <th>2000</th>\n",
       "      <th>2010</th>\n",
       "      <th>2013</th>\n",
       "    </tr>\n",
       "  </thead>\n",
       "  <tbody>\n",
       "    <tr>\n",
       "      <th>0</th>\n",
       "      <td>Afghanistan</td>\n",
       "      <td>1.42</td>\n",
       "      <td>3.37</td>\n",
       "      <td>1.94</td>\n",
       "      <td>-0.28</td>\n",
       "      <td>-0.885</td>\n",
       "      <td>1.74</td>\n",
       "      <td>8.04</td>\n",
       "      <td>4.47</td>\n",
       "    </tr>\n",
       "  </tbody>\n",
       "</table>\n",
       "</div>"
      ],
      "text/plain": [
       "       country  1950  1960  1970  1980   1990  2000  2010  2013\n",
       "0  Afghanistan  1.42  3.37  1.94 -0.28 -0.885  1.74  8.04  4.47"
      ]
     },
     "execution_count": 80,
     "metadata": {},
     "output_type": "execute_result"
    }
   ],
   "source": [
    "lower_middle_income_growth.head(1)"
   ]
  },
  {
   "cell_type": "code",
   "execution_count": 81,
   "metadata": {},
   "outputs": [
    {
     "data": {
      "text/plain": [
       "country    0\n",
       "1950       0\n",
       "1960       0\n",
       "1970       0\n",
       "1980       0\n",
       "1990       0\n",
       "2000       0\n",
       "2010       1\n",
       "2013       4\n",
       "dtype: int64"
      ]
     },
     "execution_count": 81,
     "metadata": {},
     "output_type": "execute_result"
    }
   ],
   "source": [
    "#Checking where null values are\n",
    "lower_middle_income_growth.isnull().sum()"
   ]
  },
  {
   "cell_type": "code",
   "execution_count": 82,
   "metadata": {},
   "outputs": [
    {
     "name": "stderr",
     "output_type": "stream",
     "text": [
      "/opt/conda/lib/python3.6/site-packages/pandas/core/generic.py:3660: SettingWithCopyWarning: \n",
      "A value is trying to be set on a copy of a slice from a DataFrame\n",
      "\n",
      "See the caveats in the documentation: http://pandas.pydata.org/pandas-docs/stable/indexing.html#indexing-view-versus-copy\n",
      "  self._update_inplace(new_data)\n"
     ]
    },
    {
     "data": {
      "text/plain": [
       "0"
      ]
     },
     "execution_count": 82,
     "metadata": {},
     "output_type": "execute_result"
    }
   ],
   "source": [
    "# replacing missing values in 2010 and 2013 with the group mean Growth of the year\n",
    "lower_middle_income_growth['2010'].fillna((lower_middle_income_growth['2010'].mean()), inplace=True)\n",
    "lower_middle_income_growth['2013'].fillna((lower_middle_income_growth['2013'].mean()), inplace=True)\n",
    "lower_middle_income_growth.isnull().sum().sum()\n"
   ]
  },
  {
   "cell_type": "code",
   "execution_count": 83,
   "metadata": {},
   "outputs": [
    {
     "data": {
      "text/plain": [
       "country    0\n",
       "1950       0\n",
       "1960       0\n",
       "1970       0\n",
       "1980       0\n",
       "1990       0\n",
       "2000       0\n",
       "2010       0\n",
       "2013       5\n",
       "dtype: int64"
      ]
     },
     "execution_count": 83,
     "metadata": {},
     "output_type": "execute_result"
    }
   ],
   "source": [
    "high_income_growth.isnull().sum()"
   ]
  },
  {
   "cell_type": "code",
   "execution_count": 84,
   "metadata": {},
   "outputs": [
    {
     "data": {
      "text/plain": [
       "1950    2.117500\n",
       "1960    3.902333\n",
       "1970    8.180500\n",
       "1980    1.417667\n",
       "1990   -9.010000\n",
       "2000    2.975167\n",
       "2010    5.713333\n",
       "2013   -1.505000\n",
       "dtype: float64"
      ]
     },
     "execution_count": 84,
     "metadata": {},
     "output_type": "execute_result"
    }
   ],
   "source": [
    "#looking for mean growth value for each decade for all the 4 groups\n",
    "low_income_growth.mean()"
   ]
  },
  {
   "cell_type": "code",
   "execution_count": 85,
   "metadata": {},
   "outputs": [
    {
     "name": "stderr",
     "output_type": "stream",
     "text": [
      "/opt/conda/lib/python3.6/site-packages/pandas/core/generic.py:3660: SettingWithCopyWarning: \n",
      "A value is trying to be set on a copy of a slice from a DataFrame\n",
      "\n",
      "See the caveats in the documentation: http://pandas.pydata.org/pandas-docs/stable/indexing.html#indexing-view-versus-copy\n",
      "  self._update_inplace(new_data)\n"
     ]
    },
    {
     "data": {
      "text/plain": [
       "0"
      ]
     },
     "execution_count": 85,
     "metadata": {},
     "output_type": "execute_result"
    }
   ],
   "source": [
    "high_income_growth['2013'].fillna((high_income_growth['2013'].mean()), inplace=True)\n",
    "high_income_growth.isnull().sum().sum()"
   ]
  },
  {
   "cell_type": "markdown",
   "metadata": {},
   "source": [
    "In Order to make a bar chart with the growth from all 4 groups. I simply used looked for the mean value for each decades(as done above). There must be different ways to do this, but since in this case we only have a small number of values, I simply copied/paste them from the cell above to the cell below. "
   ]
  },
  {
   "cell_type": "code",
   "execution_count": 98,
   "metadata": {},
   "outputs": [
    {
     "data": {
      "image/png": "[encoded data removed]",
      "text/plain": [
       "<matplotlib.figure.Figure at 0x7fd81f6b56a0>"
      ]
     },
     "metadata": {
      "needs_background": "light"
     },
     "output_type": "display_data"
    }
   ],
   "source": [
    "# data to plot\n",
    "\n",
    "n_groups = 8\n",
    "\n",
    "low_mean_growth = (2.117500,3.902333,8.180500,1.417667, -9.010000,2.975167, 5.713333,-1.505000)\n",
    "lower_mean_growth = (2.354979,4.863750 , 4.566604, -0.938271,1.970963,2.698229,5.142915, 5.499795 )\n",
    "upper_mean_growth = (4.969780,5.869163,6.669439,5.017659, 1.820954,3.109122,4.343732, 3.857488 )\n",
    "high_mean_growth = (5.617388,6.867168,6.713541,2.651132,1.405147,5.011735, 3.866864, 1.881906)\n",
    "\n",
    "fig, ax = plt.subplots()\n",
    "\n",
    "index = np.arange(n_groups)\n",
    "bar_width = 0.1\n",
    "opacity = 0.6\n",
    "\n",
    "rects1 = plt.bar(index, low_mean_growth, bar_width, \n",
    "                 alpha=opacity, color='r',label='Low Income Countries')\n",
    "rects2 = plt.bar(index + bar_width,lower_mean_growth, bar_width, \n",
    "                 alpha=opacity, color='c', label='Lower Income Countries')\n",
    "rects3 = plt.bar(index + bar_width + bar_width,upper_mean_growth, bar_width, \n",
    "                 alpha=opacity,  color='b', label='Upper Middle Income Countries')\n",
    "rects4 = plt.bar(index + bar_width + bar_width + bar_width,high_mean_growth, bar_width, \n",
    "                 alpha=opacity, color='g', label='High Income Countries')\n",
    "rcParams['figure.figsize'] = 12,12\n",
    "\n",
    "ax.set_xlabel('Years')\n",
    "ax.set_ylabel('Economic Growth in % of GDP')\n",
    "ax.set_title('Economic Growth for All Countries From 1950 to 2013, Grouped By Income Level')\n",
    "ax.set_xticks(index + bar_width / 4)\n",
    "ax.set_xticklabels(('1950', '1960', '1970', '1980', '1990', '2000',\n",
    "                           '2010', '2013'))\n",
    "\n",
    "ax.legend()\n",
    "fig.tight_layout()\n",
    "plt.show()"
   ]
  },
  {
   "cell_type": "code",
   "execution_count": 87,
   "metadata": {},
   "outputs": [
    {
     "data": {
      "text/html": [
       "<div>\n",
       "<style>\n",
       "    .dataframe thead tr:only-child th {\n",
       "        text-align: right;\n",
       "    }\n",
       "\n",
       "    .dataframe thead th {\n",
       "        text-align: left;\n",
       "    }\n",
       "\n",
       "    .dataframe tbody tr th {\n",
       "        vertical-align: top;\n",
       "    }\n",
       "</style>\n",
       "<table border=\"1\" class=\"dataframe\">\n",
       "  <thead>\n",
       "    <tr style=\"text-align: right;\">\n",
       "      <th></th>\n",
       "      <th>country</th>\n",
       "      <th>1950</th>\n",
       "      <th>1960</th>\n",
       "      <th>1970</th>\n",
       "      <th>1980</th>\n",
       "      <th>1990</th>\n",
       "      <th>2000</th>\n",
       "      <th>2010</th>\n",
       "      <th>2013</th>\n",
       "    </tr>\n",
       "  </thead>\n",
       "  <tbody>\n",
       "    <tr>\n",
       "      <th>27</th>\n",
       "      <td>Burundi</td>\n",
       "      <td>0.855</td>\n",
       "      <td>1.470</td>\n",
       "      <td>26.300</td>\n",
       "      <td>6.400</td>\n",
       "      <td>3.63</td>\n",
       "      <td>-1.150</td>\n",
       "      <td>3.98</td>\n",
       "      <td>3.91</td>\n",
       "    </tr>\n",
       "    <tr>\n",
       "      <th>32</th>\n",
       "      <td>Central African Republic</td>\n",
       "      <td>5.200</td>\n",
       "      <td>0.674</td>\n",
       "      <td>4.210</td>\n",
       "      <td>-0.894</td>\n",
       "      <td>3.09</td>\n",
       "      <td>1.720</td>\n",
       "      <td>2.46</td>\n",
       "      <td>-36.00</td>\n",
       "    </tr>\n",
       "    <tr>\n",
       "      <th>38</th>\n",
       "      <td>Congo, Dem. Rep.</td>\n",
       "      <td>1.990</td>\n",
       "      <td>9.540</td>\n",
       "      <td>-0.187</td>\n",
       "      <td>2.410</td>\n",
       "      <td>-6.58</td>\n",
       "      <td>-6.900</td>\n",
       "      <td>7.19</td>\n",
       "      <td>8.11</td>\n",
       "    </tr>\n",
       "    <tr>\n",
       "      <th>94</th>\n",
       "      <td>Liberia</td>\n",
       "      <td>2.200</td>\n",
       "      <td>2.900</td>\n",
       "      <td>6.410</td>\n",
       "      <td>-6.290</td>\n",
       "      <td>-51.00</td>\n",
       "      <td>22.400</td>\n",
       "      <td>7.26</td>\n",
       "      <td>7.81</td>\n",
       "    </tr>\n",
       "    <tr>\n",
       "      <th>124</th>\n",
       "      <td>Niger</td>\n",
       "      <td>1.190</td>\n",
       "      <td>7.310</td>\n",
       "      <td>3.890</td>\n",
       "      <td>5.220</td>\n",
       "      <td>-1.47</td>\n",
       "      <td>-0.779</td>\n",
       "      <td>11.20</td>\n",
       "      <td>4.03</td>\n",
       "    </tr>\n",
       "    <tr>\n",
       "      <th>155</th>\n",
       "      <td>Somalia</td>\n",
       "      <td>1.270</td>\n",
       "      <td>1.520</td>\n",
       "      <td>8.460</td>\n",
       "      <td>1.660</td>\n",
       "      <td>-1.73</td>\n",
       "      <td>2.560</td>\n",
       "      <td>2.19</td>\n",
       "      <td>3.11</td>\n",
       "    </tr>\n",
       "  </tbody>\n",
       "</table>\n",
       "</div>"
      ],
      "text/plain": [
       "                      country   1950   1960    1970   1980   1990    2000  \\\n",
       "27                    Burundi  0.855  1.470  26.300  6.400   3.63  -1.150   \n",
       "32   Central African Republic  5.200  0.674   4.210 -0.894   3.09   1.720   \n",
       "38           Congo, Dem. Rep.  1.990  9.540  -0.187  2.410  -6.58  -6.900   \n",
       "94                    Liberia  2.200  2.900   6.410 -6.290 -51.00  22.400   \n",
       "124                     Niger  1.190  7.310   3.890  5.220  -1.47  -0.779   \n",
       "155                   Somalia  1.270  1.520   8.460  1.660  -1.73   2.560   \n",
       "\n",
       "      2010   2013  \n",
       "27    3.98   3.91  \n",
       "32    2.46 -36.00  \n",
       "38    7.19   8.11  \n",
       "94    7.26   7.81  \n",
       "124  11.20   4.03  \n",
       "155   2.19   3.11  "
      ]
     },
     "execution_count": 87,
     "metadata": {},
     "output_type": "execute_result"
    }
   ],
   "source": [
    "# checking growth in the low income group\n",
    "#looking at the 1990 column in the low income group to understand \n",
    "low_income_growth"
   ]
  },
  {
   "cell_type": "markdown",
   "metadata": {},
   "source": [
    "so from the chart above shows growth for each group in the years 1950, 1960, 1970, 1980, 1990, 2000, 2010 and 2013. we can see that the low income group had a huge growth in 1970. and one really visible negative value in 1990. the data looked so strange that I had to look at the data once again. (check the table above)<br>\n",
    "and one big outlier was Liberia with -51.00 in the year 1990. By making a quick google search, I could notice that year the country knew a civil war. my first attempt was to remove this extreme value but since 4 out of 6 countries in that group had negative values that year, I decided to leave the plot as is. https://en.wikipedia.org/wiki/First_Liberian_Civil_War. \n",
    "<p> apart from negative growth in 1980 for lower middle income countries and another negative value in 2013 for the low income countries in 2013, all groups seemed to have enjoyed growth at different levels. \n",
    "Since I could not really observe any tendencies, I decided to also plot a line graph with the same data. as shown below\n"
   ]
  },
  {
   "cell_type": "code",
   "execution_count": 99,
   "metadata": {},
   "outputs": [
    {
     "data": {
      "text/plain": [
       "Text(0.5,1,'Economic Growth for All Countries From 1950 to 2013, Grouped By Income Level')"
      ]
     },
     "execution_count": 99,
     "metadata": {},
     "output_type": "execute_result"
    },
    {
     "data": {
      "image/png": "[encoded data removed]",
      "text/plain": [
       "<matplotlib.figure.Figure at 0x7fd81f78ba90>"
      ]
     },
     "metadata": {
      "needs_background": "light"
     },
     "output_type": "display_data"
    }
   ],
   "source": [
    "A = low_income_growth.mean()\n",
    "B = lower_middle_income_growth.mean()\n",
    "C = upper_middle_income_growth.mean()\n",
    "D = high_income_growth.mean()\n",
    "plt.plot(A, 'r-.', label='Low Income Countries')\n",
    "plt.plot(B, 'c-.', label='Lower Middle Income Countries')\n",
    "plt.plot(C, 'b-.', label='Upper Middle Income Countries')\n",
    "plt.plot(D, 'g-.', label='High Income Countries')\n",
    "from pylab import rcParams\n",
    "rcParams['figure.figsize'] = 8,8\n",
    "plt.legend(loc='lower left')\n",
    "plt.ylabel('Economic Growth in % of GDP')\n",
    "plt.title('Economic Growth for All Countries From 1950 to 2013, Grouped By Income Level')"
   ]
  },
  {
   "cell_type": "markdown",
   "metadata": {},
   "source": [
    "This graphs shows better the more erratic tendencies in growth. the green and blue line which the 2 richest group did not fall below 0 of growth but have benefited for less spectacular number in general. In 2013, which is how far the data is available, we can see that lower middle income are benefiting from the highest growth. <br>\n",
    "But at the opposite of the previous metrics, not patterns can be observed. "
   ]
  },
  {
   "cell_type": "markdown",
   "metadata": {},
   "source": [
    "<a id='conclusions'></a>\n",
    "## Conclusions\n",
    "\n",
    "\n",
    ">* we are at the end of this analysis. we could see that people in richer country enjoyed a longer life in average compared to people with a smaller GDP. <br> And that people in less wealthy countries had more children in average comparing to people in richer countries. \n",
    "* Life expectancy and fertility rate are negatively correlated. even if this analysis could not show any causation. so this is a mere observation.\n",
    "* This analysis could only show that economic growth knows more pronounced changes than the other variables. but based on this analysis alone, it is hard to draw any conclusions on any relationships between longevity, fertiliy and economic growth as a trio. \n",
    "* GDP VS GNI : As previously explained the data used to group the country is the GDP of each country. but instead of using Quartiles,I used the world bank measurement which to be a more realistics measures. But Again, it is not a perfect measure so please take this classification with a grain of salt. the GNI is the measure used in 2018 by the world bank to classify countries by Income.\n",
    "* 2018 vs 2013 : the data in the life expectancy, number of babies per woman and countries's GDP were all up to 2018. the Growth Dataset only had data up to 2013. But again the grouping was made based on each countries 2018's GDP. <br> since the goal was to look how the different metrics have evolved in the last decades. "
   ]
  },
  {
   "cell_type": "markdown",
   "metadata": {},
   "source": [
    "Personally this analysis left me a little sad. My secret hope had been that all  countries or almost all countries had been benefiting from a steady growth since the 1950' and 1960's.<br> \n",
    "So I went to look one more time at the proportion of each group. and it made me feel a little better. \n",
    "<p> As shown  on the pie chart below, more than 70% of countries are either in High income group (50.8%) or in the upper middle Income countries (21.2%)\n",
    "<br> And only 3.1% of the countries are in the Low income Group. <br>\n",
    "Again please take this classification with a grain of salt. \n",
    "The chart with proportions is below"
   ]
  },
  {
   "cell_type": "markdown",
   "metadata": {},
   "source": [
    "### Proportions of Each Income Level Group"
   ]
  },
  {
   "cell_type": "code",
   "execution_count": 89,
   "metadata": {},
   "outputs": [
    {
     "data": {
      "image/png": "[encoded data removed]",
      "text/plain": [
       "<matplotlib.figure.Figure at 0x7fd825498630>"
      ]
     },
     "metadata": {},
     "output_type": "display_data"
    }
   ],
   "source": [
    "labels = 'Low Income Countries', 'Lower Middle Income Countries', 'Upper Middle Income Countries', 'High Income Countries'\n",
    "sizes = [low_income.country.count(),lower_middle_income.country.count() ,\n",
    "         upper_middle_income.country.count(),high_income.country.count() ]\n",
    "colors = ('red', 'cyan', 'b', 'g')\n",
    "explode = (0.1, 0.1, 0, 0)  # only \"explode\" 1st & 2nd slice \n",
    "\n",
    "fig1, ax1 = plt.subplots()\n",
    "\n",
    "ax1.pie(sizes, explode=explode, labels=labels, autopct='%1.1f%%',\n",
    "        shadow=True, startangle=90, colors=colors)\n",
    "rcParams['figure.figsize'] = 5,5\n",
    "ax1.axis('equal')  # Equal aspect ratio ensures that pie is drawn as a circle.\n",
    "\n",
    "plt.show()"
   ]
  },
  {
   "cell_type": "markdown",
   "metadata": {},
   "source": [
    "This is the end, Thank you."
   ]
  },
  {
   "cell_type": "code",
   "execution_count": 90,
   "metadata": {},
   "outputs": [
    {
     "data": {
      "text/plain": [
       "0"
      ]
     },
     "execution_count": 90,
     "metadata": {},
     "output_type": "execute_result"
    }
   ],
   "source": [
    "from subprocess import call\n",
    "call(['python', '-m', 'nbconvert', 'Investigate_a_Dataset.ipynb'])"
   ]
  }
 ],
 "metadata": {
  "kernelspec": {
   "display_name": "Python 3",
   "language": "python",
   "name": "python3"
  },
  "language_info": {
   "codemirror_mode": {
    "name": "ipython",
    "version": 3
   },
   "file_extension": ".py",
   "mimetype": "text/x-python",
   "name": "python",
   "nbconvert_exporter": "python",
   "pygments_lexer": "ipython3",
   "version": "3.6.3"
  }
 },
 "nbformat": 4,
 "nbformat_minor": 2
}
